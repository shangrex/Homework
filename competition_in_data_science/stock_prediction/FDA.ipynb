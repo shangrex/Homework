{
 "metadata": {
  "language_info": {
   "codemirror_mode": {
    "name": "ipython",
    "version": 3
   },
   "file_extension": ".py",
   "mimetype": "text/x-python",
   "name": "python",
   "nbconvert_exporter": "python",
   "pygments_lexer": "ipython3",
   "version": "3.8.5"
  },
  "orig_nbformat": 2,
  "kernelspec": {
   "name": "python38564bitvenvvenva547ef891adb41d4adfa62c0f1eb3354",
   "display_name": "Python 3.8.5  ('.venv': pipenv)"
  },
  "metadata": {
   "interpreter": {
    "hash": "20d43e91f2a6d8b0246c38f4bd8119303d6adc1b6bfab92a90cffbaf9ed3bfe8"
   }
  }
 },
 "nbformat": 4,
 "nbformat_minor": 2,
 "cells": [
  {
   "cell_type": "code",
   "execution_count": 2,
   "metadata": {},
   "outputs": [],
   "source": [
    "import pandas as pd\n",
    "import numpy as np\n",
    "import matplotlib.pyplot as plt\n",
    "import plotly.graph_objs as go\n",
    "import plotly.express as px\n",
    "import plotly.io as pio\n",
    "from keras.models import Sequential\n",
    "from keras.layers import Dense\n",
    "from keras.layers import LSTM\n",
    "from keras.layers import Dropout\n",
    "import math\n",
    "from keras.callbacks import EarlyStopping\n",
    "%matplotlib inline\n",
    "\n",
    "seed_value = 12345\n",
    "import random\n",
    "random.seed(seed_value)\n",
    "import numpy as np\n",
    "np.random.seed(seed_value)\n",
    "import tensorflow as tf\n",
    "tf.random.set_seed(seed_value)"
   ]
  },
  {
   "cell_type": "code",
   "execution_count": 3,
   "metadata": {},
   "outputs": [],
   "source": [
    "train = pd.read_csv('training.csv', names=['open', 'high', 'low', 'close'])\n",
    "test = pd.read_csv('testing.csv', names=['open', 'high', 'low', 'close'])\n",
    "all_data = train.append(test)\n"
   ]
  },
  {
   "cell_type": "code",
   "execution_count": 4,
   "metadata": {},
   "outputs": [
    {
     "output_type": "stream",
     "name": "stdout",
     "text": [
      "<class 'pandas.core.frame.DataFrame'>\nRangeIndex: 1488 entries, 0 to 1487\nData columns (total 4 columns):\n #   Column  Non-Null Count  Dtype  \n---  ------  --------------  -----  \n 0   open    1488 non-null   float64\n 1   high    1488 non-null   float64\n 2   low     1488 non-null   float64\n 3   close   1488 non-null   float64\ndtypes: float64(4)\nmemory usage: 46.6 KB\nNone\n              open         high          low        close\ncount  1488.000000  1488.000000  1488.000000  1488.000000\nmean    172.964288   174.124227   171.883642   173.011888\nstd      21.865051    21.946438    21.838432    21.891710\nmin     118.460000   119.660000   116.900000   117.850000\n25%     154.187500   155.315000   153.177500   154.125000\n50%     173.925000   174.985000   172.975000   174.010000\n75%     192.002500   193.257500   190.932500   192.090000\nmax     215.380000   215.900000   214.300000   215.800000\n<class 'pandas.core.frame.DataFrame'>\nRangeIndex: 20 entries, 0 to 19\nData columns (total 4 columns):\n #   Column  Non-Null Count  Dtype  \n---  ------  --------------  -----  \n 0   open    20 non-null     float64\n 1   high    20 non-null     float64\n 2   low     20 non-null     float64\n 3   close   20 non-null     float64\ndtypes: float64(4)\nmemory usage: 768.0 bytes\nNone\n             open       high         low       close\ncount   20.000000   20.00000   20.000000   20.000000\nmean   154.271500  154.91100  153.335500  153.927000\nstd      1.376518    1.37057    1.051943    1.338853\nmin    151.820000  153.00000  151.490000  151.500000\n25%    153.492500  153.88250  152.737500  153.085000\n50%    154.075000  154.58500  153.235000  153.740000\n75%    154.972500  155.97250  153.940000  154.772500\nmax    156.740000  157.85000  155.160000  156.740000\n<class 'pandas.core.frame.DataFrame'>\nInt64Index: 1508 entries, 0 to 19\nData columns (total 4 columns):\n #   Column  Non-Null Count  Dtype  \n---  ------  --------------  -----  \n 0   open    1508 non-null   float64\n 1   high    1508 non-null   float64\n 2   low     1508 non-null   float64\n 3   close   1508 non-null   float64\ndtypes: float64(4)\nmemory usage: 58.9 KB\nNone\n              open         high          low        close\ncount  1508.000000  1508.000000  1508.000000  1508.000000\nmean    172.716373   173.869410   171.637646   172.758773\nstd      21.825108    21.911455    21.796948    21.855870\nmin     118.460000   119.660000   116.900000   117.850000\n25%     154.040000   154.937500   153.080000   154.000000\n50%     173.485000   174.465000   172.585000   173.575000\n75%     191.812500   193.077500   190.785000   191.950000\nmax     215.380000   215.900000   214.300000   215.800000\n"
     ]
    }
   ],
   "source": [
    "print(train.info())\n",
    "print(train.describe())\n",
    "print(test.info())\n",
    "print(test.describe())\n",
    "print(all_data.info())\n",
    "print(all_data.describe())"
   ]
  },
  {
   "cell_type": "code",
   "execution_count": 5,
   "metadata": {},
   "outputs": [
    {
     "output_type": "display_data",
     "data": {
      "application/vnd.plotly.v1+json": {
       "config": {
        "plotlyServerURL": "https://plot.ly"
       },
       "data": [
        {
         "hovertemplate": "variable=open<br>index=%{x}<br>value=%{y}<extra></extra>",
         "legendgroup": "open",
         "line": {
          "color": "#636efa",
          "dash": "solid"
         },
         "mode": "lines",
         "name": "open",
         "orientation": "v",
         "showlegend": true,
         "type": "scatter",
         "x": [
          0,
          1,
          2,
          3,
          4,
          5,
          6,
          7,
          8,
          9,
          10,
          11,
          12,
          13,
          14,
          15,
          16,
          17,
          18,
          19
         ],
         "xaxis": "x",
         "y": [
          154.4,
          155.96,
          156.45,
          154.1,
          153.59,
          154.81,
          155.46,
          156.74,
          156.6,
          154.6,
          153.61,
          153.59,
          154.05,
          153.65,
          153.17,
          151.82,
          152.51,
          152.95,
          153.2,
          154.17
         ],
         "yaxis": "y"
        },
        {
         "hovertemplate": "variable=close<br>index=%{x}<br>value=%{y}<extra></extra>",
         "legendgroup": "close",
         "line": {
          "color": "#EF553B",
          "dash": "solid"
         },
         "mode": "lines",
         "name": "close",
         "orientation": "v",
         "showlegend": true,
         "type": "scatter",
         "x": [
          0,
          1,
          2,
          3,
          4,
          5,
          6,
          7,
          8,
          9,
          10,
          11,
          12,
          13,
          14,
          15,
          16,
          17,
          18,
          19
         ],
         "xaxis": "x",
         "y": [
          154.76,
          156.46,
          155.35,
          154.1,
          153.57,
          154.81,
          155.41,
          156.74,
          153.91,
          154,
          152.5,
          153.33,
          153.23,
          152.95,
          151.5,
          152.5,
          152.83,
          153.13,
          154.04,
          153.42
         ],
         "yaxis": "y"
        },
        {
         "hovertemplate": "variable=high<br>index=%{x}<br>value=%{y}<extra></extra>",
         "legendgroup": "high",
         "line": {
          "color": "#00cc96",
          "dash": "solid"
         },
         "mode": "lines",
         "name": "high",
         "orientation": "v",
         "showlegend": true,
         "type": "scatter",
         "x": [
          0,
          1,
          2,
          3,
          4,
          5,
          6,
          7,
          8,
          9,
          10,
          11,
          12,
          13,
          14,
          15,
          16,
          17,
          18,
          19
         ],
         "xaxis": "x",
         "y": [
          155.02,
          156.8,
          156.74,
          156.22,
          154.45,
          155.03,
          155.89,
          157.85,
          156.73,
          155.11,
          153.8,
          154.18,
          154.17,
          153.89,
          153.46,
          153,
          153.86,
          153.18,
          154.12,
          154.72
         ],
         "yaxis": "y"
        },
        {
         "hovertemplate": "variable=low<br>index=%{x}<br>value=%{y}<extra></extra>",
         "legendgroup": "low",
         "line": {
          "color": "#ab63fa",
          "dash": "solid"
         },
         "mode": "lines",
         "name": "low",
         "orientation": "v",
         "showlegend": true,
         "type": "scatter",
         "x": [
          0,
          1,
          2,
          3,
          4,
          5,
          6,
          7,
          8,
          9,
          10,
          11,
          12,
          13,
          14,
          15,
          16,
          17,
          18,
          19
         ],
         "xaxis": "x",
         "y": [
          152.91,
          155.07,
          154.68,
          154.09,
          153.26,
          153.55,
          154.57,
          155.16,
          153.89,
          153.7,
          152.03,
          153.21,
          153.09,
          152.78,
          151.49,
          151.5,
          152.5,
          152.61,
          153.2,
          153.42
         ],
         "yaxis": "y"
        }
       ],
       "layout": {
        "legend": {
         "title": {
          "text": "variable"
         },
         "tracegroupgap": 0
        },
        "margin": {
         "t": 60
        },
        "template": {
         "data": {
          "bar": [
           {
            "error_x": {
             "color": "#2a3f5f"
            },
            "error_y": {
             "color": "#2a3f5f"
            },
            "marker": {
             "line": {
              "color": "#E5ECF6",
              "width": 0.5
             }
            },
            "type": "bar"
           }
          ],
          "barpolar": [
           {
            "marker": {
             "line": {
              "color": "#E5ECF6",
              "width": 0.5
             }
            },
            "type": "barpolar"
           }
          ],
          "carpet": [
           {
            "aaxis": {
             "endlinecolor": "#2a3f5f",
             "gridcolor": "white",
             "linecolor": "white",
             "minorgridcolor": "white",
             "startlinecolor": "#2a3f5f"
            },
            "baxis": {
             "endlinecolor": "#2a3f5f",
             "gridcolor": "white",
             "linecolor": "white",
             "minorgridcolor": "white",
             "startlinecolor": "#2a3f5f"
            },
            "type": "carpet"
           }
          ],
          "choropleth": [
           {
            "colorbar": {
             "outlinewidth": 0,
             "ticks": ""
            },
            "type": "choropleth"
           }
          ],
          "contour": [
           {
            "colorbar": {
             "outlinewidth": 0,
             "ticks": ""
            },
            "colorscale": [
             [
              0,
              "#0d0887"
             ],
             [
              0.1111111111111111,
              "#46039f"
             ],
             [
              0.2222222222222222,
              "#7201a8"
             ],
             [
              0.3333333333333333,
              "#9c179e"
             ],
             [
              0.4444444444444444,
              "#bd3786"
             ],
             [
              0.5555555555555556,
              "#d8576b"
             ],
             [
              0.6666666666666666,
              "#ed7953"
             ],
             [
              0.7777777777777778,
              "#fb9f3a"
             ],
             [
              0.8888888888888888,
              "#fdca26"
             ],
             [
              1,
              "#f0f921"
             ]
            ],
            "type": "contour"
           }
          ],
          "contourcarpet": [
           {
            "colorbar": {
             "outlinewidth": 0,
             "ticks": ""
            },
            "type": "contourcarpet"
           }
          ],
          "heatmap": [
           {
            "colorbar": {
             "outlinewidth": 0,
             "ticks": ""
            },
            "colorscale": [
             [
              0,
              "#0d0887"
             ],
             [
              0.1111111111111111,
              "#46039f"
             ],
             [
              0.2222222222222222,
              "#7201a8"
             ],
             [
              0.3333333333333333,
              "#9c179e"
             ],
             [
              0.4444444444444444,
              "#bd3786"
             ],
             [
              0.5555555555555556,
              "#d8576b"
             ],
             [
              0.6666666666666666,
              "#ed7953"
             ],
             [
              0.7777777777777778,
              "#fb9f3a"
             ],
             [
              0.8888888888888888,
              "#fdca26"
             ],
             [
              1,
              "#f0f921"
             ]
            ],
            "type": "heatmap"
           }
          ],
          "heatmapgl": [
           {
            "colorbar": {
             "outlinewidth": 0,
             "ticks": ""
            },
            "colorscale": [
             [
              0,
              "#0d0887"
             ],
             [
              0.1111111111111111,
              "#46039f"
             ],
             [
              0.2222222222222222,
              "#7201a8"
             ],
             [
              0.3333333333333333,
              "#9c179e"
             ],
             [
              0.4444444444444444,
              "#bd3786"
             ],
             [
              0.5555555555555556,
              "#d8576b"
             ],
             [
              0.6666666666666666,
              "#ed7953"
             ],
             [
              0.7777777777777778,
              "#fb9f3a"
             ],
             [
              0.8888888888888888,
              "#fdca26"
             ],
             [
              1,
              "#f0f921"
             ]
            ],
            "type": "heatmapgl"
           }
          ],
          "histogram": [
           {
            "marker": {
             "colorbar": {
              "outlinewidth": 0,
              "ticks": ""
             }
            },
            "type": "histogram"
           }
          ],
          "histogram2d": [
           {
            "colorbar": {
             "outlinewidth": 0,
             "ticks": ""
            },
            "colorscale": [
             [
              0,
              "#0d0887"
             ],
             [
              0.1111111111111111,
              "#46039f"
             ],
             [
              0.2222222222222222,
              "#7201a8"
             ],
             [
              0.3333333333333333,
              "#9c179e"
             ],
             [
              0.4444444444444444,
              "#bd3786"
             ],
             [
              0.5555555555555556,
              "#d8576b"
             ],
             [
              0.6666666666666666,
              "#ed7953"
             ],
             [
              0.7777777777777778,
              "#fb9f3a"
             ],
             [
              0.8888888888888888,
              "#fdca26"
             ],
             [
              1,
              "#f0f921"
             ]
            ],
            "type": "histogram2d"
           }
          ],
          "histogram2dcontour": [
           {
            "colorbar": {
             "outlinewidth": 0,
             "ticks": ""
            },
            "colorscale": [
             [
              0,
              "#0d0887"
             ],
             [
              0.1111111111111111,
              "#46039f"
             ],
             [
              0.2222222222222222,
              "#7201a8"
             ],
             [
              0.3333333333333333,
              "#9c179e"
             ],
             [
              0.4444444444444444,
              "#bd3786"
             ],
             [
              0.5555555555555556,
              "#d8576b"
             ],
             [
              0.6666666666666666,
              "#ed7953"
             ],
             [
              0.7777777777777778,
              "#fb9f3a"
             ],
             [
              0.8888888888888888,
              "#fdca26"
             ],
             [
              1,
              "#f0f921"
             ]
            ],
            "type": "histogram2dcontour"
           }
          ],
          "mesh3d": [
           {
            "colorbar": {
             "outlinewidth": 0,
             "ticks": ""
            },
            "type": "mesh3d"
           }
          ],
          "parcoords": [
           {
            "line": {
             "colorbar": {
              "outlinewidth": 0,
              "ticks": ""
             }
            },
            "type": "parcoords"
           }
          ],
          "pie": [
           {
            "automargin": true,
            "type": "pie"
           }
          ],
          "scatter": [
           {
            "marker": {
             "colorbar": {
              "outlinewidth": 0,
              "ticks": ""
             }
            },
            "type": "scatter"
           }
          ],
          "scatter3d": [
           {
            "line": {
             "colorbar": {
              "outlinewidth": 0,
              "ticks": ""
             }
            },
            "marker": {
             "colorbar": {
              "outlinewidth": 0,
              "ticks": ""
             }
            },
            "type": "scatter3d"
           }
          ],
          "scattercarpet": [
           {
            "marker": {
             "colorbar": {
              "outlinewidth": 0,
              "ticks": ""
             }
            },
            "type": "scattercarpet"
           }
          ],
          "scattergeo": [
           {
            "marker": {
             "colorbar": {
              "outlinewidth": 0,
              "ticks": ""
             }
            },
            "type": "scattergeo"
           }
          ],
          "scattergl": [
           {
            "marker": {
             "colorbar": {
              "outlinewidth": 0,
              "ticks": ""
             }
            },
            "type": "scattergl"
           }
          ],
          "scattermapbox": [
           {
            "marker": {
             "colorbar": {
              "outlinewidth": 0,
              "ticks": ""
             }
            },
            "type": "scattermapbox"
           }
          ],
          "scatterpolar": [
           {
            "marker": {
             "colorbar": {
              "outlinewidth": 0,
              "ticks": ""
             }
            },
            "type": "scatterpolar"
           }
          ],
          "scatterpolargl": [
           {
            "marker": {
             "colorbar": {
              "outlinewidth": 0,
              "ticks": ""
             }
            },
            "type": "scatterpolargl"
           }
          ],
          "scatterternary": [
           {
            "marker": {
             "colorbar": {
              "outlinewidth": 0,
              "ticks": ""
             }
            },
            "type": "scatterternary"
           }
          ],
          "surface": [
           {
            "colorbar": {
             "outlinewidth": 0,
             "ticks": ""
            },
            "colorscale": [
             [
              0,
              "#0d0887"
             ],
             [
              0.1111111111111111,
              "#46039f"
             ],
             [
              0.2222222222222222,
              "#7201a8"
             ],
             [
              0.3333333333333333,
              "#9c179e"
             ],
             [
              0.4444444444444444,
              "#bd3786"
             ],
             [
              0.5555555555555556,
              "#d8576b"
             ],
             [
              0.6666666666666666,
              "#ed7953"
             ],
             [
              0.7777777777777778,
              "#fb9f3a"
             ],
             [
              0.8888888888888888,
              "#fdca26"
             ],
             [
              1,
              "#f0f921"
             ]
            ],
            "type": "surface"
           }
          ],
          "table": [
           {
            "cells": {
             "fill": {
              "color": "#EBF0F8"
             },
             "line": {
              "color": "white"
             }
            },
            "header": {
             "fill": {
              "color": "#C8D4E3"
             },
             "line": {
              "color": "white"
             }
            },
            "type": "table"
           }
          ]
         },
         "layout": {
          "annotationdefaults": {
           "arrowcolor": "#2a3f5f",
           "arrowhead": 0,
           "arrowwidth": 1
          },
          "autotypenumbers": "strict",
          "coloraxis": {
           "colorbar": {
            "outlinewidth": 0,
            "ticks": ""
           }
          },
          "colorscale": {
           "diverging": [
            [
             0,
             "#8e0152"
            ],
            [
             0.1,
             "#c51b7d"
            ],
            [
             0.2,
             "#de77ae"
            ],
            [
             0.3,
             "#f1b6da"
            ],
            [
             0.4,
             "#fde0ef"
            ],
            [
             0.5,
             "#f7f7f7"
            ],
            [
             0.6,
             "#e6f5d0"
            ],
            [
             0.7,
             "#b8e186"
            ],
            [
             0.8,
             "#7fbc41"
            ],
            [
             0.9,
             "#4d9221"
            ],
            [
             1,
             "#276419"
            ]
           ],
           "sequential": [
            [
             0,
             "#0d0887"
            ],
            [
             0.1111111111111111,
             "#46039f"
            ],
            [
             0.2222222222222222,
             "#7201a8"
            ],
            [
             0.3333333333333333,
             "#9c179e"
            ],
            [
             0.4444444444444444,
             "#bd3786"
            ],
            [
             0.5555555555555556,
             "#d8576b"
            ],
            [
             0.6666666666666666,
             "#ed7953"
            ],
            [
             0.7777777777777778,
             "#fb9f3a"
            ],
            [
             0.8888888888888888,
             "#fdca26"
            ],
            [
             1,
             "#f0f921"
            ]
           ],
           "sequentialminus": [
            [
             0,
             "#0d0887"
            ],
            [
             0.1111111111111111,
             "#46039f"
            ],
            [
             0.2222222222222222,
             "#7201a8"
            ],
            [
             0.3333333333333333,
             "#9c179e"
            ],
            [
             0.4444444444444444,
             "#bd3786"
            ],
            [
             0.5555555555555556,
             "#d8576b"
            ],
            [
             0.6666666666666666,
             "#ed7953"
            ],
            [
             0.7777777777777778,
             "#fb9f3a"
            ],
            [
             0.8888888888888888,
             "#fdca26"
            ],
            [
             1,
             "#f0f921"
            ]
           ]
          },
          "colorway": [
           "#636efa",
           "#EF553B",
           "#00cc96",
           "#ab63fa",
           "#FFA15A",
           "#19d3f3",
           "#FF6692",
           "#B6E880",
           "#FF97FF",
           "#FECB52"
          ],
          "font": {
           "color": "#2a3f5f"
          },
          "geo": {
           "bgcolor": "white",
           "lakecolor": "white",
           "landcolor": "#E5ECF6",
           "showlakes": true,
           "showland": true,
           "subunitcolor": "white"
          },
          "hoverlabel": {
           "align": "left"
          },
          "hovermode": "closest",
          "mapbox": {
           "style": "light"
          },
          "paper_bgcolor": "white",
          "plot_bgcolor": "#E5ECF6",
          "polar": {
           "angularaxis": {
            "gridcolor": "white",
            "linecolor": "white",
            "ticks": ""
           },
           "bgcolor": "#E5ECF6",
           "radialaxis": {
            "gridcolor": "white",
            "linecolor": "white",
            "ticks": ""
           }
          },
          "scene": {
           "xaxis": {
            "backgroundcolor": "#E5ECF6",
            "gridcolor": "white",
            "gridwidth": 2,
            "linecolor": "white",
            "showbackground": true,
            "ticks": "",
            "zerolinecolor": "white"
           },
           "yaxis": {
            "backgroundcolor": "#E5ECF6",
            "gridcolor": "white",
            "gridwidth": 2,
            "linecolor": "white",
            "showbackground": true,
            "ticks": "",
            "zerolinecolor": "white"
           },
           "zaxis": {
            "backgroundcolor": "#E5ECF6",
            "gridcolor": "white",
            "gridwidth": 2,
            "linecolor": "white",
            "showbackground": true,
            "ticks": "",
            "zerolinecolor": "white"
           }
          },
          "shapedefaults": {
           "line": {
            "color": "#2a3f5f"
           }
          },
          "ternary": {
           "aaxis": {
            "gridcolor": "white",
            "linecolor": "white",
            "ticks": ""
           },
           "baxis": {
            "gridcolor": "white",
            "linecolor": "white",
            "ticks": ""
           },
           "bgcolor": "#E5ECF6",
           "caxis": {
            "gridcolor": "white",
            "linecolor": "white",
            "ticks": ""
           }
          },
          "title": {
           "x": 0.05
          },
          "xaxis": {
           "automargin": true,
           "gridcolor": "white",
           "linecolor": "white",
           "ticks": "",
           "title": {
            "standoff": 15
           },
           "zerolinecolor": "white",
           "zerolinewidth": 2
          },
          "yaxis": {
           "automargin": true,
           "gridcolor": "white",
           "linecolor": "white",
           "ticks": "",
           "title": {
            "standoff": 15
           },
           "zerolinecolor": "white",
           "zerolinewidth": 2
          }
         }
        },
        "title": {
         "text": "IBM's stock"
        },
        "xaxis": {
         "anchor": "y",
         "domain": [
          0,
          1
         ],
         "title": {
          "text": "day"
         }
        },
        "yaxis": {
         "anchor": "x",
         "domain": [
          0,
          1
         ],
         "title": {
          "text": "price"
         }
        }
       }
      }
     },
     "metadata": {}
    }
   ],
   "source": [
    "fig = px.line(test, x=test.index, y=['open', 'close','high', 'low'])\n",
    "fig.update_layout(title='IBM\\'s stock', xaxis_title='day', yaxis_title='price')\n",
    "fig.show()"
   ]
  },
  {
   "cell_type": "code",
   "execution_count": 6,
   "metadata": {},
   "outputs": [
    {
     "output_type": "display_data",
     "data": {
      "application/vnd.plotly.v1+json": {
       "config": {
        "plotlyServerURL": "https://plot.ly"
       },
       "data": [
        {
         "hovertemplate": "variable=open<br>index=%{x}<br>value=%{y}<extra></extra>",
         "legendgroup": "open",
         "line": {
          "color": "#636efa",
          "dash": "solid"
         },
         "mode": "lines",
         "name": "open",
         "orientation": "v",
         "showlegend": true,
         "type": "scatter",
         "x": [
          0,
          1,
          2,
          3,
          4,
          5,
          6,
          7,
          8,
          9,
          10,
          11,
          12,
          13,
          14,
          15,
          16,
          17,
          18,
          19
         ],
         "xaxis": "x",
         "y": [
          154.4,
          155.96,
          156.45,
          154.1,
          153.59,
          154.81,
          155.46,
          156.74,
          156.6,
          154.6,
          153.61,
          153.59,
          154.05,
          153.65,
          153.17,
          151.82,
          152.51,
          152.95,
          153.2,
          154.17
         ],
         "yaxis": "y"
        },
        {
         "hovertemplate": "variable=high<br>index=%{x}<br>value=%{y}<extra></extra>",
         "legendgroup": "high",
         "line": {
          "color": "#EF553B",
          "dash": "solid"
         },
         "mode": "lines",
         "name": "high",
         "orientation": "v",
         "showlegend": true,
         "type": "scatter",
         "x": [
          0,
          1,
          2,
          3,
          4,
          5,
          6,
          7,
          8,
          9,
          10,
          11,
          12,
          13,
          14,
          15,
          16,
          17,
          18,
          19
         ],
         "xaxis": "x",
         "y": [
          155.02,
          156.8,
          156.74,
          156.22,
          154.45,
          155.03,
          155.89,
          157.85,
          156.73,
          155.11,
          153.8,
          154.18,
          154.17,
          153.89,
          153.46,
          153,
          153.86,
          153.18,
          154.12,
          154.72
         ],
         "yaxis": "y"
        },
        {
         "hovertemplate": "variable=low<br>index=%{x}<br>value=%{y}<extra></extra>",
         "legendgroup": "low",
         "line": {
          "color": "#00cc96",
          "dash": "solid"
         },
         "mode": "lines",
         "name": "low",
         "orientation": "v",
         "showlegend": true,
         "type": "scatter",
         "x": [
          0,
          1,
          2,
          3,
          4,
          5,
          6,
          7,
          8,
          9,
          10,
          11,
          12,
          13,
          14,
          15,
          16,
          17,
          18,
          19
         ],
         "xaxis": "x",
         "y": [
          152.91,
          155.07,
          154.68,
          154.09,
          153.26,
          153.55,
          154.57,
          155.16,
          153.89,
          153.7,
          152.03,
          153.21,
          153.09,
          152.78,
          151.49,
          151.5,
          152.5,
          152.61,
          153.2,
          153.42
         ],
         "yaxis": "y"
        },
        {
         "hovertemplate": "variable=close<br>index=%{x}<br>value=%{y}<extra></extra>",
         "legendgroup": "close",
         "line": {
          "color": "#ab63fa",
          "dash": "solid"
         },
         "mode": "lines",
         "name": "close",
         "orientation": "v",
         "showlegend": true,
         "type": "scatter",
         "x": [
          0,
          1,
          2,
          3,
          4,
          5,
          6,
          7,
          8,
          9,
          10,
          11,
          12,
          13,
          14,
          15,
          16,
          17,
          18,
          19
         ],
         "xaxis": "x",
         "y": [
          154.76,
          156.46,
          155.35,
          154.1,
          153.57,
          154.81,
          155.41,
          156.74,
          153.91,
          154,
          152.5,
          153.33,
          153.23,
          152.95,
          151.5,
          152.5,
          152.83,
          153.13,
          154.04,
          153.42
         ],
         "yaxis": "y"
        }
       ],
       "layout": {
        "legend": {
         "title": {
          "text": "variable"
         },
         "tracegroupgap": 0
        },
        "margin": {
         "t": 60
        },
        "template": {
         "data": {
          "bar": [
           {
            "error_x": {
             "color": "#2a3f5f"
            },
            "error_y": {
             "color": "#2a3f5f"
            },
            "marker": {
             "line": {
              "color": "#E5ECF6",
              "width": 0.5
             }
            },
            "type": "bar"
           }
          ],
          "barpolar": [
           {
            "marker": {
             "line": {
              "color": "#E5ECF6",
              "width": 0.5
             }
            },
            "type": "barpolar"
           }
          ],
          "carpet": [
           {
            "aaxis": {
             "endlinecolor": "#2a3f5f",
             "gridcolor": "white",
             "linecolor": "white",
             "minorgridcolor": "white",
             "startlinecolor": "#2a3f5f"
            },
            "baxis": {
             "endlinecolor": "#2a3f5f",
             "gridcolor": "white",
             "linecolor": "white",
             "minorgridcolor": "white",
             "startlinecolor": "#2a3f5f"
            },
            "type": "carpet"
           }
          ],
          "choropleth": [
           {
            "colorbar": {
             "outlinewidth": 0,
             "ticks": ""
            },
            "type": "choropleth"
           }
          ],
          "contour": [
           {
            "colorbar": {
             "outlinewidth": 0,
             "ticks": ""
            },
            "colorscale": [
             [
              0,
              "#0d0887"
             ],
             [
              0.1111111111111111,
              "#46039f"
             ],
             [
              0.2222222222222222,
              "#7201a8"
             ],
             [
              0.3333333333333333,
              "#9c179e"
             ],
             [
              0.4444444444444444,
              "#bd3786"
             ],
             [
              0.5555555555555556,
              "#d8576b"
             ],
             [
              0.6666666666666666,
              "#ed7953"
             ],
             [
              0.7777777777777778,
              "#fb9f3a"
             ],
             [
              0.8888888888888888,
              "#fdca26"
             ],
             [
              1,
              "#f0f921"
             ]
            ],
            "type": "contour"
           }
          ],
          "contourcarpet": [
           {
            "colorbar": {
             "outlinewidth": 0,
             "ticks": ""
            },
            "type": "contourcarpet"
           }
          ],
          "heatmap": [
           {
            "colorbar": {
             "outlinewidth": 0,
             "ticks": ""
            },
            "colorscale": [
             [
              0,
              "#0d0887"
             ],
             [
              0.1111111111111111,
              "#46039f"
             ],
             [
              0.2222222222222222,
              "#7201a8"
             ],
             [
              0.3333333333333333,
              "#9c179e"
             ],
             [
              0.4444444444444444,
              "#bd3786"
             ],
             [
              0.5555555555555556,
              "#d8576b"
             ],
             [
              0.6666666666666666,
              "#ed7953"
             ],
             [
              0.7777777777777778,
              "#fb9f3a"
             ],
             [
              0.8888888888888888,
              "#fdca26"
             ],
             [
              1,
              "#f0f921"
             ]
            ],
            "type": "heatmap"
           }
          ],
          "heatmapgl": [
           {
            "colorbar": {
             "outlinewidth": 0,
             "ticks": ""
            },
            "colorscale": [
             [
              0,
              "#0d0887"
             ],
             [
              0.1111111111111111,
              "#46039f"
             ],
             [
              0.2222222222222222,
              "#7201a8"
             ],
             [
              0.3333333333333333,
              "#9c179e"
             ],
             [
              0.4444444444444444,
              "#bd3786"
             ],
             [
              0.5555555555555556,
              "#d8576b"
             ],
             [
              0.6666666666666666,
              "#ed7953"
             ],
             [
              0.7777777777777778,
              "#fb9f3a"
             ],
             [
              0.8888888888888888,
              "#fdca26"
             ],
             [
              1,
              "#f0f921"
             ]
            ],
            "type": "heatmapgl"
           }
          ],
          "histogram": [
           {
            "marker": {
             "colorbar": {
              "outlinewidth": 0,
              "ticks": ""
             }
            },
            "type": "histogram"
           }
          ],
          "histogram2d": [
           {
            "colorbar": {
             "outlinewidth": 0,
             "ticks": ""
            },
            "colorscale": [
             [
              0,
              "#0d0887"
             ],
             [
              0.1111111111111111,
              "#46039f"
             ],
             [
              0.2222222222222222,
              "#7201a8"
             ],
             [
              0.3333333333333333,
              "#9c179e"
             ],
             [
              0.4444444444444444,
              "#bd3786"
             ],
             [
              0.5555555555555556,
              "#d8576b"
             ],
             [
              0.6666666666666666,
              "#ed7953"
             ],
             [
              0.7777777777777778,
              "#fb9f3a"
             ],
             [
              0.8888888888888888,
              "#fdca26"
             ],
             [
              1,
              "#f0f921"
             ]
            ],
            "type": "histogram2d"
           }
          ],
          "histogram2dcontour": [
           {
            "colorbar": {
             "outlinewidth": 0,
             "ticks": ""
            },
            "colorscale": [
             [
              0,
              "#0d0887"
             ],
             [
              0.1111111111111111,
              "#46039f"
             ],
             [
              0.2222222222222222,
              "#7201a8"
             ],
             [
              0.3333333333333333,
              "#9c179e"
             ],
             [
              0.4444444444444444,
              "#bd3786"
             ],
             [
              0.5555555555555556,
              "#d8576b"
             ],
             [
              0.6666666666666666,
              "#ed7953"
             ],
             [
              0.7777777777777778,
              "#fb9f3a"
             ],
             [
              0.8888888888888888,
              "#fdca26"
             ],
             [
              1,
              "#f0f921"
             ]
            ],
            "type": "histogram2dcontour"
           }
          ],
          "mesh3d": [
           {
            "colorbar": {
             "outlinewidth": 0,
             "ticks": ""
            },
            "type": "mesh3d"
           }
          ],
          "parcoords": [
           {
            "line": {
             "colorbar": {
              "outlinewidth": 0,
              "ticks": ""
             }
            },
            "type": "parcoords"
           }
          ],
          "pie": [
           {
            "automargin": true,
            "type": "pie"
           }
          ],
          "scatter": [
           {
            "marker": {
             "colorbar": {
              "outlinewidth": 0,
              "ticks": ""
             }
            },
            "type": "scatter"
           }
          ],
          "scatter3d": [
           {
            "line": {
             "colorbar": {
              "outlinewidth": 0,
              "ticks": ""
             }
            },
            "marker": {
             "colorbar": {
              "outlinewidth": 0,
              "ticks": ""
             }
            },
            "type": "scatter3d"
           }
          ],
          "scattercarpet": [
           {
            "marker": {
             "colorbar": {
              "outlinewidth": 0,
              "ticks": ""
             }
            },
            "type": "scattercarpet"
           }
          ],
          "scattergeo": [
           {
            "marker": {
             "colorbar": {
              "outlinewidth": 0,
              "ticks": ""
             }
            },
            "type": "scattergeo"
           }
          ],
          "scattergl": [
           {
            "marker": {
             "colorbar": {
              "outlinewidth": 0,
              "ticks": ""
             }
            },
            "type": "scattergl"
           }
          ],
          "scattermapbox": [
           {
            "marker": {
             "colorbar": {
              "outlinewidth": 0,
              "ticks": ""
             }
            },
            "type": "scattermapbox"
           }
          ],
          "scatterpolar": [
           {
            "marker": {
             "colorbar": {
              "outlinewidth": 0,
              "ticks": ""
             }
            },
            "type": "scatterpolar"
           }
          ],
          "scatterpolargl": [
           {
            "marker": {
             "colorbar": {
              "outlinewidth": 0,
              "ticks": ""
             }
            },
            "type": "scatterpolargl"
           }
          ],
          "scatterternary": [
           {
            "marker": {
             "colorbar": {
              "outlinewidth": 0,
              "ticks": ""
             }
            },
            "type": "scatterternary"
           }
          ],
          "surface": [
           {
            "colorbar": {
             "outlinewidth": 0,
             "ticks": ""
            },
            "colorscale": [
             [
              0,
              "#0d0887"
             ],
             [
              0.1111111111111111,
              "#46039f"
             ],
             [
              0.2222222222222222,
              "#7201a8"
             ],
             [
              0.3333333333333333,
              "#9c179e"
             ],
             [
              0.4444444444444444,
              "#bd3786"
             ],
             [
              0.5555555555555556,
              "#d8576b"
             ],
             [
              0.6666666666666666,
              "#ed7953"
             ],
             [
              0.7777777777777778,
              "#fb9f3a"
             ],
             [
              0.8888888888888888,
              "#fdca26"
             ],
             [
              1,
              "#f0f921"
             ]
            ],
            "type": "surface"
           }
          ],
          "table": [
           {
            "cells": {
             "fill": {
              "color": "#EBF0F8"
             },
             "line": {
              "color": "white"
             }
            },
            "header": {
             "fill": {
              "color": "#C8D4E3"
             },
             "line": {
              "color": "white"
             }
            },
            "type": "table"
           }
          ]
         },
         "layout": {
          "annotationdefaults": {
           "arrowcolor": "#2a3f5f",
           "arrowhead": 0,
           "arrowwidth": 1
          },
          "autotypenumbers": "strict",
          "coloraxis": {
           "colorbar": {
            "outlinewidth": 0,
            "ticks": ""
           }
          },
          "colorscale": {
           "diverging": [
            [
             0,
             "#8e0152"
            ],
            [
             0.1,
             "#c51b7d"
            ],
            [
             0.2,
             "#de77ae"
            ],
            [
             0.3,
             "#f1b6da"
            ],
            [
             0.4,
             "#fde0ef"
            ],
            [
             0.5,
             "#f7f7f7"
            ],
            [
             0.6,
             "#e6f5d0"
            ],
            [
             0.7,
             "#b8e186"
            ],
            [
             0.8,
             "#7fbc41"
            ],
            [
             0.9,
             "#4d9221"
            ],
            [
             1,
             "#276419"
            ]
           ],
           "sequential": [
            [
             0,
             "#0d0887"
            ],
            [
             0.1111111111111111,
             "#46039f"
            ],
            [
             0.2222222222222222,
             "#7201a8"
            ],
            [
             0.3333333333333333,
             "#9c179e"
            ],
            [
             0.4444444444444444,
             "#bd3786"
            ],
            [
             0.5555555555555556,
             "#d8576b"
            ],
            [
             0.6666666666666666,
             "#ed7953"
            ],
            [
             0.7777777777777778,
             "#fb9f3a"
            ],
            [
             0.8888888888888888,
             "#fdca26"
            ],
            [
             1,
             "#f0f921"
            ]
           ],
           "sequentialminus": [
            [
             0,
             "#0d0887"
            ],
            [
             0.1111111111111111,
             "#46039f"
            ],
            [
             0.2222222222222222,
             "#7201a8"
            ],
            [
             0.3333333333333333,
             "#9c179e"
            ],
            [
             0.4444444444444444,
             "#bd3786"
            ],
            [
             0.5555555555555556,
             "#d8576b"
            ],
            [
             0.6666666666666666,
             "#ed7953"
            ],
            [
             0.7777777777777778,
             "#fb9f3a"
            ],
            [
             0.8888888888888888,
             "#fdca26"
            ],
            [
             1,
             "#f0f921"
            ]
           ]
          },
          "colorway": [
           "#636efa",
           "#EF553B",
           "#00cc96",
           "#ab63fa",
           "#FFA15A",
           "#19d3f3",
           "#FF6692",
           "#B6E880",
           "#FF97FF",
           "#FECB52"
          ],
          "font": {
           "color": "#2a3f5f"
          },
          "geo": {
           "bgcolor": "white",
           "lakecolor": "white",
           "landcolor": "#E5ECF6",
           "showlakes": true,
           "showland": true,
           "subunitcolor": "white"
          },
          "hoverlabel": {
           "align": "left"
          },
          "hovermode": "closest",
          "mapbox": {
           "style": "light"
          },
          "paper_bgcolor": "white",
          "plot_bgcolor": "#E5ECF6",
          "polar": {
           "angularaxis": {
            "gridcolor": "white",
            "linecolor": "white",
            "ticks": ""
           },
           "bgcolor": "#E5ECF6",
           "radialaxis": {
            "gridcolor": "white",
            "linecolor": "white",
            "ticks": ""
           }
          },
          "scene": {
           "xaxis": {
            "backgroundcolor": "#E5ECF6",
            "gridcolor": "white",
            "gridwidth": 2,
            "linecolor": "white",
            "showbackground": true,
            "ticks": "",
            "zerolinecolor": "white"
           },
           "yaxis": {
            "backgroundcolor": "#E5ECF6",
            "gridcolor": "white",
            "gridwidth": 2,
            "linecolor": "white",
            "showbackground": true,
            "ticks": "",
            "zerolinecolor": "white"
           },
           "zaxis": {
            "backgroundcolor": "#E5ECF6",
            "gridcolor": "white",
            "gridwidth": 2,
            "linecolor": "white",
            "showbackground": true,
            "ticks": "",
            "zerolinecolor": "white"
           }
          },
          "shapedefaults": {
           "line": {
            "color": "#2a3f5f"
           }
          },
          "ternary": {
           "aaxis": {
            "gridcolor": "white",
            "linecolor": "white",
            "ticks": ""
           },
           "baxis": {
            "gridcolor": "white",
            "linecolor": "white",
            "ticks": ""
           },
           "bgcolor": "#E5ECF6",
           "caxis": {
            "gridcolor": "white",
            "linecolor": "white",
            "ticks": ""
           }
          },
          "title": {
           "x": 0.05
          },
          "xaxis": {
           "automargin": true,
           "gridcolor": "white",
           "linecolor": "white",
           "ticks": "",
           "title": {
            "standoff": 15
           },
           "zerolinecolor": "white",
           "zerolinewidth": 2
          },
          "yaxis": {
           "automargin": true,
           "gridcolor": "white",
           "linecolor": "white",
           "ticks": "",
           "title": {
            "standoff": 15
           },
           "zerolinecolor": "white",
           "zerolinewidth": 2
          }
         }
        },
        "title": {
         "text": "IBM's stock"
        },
        "xaxis": {
         "anchor": "y",
         "domain": [
          0,
          1
         ],
         "title": {
          "text": "day"
         }
        },
        "yaxis": {
         "anchor": "x",
         "domain": [
          0,
          1
         ],
         "title": {
          "text": "price"
         }
        }
       }
      }
     },
     "metadata": {}
    }
   ],
   "source": [
    "fig = px.line(test, x=test.index, y=['open', 'high','low', 'close'])\n",
    "fig.update_layout(title='IBM\\'s stock', xaxis_title='day', yaxis_title='price')\n",
    "fig.show()"
   ]
  },
  {
   "cell_type": "code",
   "execution_count": 7,
   "metadata": {},
   "outputs": [
    {
     "output_type": "stream",
     "name": "stdout",
     "text": [
      "(1483, 5, 4)\n(1483, 1)\n[[152.   152.39 151.33 151.77]\n [151.95 152.2  151.33 151.84]\n [152.06 152.49 151.62 151.98]\n [152.35 152.93 151.7  152.47]\n [152.81 153.61 152.17 153.55]]\n[153.65]\n"
     ]
    }
   ],
   "source": [
    "def create_data(data, past = 7, future = 7):\n",
    "    x_train = []\n",
    "    y_train = []\n",
    "    for i in range(0, len(data)-past-future+1):\n",
    "        t = data.iloc[i:i+past][['open', 'high', 'low', 'close']]\n",
    "        y = data['open'].iloc[i+past:i+past+future]\n",
    "\n",
    "        x_train.append(t)\n",
    "        y_train.append(y)\n",
    "\n",
    "    x_train = np.array(x_train)\n",
    "    y_train = np.array(y_train)\n",
    "    return x_train, y_train\n",
    "x, y = create_data(train, 5, 1)\n",
    "print(x.shape)\n",
    "print(y.shape)\n",
    "print(x[-1])\n",
    "print(y[-1])"
   ]
  },
  {
   "cell_type": "code",
   "execution_count": 8,
   "metadata": {},
   "outputs": [],
   "source": [
    "def buildManyToOneModel(shape):\n",
    "    model = Sequential()\n",
    "    model.add(LSTM(10, input_length=shape[1], input_dim=shape[2], return_sequences=False))\n",
    "    model.add(Dense(units = 10))\n",
    "    model.add(Dropout(0.1))\n",
    "    model.add(Dense(units = 10))\n",
    "    model.add(Dropout(0.1))\n",
    "    model.add(Dense(1))\n",
    "    model.compile(loss=\"mse\", optimizer=\"adam\")\n",
    "    model.summary()\n",
    "    return model"
   ]
  },
  {
   "cell_type": "code",
   "execution_count": 9,
   "metadata": {
    "tags": [
     "outputPrepend"
    ]
   },
   "outputs": [
    {
     "output_type": "stream",
     "name": "stdout",
     "text": [
      "ep - loss: 303.9936\n",
      "Epoch 1122/3000\n",
      "47/47 [==============================] - 0s 2ms/step - loss: 291.5516\n",
      "Epoch 1123/3000\n",
      "47/47 [==============================] - 0s 2ms/step - loss: 315.4799\n",
      "Epoch 1124/3000\n",
      "47/47 [==============================] - 0s 2ms/step - loss: 284.0475\n",
      "Epoch 1125/3000\n",
      "47/47 [==============================] - 0s 2ms/step - loss: 316.2622\n",
      "Epoch 1126/3000\n",
      "47/47 [==============================] - 0s 2ms/step - loss: 305.1473\n",
      "Epoch 1127/3000\n",
      "47/47 [==============================] - 0s 2ms/step - loss: 288.2972\n",
      "Epoch 1128/3000\n",
      "47/47 [==============================] - 0s 2ms/step - loss: 293.4073\n",
      "Epoch 1129/3000\n",
      "47/47 [==============================] - 0s 2ms/step - loss: 314.2454\n",
      "Epoch 1130/3000\n",
      "47/47 [==============================] - 0s 3ms/step - loss: 288.6064\n",
      "Epoch 1131/3000\n",
      "47/47 [==============================] - 0s 2ms/step - loss: 316.1881\n",
      "Epoch 1132/3000\n",
      "47/47 [==============================] - 0s 2ms/step - loss: 311.3116\n",
      "Epoch 1133/3000\n",
      "47/47 [==============================] - 0s 2ms/step - loss: 322.8210\n",
      "Epoch 1134/3000\n",
      "47/47 [==============================] - 0s 2ms/step - loss: 329.3300\n",
      "Epoch 1135/3000\n",
      "47/47 [==============================] - 0s 2ms/step - loss: 308.6979\n",
      "Epoch 1136/3000\n",
      "47/47 [==============================] - 0s 2ms/step - loss: 332.9048\n",
      "Epoch 1137/3000\n",
      "47/47 [==============================] - 0s 2ms/step - loss: 271.4666\n",
      "Epoch 1138/3000\n",
      "47/47 [==============================] - 0s 2ms/step - loss: 279.5702\n",
      "Epoch 1139/3000\n",
      "47/47 [==============================] - 0s 2ms/step - loss: 289.9512\n",
      "Epoch 1140/3000\n",
      "47/47 [==============================] - 0s 2ms/step - loss: 333.2847\n",
      "Epoch 1141/3000\n",
      "47/47 [==============================] - 0s 2ms/step - loss: 324.0557\n",
      "Epoch 1142/3000\n",
      "47/47 [==============================] - 0s 2ms/step - loss: 294.3099\n",
      "Epoch 1143/3000\n",
      "47/47 [==============================] - 0s 2ms/step - loss: 315.3007\n",
      "Epoch 1144/3000\n",
      "47/47 [==============================] - 0s 2ms/step - loss: 310.2887\n",
      "Epoch 1145/3000\n",
      "47/47 [==============================] - 0s 2ms/step - loss: 321.8411\n",
      "Epoch 1146/3000\n",
      "47/47 [==============================] - 0s 2ms/step - loss: 286.9707\n",
      "Epoch 1147/3000\n",
      "47/47 [==============================] - 0s 2ms/step - loss: 287.3387\n",
      "Epoch 1148/3000\n",
      "47/47 [==============================] - 0s 2ms/step - loss: 300.8187\n",
      "Epoch 1149/3000\n",
      "47/47 [==============================] - 0s 2ms/step - loss: 254.2863\n",
      "Epoch 1150/3000\n",
      "47/47 [==============================] - 0s 2ms/step - loss: 298.3805\n",
      "Epoch 1151/3000\n",
      "47/47 [==============================] - 0s 2ms/step - loss: 326.6972\n",
      "Epoch 1152/3000\n",
      "47/47 [==============================] - 0s 2ms/step - loss: 314.4241\n",
      "Epoch 1153/3000\n",
      "47/47 [==============================] - 0s 3ms/step - loss: 266.1718\n",
      "Epoch 1154/3000\n",
      "47/47 [==============================] - 0s 2ms/step - loss: 291.3213\n",
      "Epoch 1155/3000\n",
      "47/47 [==============================] - 0s 2ms/step - loss: 306.2556\n",
      "Epoch 1156/3000\n",
      "47/47 [==============================] - 0s 2ms/step - loss: 280.7433\n",
      "Epoch 1157/3000\n",
      "47/47 [==============================] - 0s 2ms/step - loss: 305.3265\n",
      "Epoch 1158/3000\n",
      "47/47 [==============================] - 0s 2ms/step - loss: 326.5966\n",
      "Epoch 1159/3000\n",
      "47/47 [==============================] - 0s 2ms/step - loss: 304.5546\n",
      "Epoch 1160/3000\n",
      "47/47 [==============================] - 0s 2ms/step - loss: 295.0952\n",
      "Epoch 1161/3000\n",
      "47/47 [==============================] - 0s 2ms/step - loss: 271.6738\n",
      "Epoch 1162/3000\n",
      "47/47 [==============================] - 0s 2ms/step - loss: 294.8995\n",
      "Epoch 1163/3000\n",
      "47/47 [==============================] - 0s 2ms/step - loss: 304.7956\n",
      "Epoch 1164/3000\n",
      "47/47 [==============================] - 0s 2ms/step - loss: 315.3983\n",
      "Epoch 1165/3000\n",
      "47/47 [==============================] - 0s 2ms/step - loss: 294.1434\n",
      "Epoch 1166/3000\n",
      "47/47 [==============================] - 0s 2ms/step - loss: 298.4679\n",
      "Epoch 1167/3000\n",
      "47/47 [==============================] - 0s 2ms/step - loss: 298.1414\n",
      "Epoch 1168/3000\n",
      "47/47 [==============================] - 0s 2ms/step - loss: 282.1369\n",
      "Epoch 1169/3000\n",
      "47/47 [==============================] - 0s 2ms/step - loss: 288.2939\n",
      "Epoch 1170/3000\n",
      "47/47 [==============================] - 0s 2ms/step - loss: 303.3810\n",
      "Epoch 1171/3000\n",
      "47/47 [==============================] - 0s 2ms/step - loss: 308.9303\n",
      "Epoch 1172/3000\n",
      "47/47 [==============================] - 0s 2ms/step - loss: 285.5347\n",
      "Epoch 1173/3000\n",
      "47/47 [==============================] - 0s 2ms/step - loss: 303.7117\n",
      "Epoch 1174/3000\n",
      "47/47 [==============================] - 0s 2ms/step - loss: 304.9586\n",
      "Epoch 1175/3000\n",
      "47/47 [==============================] - 0s 2ms/step - loss: 304.4517\n",
      "Epoch 1176/3000\n",
      "47/47 [==============================] - 0s 2ms/step - loss: 306.6696\n",
      "Epoch 1177/3000\n",
      "47/47 [==============================] - 0s 2ms/step - loss: 296.8054\n",
      "Epoch 1178/3000\n",
      "47/47 [==============================] - 0s 2ms/step - loss: 300.6632\n",
      "Epoch 1179/3000\n",
      "47/47 [==============================] - 0s 2ms/step - loss: 368.0101\n",
      "Epoch 1180/3000\n",
      "47/47 [==============================] - 0s 2ms/step - loss: 297.1161\n",
      "Epoch 1181/3000\n",
      "47/47 [==============================] - 0s 2ms/step - loss: 303.2560\n",
      "Epoch 1182/3000\n",
      "47/47 [==============================] - 0s 3ms/step - loss: 299.2836\n",
      "Epoch 1183/3000\n",
      "47/47 [==============================] - 0s 2ms/step - loss: 297.3439\n",
      "Epoch 1184/3000\n",
      "47/47 [==============================] - 0s 2ms/step - loss: 336.0692\n",
      "Epoch 1185/3000\n",
      "47/47 [==============================] - 0s 3ms/step - loss: 290.3623\n",
      "Epoch 1186/3000\n",
      "47/47 [==============================] - 0s 2ms/step - loss: 298.1887\n",
      "Epoch 1187/3000\n",
      "47/47 [==============================] - 0s 2ms/step - loss: 289.9023\n",
      "Epoch 1188/3000\n",
      "47/47 [==============================] - 0s 2ms/step - loss: 305.0564\n",
      "Epoch 1189/3000\n",
      "47/47 [==============================] - 0s 2ms/step - loss: 288.1109\n",
      "Epoch 1190/3000\n",
      "47/47 [==============================] - 0s 2ms/step - loss: 334.4510\n",
      "Epoch 1191/3000\n",
      "47/47 [==============================] - 0s 2ms/step - loss: 299.0249\n",
      "Epoch 1192/3000\n",
      "47/47 [==============================] - 0s 2ms/step - loss: 313.6214\n",
      "Epoch 1193/3000\n",
      "47/47 [==============================] - 0s 2ms/step - loss: 344.9783\n",
      "Epoch 1194/3000\n",
      "47/47 [==============================] - 0s 2ms/step - loss: 294.4344\n",
      "Epoch 1195/3000\n",
      "47/47 [==============================] - 0s 2ms/step - loss: 280.7570\n",
      "Epoch 1196/3000\n",
      "47/47 [==============================] - 0s 2ms/step - loss: 300.6218\n",
      "Epoch 1197/3000\n",
      "47/47 [==============================] - 0s 2ms/step - loss: 309.6763\n",
      "Epoch 1198/3000\n",
      "47/47 [==============================] - 0s 2ms/step - loss: 265.4151\n",
      "Epoch 1199/3000\n",
      "47/47 [==============================] - 0s 2ms/step - loss: 289.1265\n",
      "Epoch 1200/3000\n",
      "47/47 [==============================] - 0s 2ms/step - loss: 289.6548\n",
      "Epoch 1201/3000\n",
      "47/47 [==============================] - 0s 2ms/step - loss: 309.0960\n",
      "Epoch 1202/3000\n",
      "47/47 [==============================] - 0s 2ms/step - loss: 297.6045\n",
      "Epoch 1203/3000\n",
      "47/47 [==============================] - 0s 2ms/step - loss: 287.2385\n",
      "Epoch 1204/3000\n",
      "47/47 [==============================] - 0s 2ms/step - loss: 286.1081\n",
      "Epoch 1205/3000\n",
      "47/47 [==============================] - 0s 2ms/step - loss: 269.4804\n",
      "Epoch 1206/3000\n",
      "47/47 [==============================] - 0s 2ms/step - loss: 324.1048\n",
      "Epoch 1207/3000\n",
      "47/47 [==============================] - 0s 2ms/step - loss: 287.1387\n",
      "Epoch 1208/3000\n",
      "47/47 [==============================] - 0s 2ms/step - loss: 274.4272\n",
      "Epoch 1209/3000\n",
      "47/47 [==============================] - 0s 2ms/step - loss: 291.1280\n",
      "Epoch 1210/3000\n",
      "47/47 [==============================] - 0s 2ms/step - loss: 277.0453\n",
      "Epoch 1211/3000\n",
      "47/47 [==============================] - 0s 2ms/step - loss: 309.4483\n",
      "Epoch 1212/3000\n",
      "47/47 [==============================] - 0s 2ms/step - loss: 302.4749\n",
      "Epoch 1213/3000\n",
      "47/47 [==============================] - 0s 3ms/step - loss: 286.3282\n",
      "Epoch 1214/3000\n",
      "47/47 [==============================] - 0s 2ms/step - loss: 272.2807\n",
      "Epoch 1215/3000\n",
      "47/47 [==============================] - 0s 2ms/step - loss: 288.6061\n",
      "Epoch 1216/3000\n",
      "47/47 [==============================] - 0s 2ms/step - loss: 291.2983\n",
      "Epoch 1217/3000\n",
      "47/47 [==============================] - 0s 2ms/step - loss: 303.9874\n",
      "Epoch 1218/3000\n",
      "47/47 [==============================] - 0s 2ms/step - loss: 286.2316\n",
      "Epoch 1219/3000\n",
      "47/47 [==============================] - 0s 2ms/step - loss: 282.5970\n",
      "Epoch 1220/3000\n",
      "47/47 [==============================] - 0s 2ms/step - loss: 315.5590\n",
      "Epoch 1221/3000\n",
      "47/47 [==============================] - 0s 2ms/step - loss: 279.0939\n",
      "Epoch 1222/3000\n",
      "47/47 [==============================] - 0s 2ms/step - loss: 335.7285\n",
      "Epoch 1223/3000\n",
      "47/47 [==============================] - 0s 2ms/step - loss: 250.3503\n",
      "Epoch 1224/3000\n",
      "47/47 [==============================] - 0s 2ms/step - loss: 290.3283\n",
      "Epoch 1225/3000\n",
      "47/47 [==============================] - 0s 2ms/step - loss: 296.8892\n",
      "Epoch 1226/3000\n",
      "47/47 [==============================] - 0s 2ms/step - loss: 305.9654\n",
      "Epoch 1227/3000\n",
      "47/47 [==============================] - 0s 2ms/step - loss: 321.8500\n",
      "Epoch 1228/3000\n",
      "47/47 [==============================] - 0s 2ms/step - loss: 289.9718\n",
      "Epoch 1229/3000\n",
      "47/47 [==============================] - 0s 2ms/step - loss: 265.8449\n",
      "Epoch 1230/3000\n",
      "47/47 [==============================] - 0s 2ms/step - loss: 277.7301\n",
      "Epoch 1231/3000\n",
      "47/47 [==============================] - 0s 2ms/step - loss: 297.0586\n",
      "Epoch 1232/3000\n",
      "47/47 [==============================] - 0s 2ms/step - loss: 281.6268\n",
      "Epoch 1233/3000\n",
      "47/47 [==============================] - 0s 2ms/step - loss: 321.6590\n",
      "Epoch 1234/3000\n",
      "47/47 [==============================] - 0s 2ms/step - loss: 334.7271\n",
      "Epoch 1235/3000\n",
      "47/47 [==============================] - 0s 2ms/step - loss: 289.6823\n",
      "Epoch 1236/3000\n",
      "47/47 [==============================] - 0s 2ms/step - loss: 288.1570\n",
      "Epoch 1237/3000\n",
      "47/47 [==============================] - 0s 2ms/step - loss: 267.2102\n",
      "Epoch 1238/3000\n",
      "47/47 [==============================] - 0s 2ms/step - loss: 294.7581\n",
      "Epoch 1239/3000\n",
      "47/47 [==============================] - 0s 2ms/step - loss: 331.4176\n",
      "Epoch 1240/3000\n",
      "47/47 [==============================] - 0s 2ms/step - loss: 289.5716\n",
      "Epoch 1241/3000\n",
      "47/47 [==============================] - 0s 2ms/step - loss: 267.1162\n",
      "Epoch 1242/3000\n",
      "47/47 [==============================] - 0s 3ms/step - loss: 270.6893\n",
      "Epoch 1243/3000\n",
      "47/47 [==============================] - 0s 2ms/step - loss: 301.2447\n",
      "Epoch 1244/3000\n",
      "47/47 [==============================] - 0s 2ms/step - loss: 289.9365\n",
      "Epoch 1245/3000\n",
      "47/47 [==============================] - 0s 2ms/step - loss: 315.7328\n",
      "Epoch 1246/3000\n",
      "47/47 [==============================] - 0s 2ms/step - loss: 262.9801\n",
      "Epoch 1247/3000\n",
      "47/47 [==============================] - 0s 2ms/step - loss: 313.0522\n",
      "Epoch 1248/3000\n",
      "47/47 [==============================] - 0s 2ms/step - loss: 279.3006\n",
      "Epoch 1249/3000\n",
      "47/47 [==============================] - 0s 2ms/step - loss: 314.5963\n",
      "Epoch 1250/3000\n",
      "47/47 [==============================] - 0s 2ms/step - loss: 296.2294\n",
      "Epoch 1251/3000\n",
      "47/47 [==============================] - 0s 2ms/step - loss: 279.3082\n",
      "Epoch 1252/3000\n",
      "47/47 [==============================] - 0s 2ms/step - loss: 313.4401\n",
      "Epoch 1253/3000\n",
      "47/47 [==============================] - 0s 2ms/step - loss: 299.8204\n",
      "Epoch 1254/3000\n",
      "47/47 [==============================] - 0s 2ms/step - loss: 258.5872\n",
      "Epoch 1255/3000\n",
      "47/47 [==============================] - 0s 2ms/step - loss: 314.5186\n",
      "Epoch 1256/3000\n",
      "47/47 [==============================] - 0s 2ms/step - loss: 298.5030\n",
      "Epoch 1257/3000\n",
      "47/47 [==============================] - 0s 2ms/step - loss: 296.0940\n",
      "Epoch 1258/3000\n",
      "47/47 [==============================] - 0s 2ms/step - loss: 287.5012\n",
      "Epoch 1259/3000\n",
      "47/47 [==============================] - 0s 2ms/step - loss: 295.5109\n",
      "Epoch 1260/3000\n",
      "47/47 [==============================] - 0s 2ms/step - loss: 273.0846\n",
      "Epoch 1261/3000\n",
      "47/47 [==============================] - 0s 2ms/step - loss: 264.5414\n",
      "Epoch 1262/3000\n",
      "47/47 [==============================] - 0s 2ms/step - loss: 283.9492\n",
      "Epoch 1263/3000\n",
      "47/47 [==============================] - 0s 2ms/step - loss: 310.8129\n",
      "Epoch 1264/3000\n",
      "47/47 [==============================] - 0s 2ms/step - loss: 281.8374\n",
      "Epoch 1265/3000\n",
      "47/47 [==============================] - 0s 2ms/step - loss: 265.9715\n",
      "Epoch 1266/3000\n",
      "47/47 [==============================] - 0s 2ms/step - loss: 309.2670\n",
      "Epoch 1267/3000\n",
      "47/47 [==============================] - 0s 2ms/step - loss: 285.4929\n",
      "Epoch 1268/3000\n",
      "47/47 [==============================] - 0s 2ms/step - loss: 292.6214\n",
      "Epoch 1269/3000\n",
      "47/47 [==============================] - 0s 2ms/step - loss: 280.8590\n",
      "Epoch 1270/3000\n",
      "47/47 [==============================] - 0s 3ms/step - loss: 292.4015\n",
      "Epoch 1271/3000\n",
      "47/47 [==============================] - 0s 2ms/step - loss: 278.9736\n",
      "Epoch 1272/3000\n",
      "47/47 [==============================] - 0s 2ms/step - loss: 277.9589\n",
      "Epoch 1273/3000\n",
      "47/47 [==============================] - 0s 2ms/step - loss: 289.1295\n",
      "Epoch 1274/3000\n",
      "47/47 [==============================] - 0s 2ms/step - loss: 278.5143\n",
      "Epoch 1275/3000\n",
      "47/47 [==============================] - 0s 2ms/step - loss: 307.4405\n",
      "Epoch 1276/3000\n",
      "47/47 [==============================] - 0s 2ms/step - loss: 283.7654\n",
      "Epoch 1277/3000\n",
      "47/47 [==============================] - 0s 2ms/step - loss: 280.1430\n",
      "Epoch 1278/3000\n",
      "47/47 [==============================] - 0s 2ms/step - loss: 284.7615\n",
      "Epoch 1279/3000\n",
      "47/47 [==============================] - 0s 2ms/step - loss: 279.5430\n",
      "Epoch 1280/3000\n",
      "47/47 [==============================] - 0s 2ms/step - loss: 285.0352\n",
      "Epoch 1281/3000\n",
      "47/47 [==============================] - 0s 2ms/step - loss: 275.3170\n",
      "Epoch 1282/3000\n",
      "47/47 [==============================] - 0s 2ms/step - loss: 276.4420\n",
      "Epoch 1283/3000\n",
      "47/47 [==============================] - 0s 2ms/step - loss: 292.1093\n",
      "Epoch 1284/3000\n",
      "47/47 [==============================] - 0s 2ms/step - loss: 282.4878\n",
      "Epoch 1285/3000\n",
      "47/47 [==============================] - 0s 2ms/step - loss: 309.5649\n",
      "Epoch 1286/3000\n",
      "47/47 [==============================] - 0s 2ms/step - loss: 294.1815\n",
      "Epoch 1287/3000\n",
      "47/47 [==============================] - 0s 2ms/step - loss: 275.9881\n",
      "Epoch 1288/3000\n",
      "47/47 [==============================] - 0s 2ms/step - loss: 269.6445\n",
      "Epoch 1289/3000\n",
      "47/47 [==============================] - 0s 2ms/step - loss: 312.2663\n",
      "Epoch 1290/3000\n",
      "47/47 [==============================] - 0s 2ms/step - loss: 311.3284\n",
      "Epoch 1291/3000\n",
      "47/47 [==============================] - 0s 2ms/step - loss: 308.1879\n",
      "Epoch 1292/3000\n",
      "47/47 [==============================] - 0s 2ms/step - loss: 333.4723\n",
      "Epoch 1293/3000\n",
      "47/47 [==============================] - 0s 2ms/step - loss: 281.0405\n",
      "Epoch 1294/3000\n",
      "47/47 [==============================] - 0s 2ms/step - loss: 293.7492\n",
      "Epoch 1295/3000\n",
      "47/47 [==============================] - 0s 2ms/step - loss: 270.2703\n",
      "Epoch 1296/3000\n",
      "47/47 [==============================] - 0s 2ms/step - loss: 288.1570\n",
      "Epoch 1297/3000\n",
      "47/47 [==============================] - 0s 2ms/step - loss: 307.8864\n",
      "Epoch 1298/3000\n",
      "47/47 [==============================] - 0s 2ms/step - loss: 302.9027\n",
      "Epoch 1299/3000\n",
      "47/47 [==============================] - 0s 2ms/step - loss: 289.5072\n",
      "Epoch 1300/3000\n",
      "47/47 [==============================] - 0s 2ms/step - loss: 310.7226\n",
      "Epoch 1301/3000\n",
      "47/47 [==============================] - 0s 2ms/step - loss: 285.7227\n",
      "Epoch 1302/3000\n",
      "47/47 [==============================] - 0s 2ms/step - loss: 287.9160\n",
      "Epoch 1303/3000\n",
      "47/47 [==============================] - 0s 2ms/step - loss: 264.9429\n",
      "Epoch 1304/3000\n",
      "47/47 [==============================] - 0s 2ms/step - loss: 335.8235\n",
      "Epoch 1305/3000\n",
      "47/47 [==============================] - 0s 2ms/step - loss: 291.5552\n",
      "Epoch 1306/3000\n",
      "47/47 [==============================] - 0s 2ms/step - loss: 271.0138\n",
      "Epoch 1307/3000\n",
      "47/47 [==============================] - 0s 2ms/step - loss: 308.5373\n",
      "Epoch 1308/3000\n",
      "47/47 [==============================] - 0s 2ms/step - loss: 267.2842\n",
      "Epoch 1309/3000\n",
      "47/47 [==============================] - 0s 2ms/step - loss: 309.6640\n",
      "Epoch 1310/3000\n",
      "47/47 [==============================] - 0s 2ms/step - loss: 257.4740\n",
      "Epoch 1311/3000\n",
      "47/47 [==============================] - 0s 2ms/step - loss: 275.0721\n",
      "Epoch 1312/3000\n",
      "47/47 [==============================] - 0s 2ms/step - loss: 282.5138\n",
      "Epoch 1313/3000\n",
      "47/47 [==============================] - 0s 2ms/step - loss: 288.9767\n",
      "Epoch 1314/3000\n",
      "47/47 [==============================] - 0s 2ms/step - loss: 273.5173\n",
      "Epoch 1315/3000\n",
      "47/47 [==============================] - 0s 2ms/step - loss: 273.1269\n",
      "Epoch 1316/3000\n",
      "47/47 [==============================] - 0s 3ms/step - loss: 269.9200\n",
      "Epoch 1317/3000\n",
      "47/47 [==============================] - 0s 2ms/step - loss: 316.7565\n",
      "Epoch 1318/3000\n",
      "47/47 [==============================] - 0s 2ms/step - loss: 287.5302\n",
      "Epoch 1319/3000\n",
      "47/47 [==============================] - 0s 2ms/step - loss: 273.0677\n",
      "Epoch 1320/3000\n",
      "47/47 [==============================] - 0s 2ms/step - loss: 282.0177\n",
      "Epoch 1321/3000\n",
      "47/47 [==============================] - 0s 2ms/step - loss: 270.7861\n",
      "Epoch 1322/3000\n",
      "47/47 [==============================] - 0s 2ms/step - loss: 295.5651\n",
      "Epoch 1323/3000\n",
      "47/47 [==============================] - 0s 2ms/step - loss: 262.5685\n",
      "Epoch 1324/3000\n",
      "47/47 [==============================] - 0s 2ms/step - loss: 301.7184\n",
      "Epoch 1325/3000\n",
      "47/47 [==============================] - 0s 2ms/step - loss: 274.2265\n",
      "Epoch 1326/3000\n",
      "47/47 [==============================] - 0s 2ms/step - loss: 288.1652\n",
      "Epoch 1327/3000\n",
      "47/47 [==============================] - 0s 2ms/step - loss: 314.8262\n",
      "Epoch 1328/3000\n",
      "47/47 [==============================] - 0s 2ms/step - loss: 293.0056\n",
      "Epoch 1329/3000\n",
      "47/47 [==============================] - 0s 2ms/step - loss: 294.7216\n",
      "Epoch 1330/3000\n",
      "47/47 [==============================] - 0s 2ms/step - loss: 326.6390\n",
      "Epoch 1331/3000\n",
      "47/47 [==============================] - 0s 2ms/step - loss: 299.9228\n",
      "Epoch 1332/3000\n",
      "47/47 [==============================] - 0s 2ms/step - loss: 287.7167\n",
      "Epoch 1333/3000\n",
      "47/47 [==============================] - 0s 2ms/step - loss: 251.3201\n",
      "Epoch 1334/3000\n",
      "47/47 [==============================] - 0s 2ms/step - loss: 262.5150\n",
      "Epoch 1335/3000\n",
      "47/47 [==============================] - 0s 2ms/step - loss: 289.8773\n",
      "Epoch 1336/3000\n",
      "47/47 [==============================] - 0s 2ms/step - loss: 321.8192\n",
      "Epoch 1337/3000\n",
      "47/47 [==============================] - 0s 2ms/step - loss: 314.8063\n",
      "Epoch 1338/3000\n",
      "47/47 [==============================] - 0s 2ms/step - loss: 263.3440\n",
      "Epoch 1339/3000\n",
      "47/47 [==============================] - 0s 2ms/step - loss: 288.8450\n",
      "Epoch 1340/3000\n",
      "47/47 [==============================] - 0s 2ms/step - loss: 261.3739\n",
      "Epoch 1341/3000\n",
      "47/47 [==============================] - 0s 2ms/step - loss: 281.2896\n",
      "Epoch 1342/3000\n",
      "47/47 [==============================] - 0s 2ms/step - loss: 296.5597\n",
      "Epoch 1343/3000\n",
      "47/47 [==============================] - 0s 2ms/step - loss: 274.5369\n",
      "Epoch 1344/3000\n",
      "47/47 [==============================] - 0s 2ms/step - loss: 317.2381\n",
      "Epoch 1345/3000\n",
      "47/47 [==============================] - 0s 2ms/step - loss: 287.8788\n",
      "Epoch 1346/3000\n",
      "47/47 [==============================] - 0s 2ms/step - loss: 268.3119\n",
      "Epoch 1347/3000\n",
      "47/47 [==============================] - 0s 2ms/step - loss: 284.5642\n",
      "Epoch 1348/3000\n",
      "47/47 [==============================] - 0s 2ms/step - loss: 255.6789\n",
      "Epoch 1349/3000\n",
      "47/47 [==============================] - 0s 2ms/step - loss: 298.4282\n",
      "Epoch 1350/3000\n",
      "47/47 [==============================] - 0s 2ms/step - loss: 333.7321\n",
      "Epoch 1351/3000\n",
      "47/47 [==============================] - 0s 2ms/step - loss: 288.6398\n",
      "Epoch 1352/3000\n",
      "47/47 [==============================] - 0s 2ms/step - loss: 293.9320\n",
      "Epoch 1353/3000\n",
      "47/47 [==============================] - 0s 2ms/step - loss: 339.0773\n",
      "Epoch 01353: early stopping\n"
     ]
    },
    {
     "output_type": "execute_result",
     "data": {
      "text/plain": [
       "<tensorflow.python.keras.callbacks.History at 0x7fde95ceb850>"
      ]
     },
     "metadata": {},
     "execution_count": 9
    }
   ],
   "source": [
    "callback = EarlyStopping(monitor=\"loss\", patience=200, verbose=1, mode=\"auto\")\n",
    "x_train, y_train = create_data(train,3, 1)\n",
    "print(x_train.shape)\n",
    "print(y_train.shape)\n",
    "regressor3 = buildManyToOneModel(x_train.shape)\n",
    "# 進行訓練\n",
    "regressor3.fit(x_train, y_train, epochs = 3000, callbacks=[callback])"
   ]
  },
  {
   "cell_type": "code",
   "execution_count": 10,
   "metadata": {
    "tags": [
     "outputPrepend"
    ]
   },
   "outputs": [
    {
     "output_type": "stream",
     "name": "stdout",
     "text": [
      "ep - loss: 271.3678\n",
      "Epoch 1403/3000\n",
      "47/47 [==============================] - 0s 2ms/step - loss: 262.1912\n",
      "Epoch 1404/3000\n",
      "47/47 [==============================] - 0s 2ms/step - loss: 280.9819\n",
      "Epoch 1405/3000\n",
      "47/47 [==============================] - 0s 2ms/step - loss: 281.0348\n",
      "Epoch 1406/3000\n",
      "47/47 [==============================] - 0s 2ms/step - loss: 258.9772\n",
      "Epoch 1407/3000\n",
      "47/47 [==============================] - 0s 2ms/step - loss: 258.8785\n",
      "Epoch 1408/3000\n",
      "47/47 [==============================] - 0s 2ms/step - loss: 281.3795\n",
      "Epoch 1409/3000\n",
      "47/47 [==============================] - 0s 2ms/step - loss: 248.3226\n",
      "Epoch 1410/3000\n",
      "47/47 [==============================] - 0s 2ms/step - loss: 257.8812\n",
      "Epoch 1411/3000\n",
      "47/47 [==============================] - 0s 2ms/step - loss: 270.1436\n",
      "Epoch 1412/3000\n",
      "47/47 [==============================] - 0s 2ms/step - loss: 258.0262\n",
      "Epoch 1413/3000\n",
      "47/47 [==============================] - 0s 2ms/step - loss: 272.4986\n",
      "Epoch 1414/3000\n",
      "47/47 [==============================] - 0s 2ms/step - loss: 281.4030\n",
      "Epoch 1415/3000\n",
      "47/47 [==============================] - 0s 2ms/step - loss: 275.8835\n",
      "Epoch 1416/3000\n",
      "47/47 [==============================] - 0s 2ms/step - loss: 267.8829\n",
      "Epoch 1417/3000\n",
      "47/47 [==============================] - 0s 2ms/step - loss: 262.0481\n",
      "Epoch 1418/3000\n",
      "47/47 [==============================] - 0s 2ms/step - loss: 274.9003\n",
      "Epoch 1419/3000\n",
      "47/47 [==============================] - 0s 2ms/step - loss: 256.7802\n",
      "Epoch 1420/3000\n",
      "47/47 [==============================] - 0s 2ms/step - loss: 307.6815\n",
      "Epoch 1421/3000\n",
      "47/47 [==============================] - 0s 2ms/step - loss: 245.0413\n",
      "Epoch 1422/3000\n",
      "47/47 [==============================] - 0s 2ms/step - loss: 236.4302\n",
      "Epoch 1423/3000\n",
      "47/47 [==============================] - 0s 2ms/step - loss: 289.2379\n",
      "Epoch 1424/3000\n",
      "47/47 [==============================] - 0s 2ms/step - loss: 272.2050\n",
      "Epoch 1425/3000\n",
      "47/47 [==============================] - 0s 2ms/step - loss: 258.3512\n",
      "Epoch 1426/3000\n",
      "47/47 [==============================] - 0s 2ms/step - loss: 262.6098\n",
      "Epoch 1427/3000\n",
      "47/47 [==============================] - 0s 2ms/step - loss: 258.9727\n",
      "Epoch 1428/3000\n",
      "47/47 [==============================] - 0s 2ms/step - loss: 276.5646\n",
      "Epoch 1429/3000\n",
      "47/47 [==============================] - 0s 2ms/step - loss: 277.8211\n",
      "Epoch 1430/3000\n",
      "47/47 [==============================] - 0s 2ms/step - loss: 285.6169\n",
      "Epoch 1431/3000\n",
      "47/47 [==============================] - 0s 2ms/step - loss: 270.3782\n",
      "Epoch 1432/3000\n",
      "47/47 [==============================] - 0s 2ms/step - loss: 304.3634\n",
      "Epoch 1433/3000\n",
      "47/47 [==============================] - 0s 2ms/step - loss: 259.5827\n",
      "Epoch 1434/3000\n",
      "47/47 [==============================] - 0s 2ms/step - loss: 232.5374\n",
      "Epoch 1435/3000\n",
      "47/47 [==============================] - 0s 1ms/step - loss: 257.6981\n",
      "Epoch 1436/3000\n",
      "47/47 [==============================] - 0s 2ms/step - loss: 276.5161\n",
      "Epoch 1437/3000\n",
      "47/47 [==============================] - 0s 2ms/step - loss: 273.7714\n",
      "Epoch 1438/3000\n",
      "47/47 [==============================] - 0s 2ms/step - loss: 265.8066\n",
      "Epoch 1439/3000\n",
      "47/47 [==============================] - 0s 2ms/step - loss: 276.6936\n",
      "Epoch 1440/3000\n",
      "47/47 [==============================] - 0s 1ms/step - loss: 242.0174\n",
      "Epoch 1441/3000\n",
      "47/47 [==============================] - 0s 2ms/step - loss: 260.3684\n",
      "Epoch 1442/3000\n",
      "47/47 [==============================] - 0s 2ms/step - loss: 284.7126\n",
      "Epoch 1443/3000\n",
      "47/47 [==============================] - 0s 2ms/step - loss: 269.6658\n",
      "Epoch 1444/3000\n",
      "47/47 [==============================] - 0s 2ms/step - loss: 263.4917\n",
      "Epoch 1445/3000\n",
      "47/47 [==============================] - 0s 2ms/step - loss: 245.9950\n",
      "Epoch 1446/3000\n",
      "47/47 [==============================] - 0s 2ms/step - loss: 269.8388\n",
      "Epoch 1447/3000\n",
      "47/47 [==============================] - 0s 2ms/step - loss: 271.1392\n",
      "Epoch 1448/3000\n",
      "47/47 [==============================] - 0s 2ms/step - loss: 267.8454\n",
      "Epoch 1449/3000\n",
      "47/47 [==============================] - 0s 2ms/step - loss: 266.3110\n",
      "Epoch 1450/3000\n",
      "47/47 [==============================] - 0s 2ms/step - loss: 266.9456\n",
      "Epoch 1451/3000\n",
      "47/47 [==============================] - 0s 2ms/step - loss: 237.4819\n",
      "Epoch 1452/3000\n",
      "47/47 [==============================] - 0s 2ms/step - loss: 282.5588\n",
      "Epoch 1453/3000\n",
      "47/47 [==============================] - 0s 2ms/step - loss: 302.4662\n",
      "Epoch 1454/3000\n",
      "47/47 [==============================] - 0s 2ms/step - loss: 243.6239\n",
      "Epoch 1455/3000\n",
      "47/47 [==============================] - 0s 2ms/step - loss: 301.3500\n",
      "Epoch 1456/3000\n",
      "47/47 [==============================] - 0s 2ms/step - loss: 273.3130\n",
      "Epoch 1457/3000\n",
      "47/47 [==============================] - 0s 2ms/step - loss: 267.1981\n",
      "Epoch 1458/3000\n",
      "47/47 [==============================] - 0s 2ms/step - loss: 289.7624\n",
      "Epoch 1459/3000\n",
      "47/47 [==============================] - 0s 2ms/step - loss: 266.1012\n",
      "Epoch 1460/3000\n",
      "47/47 [==============================] - 0s 2ms/step - loss: 279.1501\n",
      "Epoch 1461/3000\n",
      "47/47 [==============================] - 0s 2ms/step - loss: 297.3280\n",
      "Epoch 1462/3000\n",
      "47/47 [==============================] - 0s 2ms/step - loss: 280.9653\n",
      "Epoch 1463/3000\n",
      "47/47 [==============================] - 0s 2ms/step - loss: 265.6130\n",
      "Epoch 1464/3000\n",
      "47/47 [==============================] - 0s 2ms/step - loss: 274.6429\n",
      "Epoch 1465/3000\n",
      "47/47 [==============================] - 0s 2ms/step - loss: 255.5949\n",
      "Epoch 1466/3000\n",
      "47/47 [==============================] - 0s 2ms/step - loss: 255.2640\n",
      "Epoch 1467/3000\n",
      "47/47 [==============================] - 0s 2ms/step - loss: 275.1681\n",
      "Epoch 1468/3000\n",
      "47/47 [==============================] - 0s 2ms/step - loss: 267.6036\n",
      "Epoch 1469/3000\n",
      "47/47 [==============================] - 0s 2ms/step - loss: 299.9090\n",
      "Epoch 1470/3000\n",
      "47/47 [==============================] - 0s 2ms/step - loss: 260.4218\n",
      "Epoch 1471/3000\n",
      "47/47 [==============================] - 0s 2ms/step - loss: 281.5420\n",
      "Epoch 1472/3000\n",
      "47/47 [==============================] - 0s 2ms/step - loss: 268.2309\n",
      "Epoch 1473/3000\n",
      "47/47 [==============================] - 0s 2ms/step - loss: 266.2860\n",
      "Epoch 1474/3000\n",
      "47/47 [==============================] - 0s 2ms/step - loss: 276.5618\n",
      "Epoch 1475/3000\n",
      "47/47 [==============================] - 0s 2ms/step - loss: 262.4361\n",
      "Epoch 1476/3000\n",
      "47/47 [==============================] - 0s 2ms/step - loss: 263.8321\n",
      "Epoch 1477/3000\n",
      "47/47 [==============================] - 0s 2ms/step - loss: 276.4727\n",
      "Epoch 1478/3000\n",
      "47/47 [==============================] - 0s 2ms/step - loss: 235.8572\n",
      "Epoch 1479/3000\n",
      "47/47 [==============================] - 0s 2ms/step - loss: 286.8648\n",
      "Epoch 1480/3000\n",
      "47/47 [==============================] - 0s 2ms/step - loss: 271.2538\n",
      "Epoch 1481/3000\n",
      "47/47 [==============================] - 0s 2ms/step - loss: 289.8220\n",
      "Epoch 1482/3000\n",
      "47/47 [==============================] - 0s 2ms/step - loss: 238.8872\n",
      "Epoch 1483/3000\n",
      "47/47 [==============================] - 0s 2ms/step - loss: 251.5216\n",
      "Epoch 1484/3000\n",
      "47/47 [==============================] - 0s 2ms/step - loss: 256.5047\n",
      "Epoch 1485/3000\n",
      "47/47 [==============================] - 0s 2ms/step - loss: 288.1733\n",
      "Epoch 1486/3000\n",
      "47/47 [==============================] - 0s 2ms/step - loss: 258.4494\n",
      "Epoch 1487/3000\n",
      "47/47 [==============================] - 0s 2ms/step - loss: 260.0610\n",
      "Epoch 1488/3000\n",
      "47/47 [==============================] - 0s 2ms/step - loss: 275.0250\n",
      "Epoch 1489/3000\n",
      "47/47 [==============================] - 0s 2ms/step - loss: 251.3804\n",
      "Epoch 1490/3000\n",
      "47/47 [==============================] - 0s 2ms/step - loss: 282.8042\n",
      "Epoch 1491/3000\n",
      "47/47 [==============================] - 0s 2ms/step - loss: 279.4516\n",
      "Epoch 1492/3000\n",
      "47/47 [==============================] - 0s 2ms/step - loss: 245.4029\n",
      "Epoch 1493/3000\n",
      "47/47 [==============================] - 0s 3ms/step - loss: 269.4547\n",
      "Epoch 1494/3000\n",
      "47/47 [==============================] - 0s 2ms/step - loss: 246.5602\n",
      "Epoch 1495/3000\n",
      "47/47 [==============================] - 0s 2ms/step - loss: 276.0362\n",
      "Epoch 1496/3000\n",
      "47/47 [==============================] - 0s 2ms/step - loss: 301.0667\n",
      "Epoch 1497/3000\n",
      "47/47 [==============================] - 0s 2ms/step - loss: 235.9519\n",
      "Epoch 1498/3000\n",
      "47/47 [==============================] - 0s 2ms/step - loss: 268.4355\n",
      "Epoch 1499/3000\n",
      "47/47 [==============================] - 0s 2ms/step - loss: 269.0719\n",
      "Epoch 1500/3000\n",
      "47/47 [==============================] - 0s 2ms/step - loss: 243.9853\n",
      "Epoch 1501/3000\n",
      "47/47 [==============================] - 0s 2ms/step - loss: 279.7668\n",
      "Epoch 1502/3000\n",
      "47/47 [==============================] - 0s 2ms/step - loss: 277.2276\n",
      "Epoch 1503/3000\n",
      "47/47 [==============================] - 0s 2ms/step - loss: 262.1114\n",
      "Epoch 1504/3000\n",
      "47/47 [==============================] - 0s 2ms/step - loss: 267.8263\n",
      "Epoch 1505/3000\n",
      "47/47 [==============================] - 0s 2ms/step - loss: 265.6188\n",
      "Epoch 1506/3000\n",
      "47/47 [==============================] - 0s 2ms/step - loss: 268.5615\n",
      "Epoch 1507/3000\n",
      "47/47 [==============================] - 0s 2ms/step - loss: 288.4881\n",
      "Epoch 1508/3000\n",
      "47/47 [==============================] - 0s 2ms/step - loss: 249.8253\n",
      "Epoch 1509/3000\n",
      "47/47 [==============================] - 0s 2ms/step - loss: 268.3135\n",
      "Epoch 1510/3000\n",
      "47/47 [==============================] - 0s 2ms/step - loss: 268.7631\n",
      "Epoch 1511/3000\n",
      "47/47 [==============================] - 0s 2ms/step - loss: 279.8899\n",
      "Epoch 1512/3000\n",
      "47/47 [==============================] - 0s 2ms/step - loss: 247.9049\n",
      "Epoch 1513/3000\n",
      "47/47 [==============================] - 0s 2ms/step - loss: 248.5035\n",
      "Epoch 1514/3000\n",
      "47/47 [==============================] - 0s 2ms/step - loss: 302.8973\n",
      "Epoch 1515/3000\n",
      "47/47 [==============================] - 0s 2ms/step - loss: 253.8561\n",
      "Epoch 1516/3000\n",
      "47/47 [==============================] - 0s 2ms/step - loss: 291.1260\n",
      "Epoch 1517/3000\n",
      "47/47 [==============================] - 0s 2ms/step - loss: 255.4380\n",
      "Epoch 1518/3000\n",
      "47/47 [==============================] - 0s 2ms/step - loss: 258.1673\n",
      "Epoch 1519/3000\n",
      "47/47 [==============================] - 0s 2ms/step - loss: 269.7995\n",
      "Epoch 1520/3000\n",
      "47/47 [==============================] - 0s 2ms/step - loss: 248.1748\n",
      "Epoch 1521/3000\n",
      "47/47 [==============================] - 0s 2ms/step - loss: 278.9219\n",
      "Epoch 1522/3000\n",
      "47/47 [==============================] - 0s 2ms/step - loss: 278.0121\n",
      "Epoch 1523/3000\n",
      "47/47 [==============================] - 0s 2ms/step - loss: 279.0666\n",
      "Epoch 1524/3000\n",
      "47/47 [==============================] - 0s 2ms/step - loss: 255.7984\n",
      "Epoch 1525/3000\n",
      "47/47 [==============================] - 0s 2ms/step - loss: 296.4557\n",
      "Epoch 1526/3000\n",
      "47/47 [==============================] - 0s 2ms/step - loss: 255.2726\n",
      "Epoch 1527/3000\n",
      "47/47 [==============================] - 0s 2ms/step - loss: 277.7392\n",
      "Epoch 1528/3000\n",
      "47/47 [==============================] - 0s 2ms/step - loss: 265.8243\n",
      "Epoch 1529/3000\n",
      "47/47 [==============================] - 0s 2ms/step - loss: 246.2375\n",
      "Epoch 1530/3000\n",
      "47/47 [==============================] - 0s 2ms/step - loss: 246.8899\n",
      "Epoch 1531/3000\n",
      "47/47 [==============================] - 0s 2ms/step - loss: 284.6196\n",
      "Epoch 1532/3000\n",
      "47/47 [==============================] - 0s 2ms/step - loss: 265.9598\n",
      "Epoch 1533/3000\n",
      "47/47 [==============================] - 0s 2ms/step - loss: 256.8393\n",
      "Epoch 1534/3000\n",
      "47/47 [==============================] - 0s 2ms/step - loss: 248.5919\n",
      "Epoch 1535/3000\n",
      "47/47 [==============================] - 0s 2ms/step - loss: 294.0158\n",
      "Epoch 1536/3000\n",
      "47/47 [==============================] - 0s 2ms/step - loss: 293.3477\n",
      "Epoch 1537/3000\n",
      "47/47 [==============================] - 0s 2ms/step - loss: 256.7230\n",
      "Epoch 1538/3000\n",
      "47/47 [==============================] - 0s 2ms/step - loss: 237.7661\n",
      "Epoch 1539/3000\n",
      "47/47 [==============================] - 0s 2ms/step - loss: 227.1609\n",
      "Epoch 1540/3000\n",
      "47/47 [==============================] - 0s 2ms/step - loss: 231.0940\n",
      "Epoch 1541/3000\n",
      "47/47 [==============================] - 0s 2ms/step - loss: 267.3794\n",
      "Epoch 1542/3000\n",
      "47/47 [==============================] - 0s 2ms/step - loss: 238.5480\n",
      "Epoch 1543/3000\n",
      "47/47 [==============================] - 0s 2ms/step - loss: 269.3390\n",
      "Epoch 1544/3000\n",
      "47/47 [==============================] - 0s 2ms/step - loss: 269.1572\n",
      "Epoch 1545/3000\n",
      "47/47 [==============================] - 0s 2ms/step - loss: 256.0406\n",
      "Epoch 1546/3000\n",
      "47/47 [==============================] - 0s 2ms/step - loss: 264.5787\n",
      "Epoch 1547/3000\n",
      "47/47 [==============================] - 0s 2ms/step - loss: 271.0042\n",
      "Epoch 1548/3000\n",
      "47/47 [==============================] - 0s 2ms/step - loss: 272.0756\n",
      "Epoch 1549/3000\n",
      "47/47 [==============================] - 0s 2ms/step - loss: 247.2241\n",
      "Epoch 1550/3000\n",
      "47/47 [==============================] - 0s 2ms/step - loss: 255.6136\n",
      "Epoch 1551/3000\n",
      "47/47 [==============================] - 0s 2ms/step - loss: 244.4289\n",
      "Epoch 1552/3000\n",
      "47/47 [==============================] - 0s 2ms/step - loss: 281.8878\n",
      "Epoch 1553/3000\n",
      "47/47 [==============================] - 0s 2ms/step - loss: 258.6368\n",
      "Epoch 1554/3000\n",
      "47/47 [==============================] - 0s 2ms/step - loss: 244.3807\n",
      "Epoch 1555/3000\n",
      "47/47 [==============================] - 0s 2ms/step - loss: 268.3851\n",
      "Epoch 1556/3000\n",
      "47/47 [==============================] - 0s 2ms/step - loss: 252.5541\n",
      "Epoch 1557/3000\n",
      "47/47 [==============================] - 0s 2ms/step - loss: 252.9514\n",
      "Epoch 1558/3000\n",
      "47/47 [==============================] - 0s 2ms/step - loss: 238.2329\n",
      "Epoch 1559/3000\n",
      "47/47 [==============================] - 0s 2ms/step - loss: 274.4224\n",
      "Epoch 1560/3000\n",
      "47/47 [==============================] - 0s 2ms/step - loss: 275.9311\n",
      "Epoch 1561/3000\n",
      "47/47 [==============================] - 0s 2ms/step - loss: 262.6362\n",
      "Epoch 1562/3000\n",
      "47/47 [==============================] - 0s 2ms/step - loss: 255.8615\n",
      "Epoch 1563/3000\n",
      "47/47 [==============================] - 0s 2ms/step - loss: 246.6925\n",
      "Epoch 1564/3000\n",
      "47/47 [==============================] - 0s 2ms/step - loss: 269.1592\n",
      "Epoch 1565/3000\n",
      "47/47 [==============================] - 0s 2ms/step - loss: 274.6988\n",
      "Epoch 1566/3000\n",
      "47/47 [==============================] - 0s 2ms/step - loss: 259.3095\n",
      "Epoch 1567/3000\n",
      "47/47 [==============================] - 0s 2ms/step - loss: 272.4831\n",
      "Epoch 1568/3000\n",
      "47/47 [==============================] - 0s 2ms/step - loss: 289.4111\n",
      "Epoch 1569/3000\n",
      "47/47 [==============================] - 0s 2ms/step - loss: 218.8590\n",
      "Epoch 1570/3000\n",
      "47/47 [==============================] - 0s 2ms/step - loss: 276.3989\n",
      "Epoch 1571/3000\n",
      "47/47 [==============================] - 0s 2ms/step - loss: 272.3407\n",
      "Epoch 1572/3000\n",
      "47/47 [==============================] - 0s 2ms/step - loss: 275.9260\n",
      "Epoch 1573/3000\n",
      "47/47 [==============================] - 0s 2ms/step - loss: 256.5793\n",
      "Epoch 1574/3000\n",
      "47/47 [==============================] - 0s 2ms/step - loss: 265.9743\n",
      "Epoch 1575/3000\n",
      "47/47 [==============================] - 0s 2ms/step - loss: 267.3935\n",
      "Epoch 1576/3000\n",
      "47/47 [==============================] - 0s 2ms/step - loss: 250.9085\n",
      "Epoch 1577/3000\n",
      "47/47 [==============================] - 0s 2ms/step - loss: 283.4204\n",
      "Epoch 1578/3000\n",
      "47/47 [==============================] - 0s 2ms/step - loss: 255.9273\n",
      "Epoch 1579/3000\n",
      "47/47 [==============================] - 0s 2ms/step - loss: 234.5465\n",
      "Epoch 1580/3000\n",
      "47/47 [==============================] - 0s 2ms/step - loss: 233.1345\n",
      "Epoch 1581/3000\n",
      "47/47 [==============================] - 0s 2ms/step - loss: 259.6350\n",
      "Epoch 1582/3000\n",
      "47/47 [==============================] - 0s 2ms/step - loss: 283.8372\n",
      "Epoch 1583/3000\n",
      "47/47 [==============================] - 0s 2ms/step - loss: 266.2980\n",
      "Epoch 1584/3000\n",
      "47/47 [==============================] - 0s 2ms/step - loss: 261.2157\n",
      "Epoch 1585/3000\n",
      "47/47 [==============================] - 0s 2ms/step - loss: 285.2347\n",
      "Epoch 1586/3000\n",
      "47/47 [==============================] - 0s 2ms/step - loss: 239.2243\n",
      "Epoch 1587/3000\n",
      "47/47 [==============================] - 0s 2ms/step - loss: 249.4767\n",
      "Epoch 1588/3000\n",
      "47/47 [==============================] - 0s 2ms/step - loss: 223.8343\n",
      "Epoch 1589/3000\n",
      "47/47 [==============================] - 0s 2ms/step - loss: 275.7024\n",
      "Epoch 1590/3000\n",
      "47/47 [==============================] - 0s 2ms/step - loss: 242.6154\n",
      "Epoch 1591/3000\n",
      "47/47 [==============================] - 0s 2ms/step - loss: 254.4297\n",
      "Epoch 1592/3000\n",
      "47/47 [==============================] - 0s 2ms/step - loss: 242.7414\n",
      "Epoch 1593/3000\n",
      "47/47 [==============================] - 0s 2ms/step - loss: 236.6381\n",
      "Epoch 1594/3000\n",
      "47/47 [==============================] - 0s 2ms/step - loss: 275.5418\n",
      "Epoch 1595/3000\n",
      "47/47 [==============================] - 0s 2ms/step - loss: 256.9153\n",
      "Epoch 1596/3000\n",
      "47/47 [==============================] - 0s 2ms/step - loss: 247.1623\n",
      "Epoch 1597/3000\n",
      "47/47 [==============================] - 0s 2ms/step - loss: 286.4616\n",
      "Epoch 1598/3000\n",
      "47/47 [==============================] - 0s 2ms/step - loss: 274.5235\n",
      "Epoch 1599/3000\n",
      "47/47 [==============================] - 0s 2ms/step - loss: 218.9453\n",
      "Epoch 1600/3000\n",
      "47/47 [==============================] - 0s 2ms/step - loss: 266.3046\n",
      "Epoch 1601/3000\n",
      "47/47 [==============================] - 0s 2ms/step - loss: 275.7873\n",
      "Epoch 1602/3000\n",
      "47/47 [==============================] - 0s 2ms/step - loss: 251.9911\n",
      "Epoch 1603/3000\n",
      "47/47 [==============================] - 0s 2ms/step - loss: 243.1939\n",
      "Epoch 1604/3000\n",
      "47/47 [==============================] - 0s 2ms/step - loss: 252.7799\n",
      "Epoch 1605/3000\n",
      "47/47 [==============================] - 0s 2ms/step - loss: 271.0902\n",
      "Epoch 1606/3000\n",
      "47/47 [==============================] - 0s 2ms/step - loss: 258.8720\n",
      "Epoch 1607/3000\n",
      "47/47 [==============================] - 0s 2ms/step - loss: 257.1422\n",
      "Epoch 1608/3000\n",
      "47/47 [==============================] - 0s 2ms/step - loss: 238.8301\n",
      "Epoch 1609/3000\n",
      "47/47 [==============================] - 0s 2ms/step - loss: 259.9295\n",
      "Epoch 1610/3000\n",
      "47/47 [==============================] - 0s 2ms/step - loss: 249.9633\n",
      "Epoch 1611/3000\n",
      "47/47 [==============================] - 0s 2ms/step - loss: 260.0269\n",
      "Epoch 1612/3000\n",
      "47/47 [==============================] - 0s 2ms/step - loss: 248.8778\n",
      "Epoch 1613/3000\n",
      "47/47 [==============================] - 0s 2ms/step - loss: 260.8176\n",
      "Epoch 1614/3000\n",
      "47/47 [==============================] - 0s 2ms/step - loss: 258.3637\n",
      "Epoch 1615/3000\n",
      "47/47 [==============================] - 0s 2ms/step - loss: 268.4739\n",
      "Epoch 1616/3000\n",
      "47/47 [==============================] - 0s 2ms/step - loss: 271.8181\n",
      "Epoch 1617/3000\n",
      "47/47 [==============================] - 0s 2ms/step - loss: 242.2159\n",
      "Epoch 1618/3000\n",
      "47/47 [==============================] - 0s 2ms/step - loss: 232.9298\n",
      "Epoch 1619/3000\n",
      "47/47 [==============================] - 0s 2ms/step - loss: 271.3188\n",
      "Epoch 1620/3000\n",
      "47/47 [==============================] - 0s 2ms/step - loss: 276.6534\n",
      "Epoch 1621/3000\n",
      "47/47 [==============================] - 0s 2ms/step - loss: 258.1685\n",
      "Epoch 1622/3000\n",
      "47/47 [==============================] - 0s 2ms/step - loss: 282.4482\n",
      "Epoch 1623/3000\n",
      "47/47 [==============================] - 0s 2ms/step - loss: 235.5584\n",
      "Epoch 1624/3000\n",
      "47/47 [==============================] - 0s 2ms/step - loss: 263.3194\n",
      "Epoch 1625/3000\n",
      "47/47 [==============================] - 0s 2ms/step - loss: 259.1681\n",
      "Epoch 1626/3000\n",
      "47/47 [==============================] - 0s 2ms/step - loss: 240.6857\n",
      "Epoch 1627/3000\n",
      "47/47 [==============================] - 0s 2ms/step - loss: 238.7012\n",
      "Epoch 1628/3000\n",
      "47/47 [==============================] - 0s 2ms/step - loss: 275.1397\n",
      "Epoch 1629/3000\n",
      "47/47 [==============================] - 0s 2ms/step - loss: 251.5703\n",
      "Epoch 1630/3000\n",
      "47/47 [==============================] - 0s 2ms/step - loss: 242.5279\n",
      "Epoch 1631/3000\n",
      "47/47 [==============================] - 0s 2ms/step - loss: 236.8163\n",
      "Epoch 1632/3000\n",
      "47/47 [==============================] - 0s 1ms/step - loss: 255.6176\n",
      "Epoch 1633/3000\n",
      "47/47 [==============================] - 0s 2ms/step - loss: 281.5155\n",
      "Epoch 1634/3000\n",
      "47/47 [==============================] - 0s 2ms/step - loss: 243.9637\n",
      "Epoch 01634: early stopping\n"
     ]
    },
    {
     "output_type": "execute_result",
     "data": {
      "text/plain": [
       "<tensorflow.python.keras.callbacks.History at 0x7fde88094cd0>"
      ]
     },
     "metadata": {},
     "execution_count": 10
    }
   ],
   "source": [
    "callback = EarlyStopping(monitor=\"loss\", patience=200, verbose=1, mode=\"auto\")\n",
    "x_train, y_train = create_data(train,2, 1)\n",
    "regressor2 = buildManyToOneModel(x_train.shape)\n",
    "# 進行訓練\n",
    "regressor2.fit(x_train, y_train, epochs = 3000, callbacks=[callback])"
   ]
  },
  {
   "cell_type": "code",
   "execution_count": 11,
   "metadata": {
    "tags": [
     "outputPrepend"
    ]
   },
   "outputs": [
    {
     "output_type": "stream",
     "name": "stdout",
     "text": [
      "ep - loss: 303.2615\n",
      "Epoch 1166/3000\n",
      "47/47 [==============================] - 0s 2ms/step - loss: 294.0308\n",
      "Epoch 1167/3000\n",
      "47/47 [==============================] - 0s 3ms/step - loss: 307.9169\n",
      "Epoch 1168/3000\n",
      "47/47 [==============================] - 0s 3ms/step - loss: 314.3952\n",
      "Epoch 1169/3000\n",
      "47/47 [==============================] - 0s 2ms/step - loss: 261.8266\n",
      "Epoch 1170/3000\n",
      "47/47 [==============================] - 0s 3ms/step - loss: 293.8497\n",
      "Epoch 1171/3000\n",
      "47/47 [==============================] - 0s 3ms/step - loss: 290.9829\n",
      "Epoch 1172/3000\n",
      "47/47 [==============================] - 0s 3ms/step - loss: 330.5795\n",
      "Epoch 1173/3000\n",
      "47/47 [==============================] - 0s 3ms/step - loss: 289.0244\n",
      "Epoch 1174/3000\n",
      "47/47 [==============================] - 0s 3ms/step - loss: 294.7916\n",
      "Epoch 1175/3000\n",
      "47/47 [==============================] - 0s 3ms/step - loss: 328.2237\n",
      "Epoch 1176/3000\n",
      "47/47 [==============================] - 0s 3ms/step - loss: 295.3245\n",
      "Epoch 1177/3000\n",
      "47/47 [==============================] - 0s 3ms/step - loss: 293.3958\n",
      "Epoch 1178/3000\n",
      "47/47 [==============================] - 0s 3ms/step - loss: 310.5982\n",
      "Epoch 1179/3000\n",
      "47/47 [==============================] - 0s 3ms/step - loss: 283.7767\n",
      "Epoch 1180/3000\n",
      "47/47 [==============================] - 0s 3ms/step - loss: 308.5004\n",
      "Epoch 1181/3000\n",
      "47/47 [==============================] - 0s 3ms/step - loss: 323.1157\n",
      "Epoch 1182/3000\n",
      "47/47 [==============================] - 0s 3ms/step - loss: 257.9605\n",
      "Epoch 1183/3000\n",
      "47/47 [==============================] - 0s 3ms/step - loss: 301.3950\n",
      "Epoch 1184/3000\n",
      "47/47 [==============================] - 0s 3ms/step - loss: 263.1922\n",
      "Epoch 1185/3000\n",
      "47/47 [==============================] - 0s 3ms/step - loss: 316.4322\n",
      "Epoch 1186/3000\n",
      "47/47 [==============================] - 0s 3ms/step - loss: 320.8528\n",
      "Epoch 1187/3000\n",
      "47/47 [==============================] - 0s 3ms/step - loss: 282.7994\n",
      "Epoch 1188/3000\n",
      "47/47 [==============================] - 0s 3ms/step - loss: 277.6686\n",
      "Epoch 1189/3000\n",
      "47/47 [==============================] - 0s 2ms/step - loss: 280.4209\n",
      "Epoch 1190/3000\n",
      "47/47 [==============================] - 0s 2ms/step - loss: 303.5337\n",
      "Epoch 1191/3000\n",
      "47/47 [==============================] - 0s 3ms/step - loss: 310.6661\n",
      "Epoch 1192/3000\n",
      "47/47 [==============================] - 0s 3ms/step - loss: 283.1321\n",
      "Epoch 1193/3000\n",
      "47/47 [==============================] - 0s 3ms/step - loss: 275.2553\n",
      "Epoch 1194/3000\n",
      "47/47 [==============================] - 0s 3ms/step - loss: 331.8902\n",
      "Epoch 1195/3000\n",
      "47/47 [==============================] - 0s 3ms/step - loss: 283.7578\n",
      "Epoch 1196/3000\n",
      "47/47 [==============================] - 0s 4ms/step - loss: 299.9791\n",
      "Epoch 1197/3000\n",
      "47/47 [==============================] - 0s 3ms/step - loss: 269.3751\n",
      "Epoch 1198/3000\n",
      "47/47 [==============================] - 0s 3ms/step - loss: 297.5057\n",
      "Epoch 1199/3000\n",
      "47/47 [==============================] - 0s 3ms/step - loss: 291.7627\n",
      "Epoch 1200/3000\n",
      "47/47 [==============================] - 0s 3ms/step - loss: 271.9119\n",
      "Epoch 1201/3000\n",
      "47/47 [==============================] - 0s 2ms/step - loss: 289.6713\n",
      "Epoch 1202/3000\n",
      "47/47 [==============================] - 0s 3ms/step - loss: 286.0303\n",
      "Epoch 1203/3000\n",
      "47/47 [==============================] - 0s 3ms/step - loss: 290.9491\n",
      "Epoch 1204/3000\n",
      "47/47 [==============================] - 0s 3ms/step - loss: 290.8140\n",
      "Epoch 1205/3000\n",
      "47/47 [==============================] - 0s 3ms/step - loss: 308.8816\n",
      "Epoch 1206/3000\n",
      "47/47 [==============================] - 0s 3ms/step - loss: 277.1502\n",
      "Epoch 1207/3000\n",
      "47/47 [==============================] - 0s 3ms/step - loss: 303.2489\n",
      "Epoch 1208/3000\n",
      "47/47 [==============================] - 0s 3ms/step - loss: 317.4476\n",
      "Epoch 1209/3000\n",
      "47/47 [==============================] - 0s 3ms/step - loss: 286.4632\n",
      "Epoch 1210/3000\n",
      "47/47 [==============================] - 0s 3ms/step - loss: 312.1002\n",
      "Epoch 1211/3000\n",
      "47/47 [==============================] - 0s 3ms/step - loss: 301.3136\n",
      "Epoch 1212/3000\n",
      "47/47 [==============================] - 0s 3ms/step - loss: 289.2347\n",
      "Epoch 1213/3000\n",
      "47/47 [==============================] - 0s 2ms/step - loss: 287.5563\n",
      "Epoch 1214/3000\n",
      "47/47 [==============================] - 0s 2ms/step - loss: 311.0787\n",
      "Epoch 1215/3000\n",
      "47/47 [==============================] - 0s 4ms/step - loss: 261.4709\n",
      "Epoch 1216/3000\n",
      "47/47 [==============================] - 0s 4ms/step - loss: 299.6730\n",
      "Epoch 1217/3000\n",
      "47/47 [==============================] - 0s 3ms/step - loss: 299.5960\n",
      "Epoch 1218/3000\n",
      "47/47 [==============================] - 0s 3ms/step - loss: 316.6578\n",
      "Epoch 1219/3000\n",
      "47/47 [==============================] - 0s 3ms/step - loss: 281.6235\n",
      "Epoch 1220/3000\n",
      "47/47 [==============================] - 0s 3ms/step - loss: 292.1373\n",
      "Epoch 1221/3000\n",
      "47/47 [==============================] - 0s 3ms/step - loss: 302.6635\n",
      "Epoch 1222/3000\n",
      "47/47 [==============================] - 0s 3ms/step - loss: 301.4061\n",
      "Epoch 1223/3000\n",
      "47/47 [==============================] - 0s 3ms/step - loss: 259.3275\n",
      "Epoch 1224/3000\n",
      "47/47 [==============================] - 0s 2ms/step - loss: 285.2343\n",
      "Epoch 1225/3000\n",
      "47/47 [==============================] - 0s 2ms/step - loss: 276.4301\n",
      "Epoch 1226/3000\n",
      "47/47 [==============================] - 0s 3ms/step - loss: 302.7060\n",
      "Epoch 1227/3000\n",
      "47/47 [==============================] - 0s 3ms/step - loss: 296.3266\n",
      "Epoch 1228/3000\n",
      "47/47 [==============================] - 0s 4ms/step - loss: 263.8284\n",
      "Epoch 1229/3000\n",
      "47/47 [==============================] - 0s 3ms/step - loss: 284.6018\n",
      "Epoch 1230/3000\n",
      "47/47 [==============================] - 0s 3ms/step - loss: 289.0445\n",
      "Epoch 1231/3000\n",
      "47/47 [==============================] - 0s 4ms/step - loss: 297.3891\n",
      "Epoch 1232/3000\n",
      "47/47 [==============================] - 0s 3ms/step - loss: 261.9400\n",
      "Epoch 1233/3000\n",
      "47/47 [==============================] - 0s 3ms/step - loss: 293.3441\n",
      "Epoch 1234/3000\n",
      "47/47 [==============================] - 0s 3ms/step - loss: 269.6043\n",
      "Epoch 1235/3000\n",
      "47/47 [==============================] - 0s 2ms/step - loss: 268.2451\n",
      "Epoch 1236/3000\n",
      "47/47 [==============================] - 0s 3ms/step - loss: 277.0210\n",
      "Epoch 1237/3000\n",
      "47/47 [==============================] - 0s 3ms/step - loss: 306.1137\n",
      "Epoch 1238/3000\n",
      "47/47 [==============================] - 0s 2ms/step - loss: 270.9264\n",
      "Epoch 1239/3000\n",
      "47/47 [==============================] - 0s 3ms/step - loss: 267.5699\n",
      "Epoch 1240/3000\n",
      "47/47 [==============================] - 0s 3ms/step - loss: 271.2774\n",
      "Epoch 1241/3000\n",
      "47/47 [==============================] - 0s 3ms/step - loss: 292.9950\n",
      "Epoch 1242/3000\n",
      "47/47 [==============================] - 0s 3ms/step - loss: 316.6769\n",
      "Epoch 1243/3000\n",
      "47/47 [==============================] - 0s 3ms/step - loss: 302.0238\n",
      "Epoch 1244/3000\n",
      "47/47 [==============================] - 0s 3ms/step - loss: 321.2085\n",
      "Epoch 1245/3000\n",
      "47/47 [==============================] - 0s 2ms/step - loss: 310.2359\n",
      "Epoch 1246/3000\n",
      "47/47 [==============================] - 0s 3ms/step - loss: 292.2244\n",
      "Epoch 1247/3000\n",
      "47/47 [==============================] - 0s 2ms/step - loss: 275.7935\n",
      "Epoch 1248/3000\n",
      "47/47 [==============================] - 0s 2ms/step - loss: 271.5763\n",
      "Epoch 1249/3000\n",
      "47/47 [==============================] - 0s 2ms/step - loss: 241.5128\n",
      "Epoch 1250/3000\n",
      "47/47 [==============================] - 0s 2ms/step - loss: 277.0605\n",
      "Epoch 1251/3000\n",
      "47/47 [==============================] - 0s 3ms/step - loss: 292.5698\n",
      "Epoch 1252/3000\n",
      "47/47 [==============================] - 0s 2ms/step - loss: 293.4816\n",
      "Epoch 1253/3000\n",
      "47/47 [==============================] - 0s 2ms/step - loss: 282.9334\n",
      "Epoch 1254/3000\n",
      "47/47 [==============================] - 0s 2ms/step - loss: 278.1084\n",
      "Epoch 1255/3000\n",
      "47/47 [==============================] - 0s 2ms/step - loss: 286.4334\n",
      "Epoch 1256/3000\n",
      "47/47 [==============================] - 0s 2ms/step - loss: 306.3009\n",
      "Epoch 1257/3000\n",
      "47/47 [==============================] - 0s 3ms/step - loss: 290.2352\n",
      "Epoch 1258/3000\n",
      "47/47 [==============================] - 0s 2ms/step - loss: 299.4998\n",
      "Epoch 1259/3000\n",
      "47/47 [==============================] - 0s 2ms/step - loss: 279.6717\n",
      "Epoch 1260/3000\n",
      "47/47 [==============================] - 0s 2ms/step - loss: 306.9335\n",
      "Epoch 1261/3000\n",
      "47/47 [==============================] - 0s 2ms/step - loss: 296.7970\n",
      "Epoch 1262/3000\n",
      "47/47 [==============================] - 0s 3ms/step - loss: 262.8753\n",
      "Epoch 1263/3000\n",
      "47/47 [==============================] - 0s 3ms/step - loss: 303.2364\n",
      "Epoch 1264/3000\n",
      "47/47 [==============================] - 0s 3ms/step - loss: 307.4499\n",
      "Epoch 1265/3000\n",
      "47/47 [==============================] - 0s 3ms/step - loss: 276.4826\n",
      "Epoch 1266/3000\n",
      "47/47 [==============================] - 0s 2ms/step - loss: 321.3028\n",
      "Epoch 1267/3000\n",
      "47/47 [==============================] - 0s 2ms/step - loss: 263.4288\n",
      "Epoch 1268/3000\n",
      "47/47 [==============================] - 0s 2ms/step - loss: 300.4958\n",
      "Epoch 1269/3000\n",
      "47/47 [==============================] - 0s 2ms/step - loss: 263.3897\n",
      "Epoch 1270/3000\n",
      "47/47 [==============================] - 0s 2ms/step - loss: 292.0092\n",
      "Epoch 1271/3000\n",
      "47/47 [==============================] - 0s 3ms/step - loss: 299.6406\n",
      "Epoch 1272/3000\n",
      "47/47 [==============================] - 0s 2ms/step - loss: 279.0010\n",
      "Epoch 1273/3000\n",
      "47/47 [==============================] - 0s 2ms/step - loss: 338.9299\n",
      "Epoch 1274/3000\n",
      "47/47 [==============================] - 0s 2ms/step - loss: 279.3770\n",
      "Epoch 1275/3000\n",
      "47/47 [==============================] - 0s 2ms/step - loss: 312.5341\n",
      "Epoch 1276/3000\n",
      "47/47 [==============================] - 0s 2ms/step - loss: 265.8221\n",
      "Epoch 1277/3000\n",
      "47/47 [==============================] - 0s 3ms/step - loss: 289.1988\n",
      "Epoch 1278/3000\n",
      "47/47 [==============================] - 0s 2ms/step - loss: 257.1108\n",
      "Epoch 1279/3000\n",
      "47/47 [==============================] - 0s 2ms/step - loss: 270.7903\n",
      "Epoch 1280/3000\n",
      "47/47 [==============================] - 0s 2ms/step - loss: 303.1770\n",
      "Epoch 1281/3000\n",
      "47/47 [==============================] - 0s 2ms/step - loss: 307.7343\n",
      "Epoch 1282/3000\n",
      "47/47 [==============================] - 0s 2ms/step - loss: 306.8683\n",
      "Epoch 1283/3000\n",
      "47/47 [==============================] - 0s 2ms/step - loss: 268.6337\n",
      "Epoch 1284/3000\n",
      "47/47 [==============================] - 0s 2ms/step - loss: 264.6130\n",
      "Epoch 1285/3000\n",
      "47/47 [==============================] - 0s 2ms/step - loss: 325.1673\n",
      "Epoch 1286/3000\n",
      "47/47 [==============================] - 0s 2ms/step - loss: 263.9173\n",
      "Epoch 1287/3000\n",
      "47/47 [==============================] - 0s 2ms/step - loss: 295.0032\n",
      "Epoch 1288/3000\n",
      "47/47 [==============================] - 0s 3ms/step - loss: 261.5944\n",
      "Epoch 1289/3000\n",
      "47/47 [==============================] - 0s 2ms/step - loss: 239.3380\n",
      "Epoch 1290/3000\n",
      "47/47 [==============================] - 0s 2ms/step - loss: 302.5232\n",
      "Epoch 1291/3000\n",
      "47/47 [==============================] - 0s 2ms/step - loss: 257.2036\n",
      "Epoch 1292/3000\n",
      "47/47 [==============================] - 0s 2ms/step - loss: 300.8906\n",
      "Epoch 1293/3000\n",
      "47/47 [==============================] - 0s 2ms/step - loss: 272.5285\n",
      "Epoch 1294/3000\n",
      "47/47 [==============================] - 0s 2ms/step - loss: 291.9301\n",
      "Epoch 1295/3000\n",
      "47/47 [==============================] - 0s 2ms/step - loss: 315.2527\n",
      "Epoch 1296/3000\n",
      "47/47 [==============================] - 0s 2ms/step - loss: 261.6616\n",
      "Epoch 1297/3000\n",
      "47/47 [==============================] - 0s 2ms/step - loss: 307.8037\n",
      "Epoch 1298/3000\n",
      "47/47 [==============================] - 0s 2ms/step - loss: 289.8339\n",
      "Epoch 1299/3000\n",
      "47/47 [==============================] - 0s 2ms/step - loss: 282.8115\n",
      "Epoch 1300/3000\n",
      "47/47 [==============================] - 0s 2ms/step - loss: 279.2647\n",
      "Epoch 1301/3000\n",
      "47/47 [==============================] - 0s 2ms/step - loss: 283.6841\n",
      "Epoch 1302/3000\n",
      "47/47 [==============================] - 0s 2ms/step - loss: 272.0411\n",
      "Epoch 1303/3000\n",
      "47/47 [==============================] - 0s 3ms/step - loss: 327.6954\n",
      "Epoch 1304/3000\n",
      "47/47 [==============================] - 0s 2ms/step - loss: 260.3007\n",
      "Epoch 1305/3000\n",
      "47/47 [==============================] - 0s 3ms/step - loss: 277.2737\n",
      "Epoch 1306/3000\n",
      "47/47 [==============================] - 0s 3ms/step - loss: 288.5040\n",
      "Epoch 1307/3000\n",
      "47/47 [==============================] - 0s 2ms/step - loss: 308.9150\n",
      "Epoch 1308/3000\n",
      "47/47 [==============================] - 0s 2ms/step - loss: 276.5130\n",
      "Epoch 1309/3000\n",
      "47/47 [==============================] - 0s 3ms/step - loss: 280.9045\n",
      "Epoch 1310/3000\n",
      "47/47 [==============================] - 0s 2ms/step - loss: 332.2442\n",
      "Epoch 1311/3000\n",
      "47/47 [==============================] - 0s 2ms/step - loss: 264.2581\n",
      "Epoch 1312/3000\n",
      "47/47 [==============================] - 0s 2ms/step - loss: 297.0343\n",
      "Epoch 1313/3000\n",
      "47/47 [==============================] - 0s 2ms/step - loss: 282.5251\n",
      "Epoch 1314/3000\n",
      "47/47 [==============================] - 0s 2ms/step - loss: 301.6913\n",
      "Epoch 1315/3000\n",
      "47/47 [==============================] - 0s 3ms/step - loss: 275.0058\n",
      "Epoch 1316/3000\n",
      "47/47 [==============================] - 0s 3ms/step - loss: 299.2062\n",
      "Epoch 1317/3000\n",
      "47/47 [==============================] - 0s 4ms/step - loss: 275.6391\n",
      "Epoch 1318/3000\n",
      "47/47 [==============================] - 0s 3ms/step - loss: 292.5883\n",
      "Epoch 1319/3000\n",
      "47/47 [==============================] - 0s 3ms/step - loss: 285.2598\n",
      "Epoch 1320/3000\n",
      "47/47 [==============================] - 0s 3ms/step - loss: 285.8915\n",
      "Epoch 1321/3000\n",
      "47/47 [==============================] - 0s 3ms/step - loss: 299.8313\n",
      "Epoch 1322/3000\n",
      "47/47 [==============================] - 0s 3ms/step - loss: 293.7711\n",
      "Epoch 1323/3000\n",
      "47/47 [==============================] - 0s 2ms/step - loss: 290.4222\n",
      "Epoch 1324/3000\n",
      "47/47 [==============================] - 0s 2ms/step - loss: 303.7435\n",
      "Epoch 1325/3000\n",
      "47/47 [==============================] - 0s 3ms/step - loss: 307.6260\n",
      "Epoch 1326/3000\n",
      "47/47 [==============================] - 0s 3ms/step - loss: 283.7603\n",
      "Epoch 1327/3000\n",
      "47/47 [==============================] - 0s 4ms/step - loss: 326.9004\n",
      "Epoch 1328/3000\n",
      "47/47 [==============================] - 0s 5ms/step - loss: 310.7957\n",
      "Epoch 1329/3000\n",
      "47/47 [==============================] - 0s 3ms/step - loss: 262.9267\n",
      "Epoch 1330/3000\n",
      "47/47 [==============================] - 0s 2ms/step - loss: 268.3292\n",
      "Epoch 1331/3000\n",
      "47/47 [==============================] - 0s 2ms/step - loss: 282.3692\n",
      "Epoch 1332/3000\n",
      "47/47 [==============================] - 0s 2ms/step - loss: 278.8826\n",
      "Epoch 1333/3000\n",
      "47/47 [==============================] - 0s 2ms/step - loss: 279.7455\n",
      "Epoch 1334/3000\n",
      "47/47 [==============================] - 0s 3ms/step - loss: 305.4157\n",
      "Epoch 1335/3000\n",
      "47/47 [==============================] - 0s 2ms/step - loss: 290.5094\n",
      "Epoch 1336/3000\n",
      "47/47 [==============================] - 0s 2ms/step - loss: 311.2459\n",
      "Epoch 1337/3000\n",
      "47/47 [==============================] - 0s 2ms/step - loss: 285.7127\n",
      "Epoch 1338/3000\n",
      "47/47 [==============================] - 0s 3ms/step - loss: 268.7142\n",
      "Epoch 1339/3000\n",
      "47/47 [==============================] - 0s 2ms/step - loss: 308.1180\n",
      "Epoch 1340/3000\n",
      "47/47 [==============================] - 0s 2ms/step - loss: 308.2711\n",
      "Epoch 1341/3000\n",
      "47/47 [==============================] - 0s 3ms/step - loss: 286.3475\n",
      "Epoch 1342/3000\n",
      "47/47 [==============================] - 0s 2ms/step - loss: 275.6263\n",
      "Epoch 1343/3000\n",
      "47/47 [==============================] - 0s 3ms/step - loss: 290.4140\n",
      "Epoch 1344/3000\n",
      "47/47 [==============================] - 0s 3ms/step - loss: 254.5653\n",
      "Epoch 1345/3000\n",
      "47/47 [==============================] - 0s 4ms/step - loss: 291.9645\n",
      "Epoch 1346/3000\n",
      "47/47 [==============================] - 0s 4ms/step - loss: 302.8693\n",
      "Epoch 1347/3000\n",
      "47/47 [==============================] - 0s 4ms/step - loss: 327.2075\n",
      "Epoch 1348/3000\n",
      "47/47 [==============================] - 0s 4ms/step - loss: 289.2125\n",
      "Epoch 1349/3000\n",
      "47/47 [==============================] - 0s 3ms/step - loss: 296.3564\n",
      "Epoch 1350/3000\n",
      "47/47 [==============================] - 0s 3ms/step - loss: 281.7370\n",
      "Epoch 1351/3000\n",
      "47/47 [==============================] - 0s 3ms/step - loss: 289.4213\n",
      "Epoch 1352/3000\n",
      "47/47 [==============================] - 0s 3ms/step - loss: 283.5316\n",
      "Epoch 1353/3000\n",
      "47/47 [==============================] - 0s 3ms/step - loss: 291.6871\n",
      "Epoch 1354/3000\n",
      "47/47 [==============================] - 0s 3ms/step - loss: 282.9655\n",
      "Epoch 1355/3000\n",
      "47/47 [==============================] - 0s 3ms/step - loss: 293.7244\n",
      "Epoch 1356/3000\n",
      "47/47 [==============================] - 0s 3ms/step - loss: 276.2843\n",
      "Epoch 1357/3000\n",
      "47/47 [==============================] - 0s 3ms/step - loss: 287.8407\n",
      "Epoch 1358/3000\n",
      "47/47 [==============================] - 0s 3ms/step - loss: 293.0618\n",
      "Epoch 1359/3000\n",
      "47/47 [==============================] - 0s 3ms/step - loss: 311.6858\n",
      "Epoch 1360/3000\n",
      "47/47 [==============================] - 0s 2ms/step - loss: 305.1808\n",
      "Epoch 1361/3000\n",
      "47/47 [==============================] - 0s 3ms/step - loss: 279.4509\n",
      "Epoch 1362/3000\n",
      "47/47 [==============================] - 0s 3ms/step - loss: 283.8597\n",
      "Epoch 1363/3000\n",
      "47/47 [==============================] - 0s 3ms/step - loss: 315.1931\n",
      "Epoch 1364/3000\n",
      "47/47 [==============================] - 0s 2ms/step - loss: 273.7898\n",
      "Epoch 1365/3000\n",
      "47/47 [==============================] - 0s 2ms/step - loss: 259.0829\n",
      "Epoch 1366/3000\n",
      "47/47 [==============================] - 0s 2ms/step - loss: 304.0830\n",
      "Epoch 1367/3000\n",
      "47/47 [==============================] - 0s 2ms/step - loss: 284.8658\n",
      "Epoch 1368/3000\n",
      "47/47 [==============================] - 0s 2ms/step - loss: 273.4927\n",
      "Epoch 1369/3000\n",
      "47/47 [==============================] - 0s 2ms/step - loss: 279.3481\n",
      "Epoch 1370/3000\n",
      "47/47 [==============================] - 0s 3ms/step - loss: 280.5205\n",
      "Epoch 1371/3000\n",
      "47/47 [==============================] - 0s 3ms/step - loss: 293.2204\n",
      "Epoch 1372/3000\n",
      "47/47 [==============================] - 0s 2ms/step - loss: 291.5417\n",
      "Epoch 1373/3000\n",
      "47/47 [==============================] - 0s 3ms/step - loss: 275.6942\n",
      "Epoch 1374/3000\n",
      "47/47 [==============================] - 0s 4ms/step - loss: 282.2829\n",
      "Epoch 1375/3000\n",
      "47/47 [==============================] - 0s 2ms/step - loss: 269.2241\n",
      "Epoch 1376/3000\n",
      "47/47 [==============================] - 0s 2ms/step - loss: 291.2658\n",
      "Epoch 1377/3000\n",
      "47/47 [==============================] - 0s 2ms/step - loss: 309.7948\n",
      "Epoch 1378/3000\n",
      "47/47 [==============================] - 0s 3ms/step - loss: 300.2122\n",
      "Epoch 1379/3000\n",
      "47/47 [==============================] - 0s 3ms/step - loss: 251.2347\n",
      "Epoch 1380/3000\n",
      "47/47 [==============================] - 0s 2ms/step - loss: 284.8883\n",
      "Epoch 1381/3000\n",
      "47/47 [==============================] - 0s 2ms/step - loss: 266.2795\n",
      "Epoch 1382/3000\n",
      "47/47 [==============================] - 0s 2ms/step - loss: 293.1952\n",
      "Epoch 1383/3000\n",
      "47/47 [==============================] - 0s 3ms/step - loss: 259.5988\n",
      "Epoch 1384/3000\n",
      "47/47 [==============================] - 0s 3ms/step - loss: 260.6638\n",
      "Epoch 1385/3000\n",
      "47/47 [==============================] - 0s 3ms/step - loss: 267.1995\n",
      "Epoch 1386/3000\n",
      "47/47 [==============================] - 0s 3ms/step - loss: 268.8501\n",
      "Epoch 1387/3000\n",
      "47/47 [==============================] - 0s 3ms/step - loss: 252.6463\n",
      "Epoch 1388/3000\n",
      "47/47 [==============================] - 0s 4ms/step - loss: 250.8381\n",
      "Epoch 1389/3000\n",
      "47/47 [==============================] - 0s 3ms/step - loss: 282.2006\n",
      "Epoch 1390/3000\n",
      "47/47 [==============================] - 0s 3ms/step - loss: 295.0184\n",
      "Epoch 1391/3000\n",
      "47/47 [==============================] - 0s 4ms/step - loss: 288.5368\n",
      "Epoch 1392/3000\n",
      "47/47 [==============================] - 0s 3ms/step - loss: 252.8649\n",
      "Epoch 1393/3000\n",
      "47/47 [==============================] - 0s 3ms/step - loss: 308.3772\n",
      "Epoch 1394/3000\n",
      "47/47 [==============================] - 0s 3ms/step - loss: 270.5318\n",
      "Epoch 1395/3000\n",
      "47/47 [==============================] - 0s 3ms/step - loss: 290.1857\n",
      "Epoch 1396/3000\n",
      "47/47 [==============================] - 0s 3ms/step - loss: 259.1093\n",
      "Epoch 1397/3000\n",
      "47/47 [==============================] - 0s 4ms/step - loss: 263.5617\n",
      "Epoch 01397: early stopping\n"
     ]
    },
    {
     "output_type": "execute_result",
     "data": {
      "text/plain": [
       "<tensorflow.python.keras.callbacks.History at 0x7fde804516d0>"
      ]
     },
     "metadata": {},
     "execution_count": 11
    }
   ],
   "source": [
    "callback = EarlyStopping(monitor=\"loss\", patience=200, verbose=1, mode=\"auto\")\n",
    "x_train, y_train = create_data(train,4, 1)\n",
    "regressor4 = buildManyToOneModel(x_train.shape)\n",
    "# 進行訓練\n",
    "regressor4.fit(x_train, y_train, epochs = 3000, callbacks=[callback])"
   ]
  },
  {
   "cell_type": "code",
   "execution_count": 12,
   "metadata": {
    "tags": [
     "outputPrepend"
    ]
   },
   "outputs": [
    {
     "output_type": "stream",
     "name": "stdout",
     "text": [
      "=========] - 0s 3ms/step - loss: 309.5897\n",
      "Epoch 1269/1500\n",
      "47/47 [==============================] - 0s 2ms/step - loss: 266.1041\n",
      "Epoch 1270/1500\n",
      "47/47 [==============================] - 0s 3ms/step - loss: 298.6903\n",
      "Epoch 1271/1500\n",
      "47/47 [==============================] - 0s 3ms/step - loss: 306.1427\n",
      "Epoch 1272/1500\n",
      "47/47 [==============================] - 0s 3ms/step - loss: 304.0805\n",
      "Epoch 1273/1500\n",
      "47/47 [==============================] - 0s 3ms/step - loss: 255.3340\n",
      "Epoch 1274/1500\n",
      "47/47 [==============================] - 0s 3ms/step - loss: 274.6164\n",
      "Epoch 1275/1500\n",
      "47/47 [==============================] - 0s 4ms/step - loss: 313.2158\n",
      "Epoch 1276/1500\n",
      "47/47 [==============================] - 0s 3ms/step - loss: 269.9526\n",
      "Epoch 1277/1500\n",
      "47/47 [==============================] - 0s 3ms/step - loss: 261.7886\n",
      "Epoch 1278/1500\n",
      "47/47 [==============================] - 0s 3ms/step - loss: 289.0775\n",
      "Epoch 1279/1500\n",
      "47/47 [==============================] - 0s 3ms/step - loss: 248.4487\n",
      "Epoch 1280/1500\n",
      "47/47 [==============================] - 0s 3ms/step - loss: 275.1024\n",
      "Epoch 1281/1500\n",
      "47/47 [==============================] - 0s 3ms/step - loss: 276.7443\n",
      "Epoch 1282/1500\n",
      "47/47 [==============================] - 0s 3ms/step - loss: 296.6744\n",
      "Epoch 1283/1500\n",
      "47/47 [==============================] - 0s 3ms/step - loss: 270.4176\n",
      "Epoch 1284/1500\n",
      "47/47 [==============================] - 0s 3ms/step - loss: 269.0434\n",
      "Epoch 1285/1500\n",
      "47/47 [==============================] - 0s 3ms/step - loss: 277.1050\n",
      "Epoch 1286/1500\n",
      "47/47 [==============================] - 0s 3ms/step - loss: 245.8748\n",
      "Epoch 1287/1500\n",
      "47/47 [==============================] - 0s 4ms/step - loss: 285.5512\n",
      "Epoch 1288/1500\n",
      "47/47 [==============================] - 0s 3ms/step - loss: 272.1414\n",
      "Epoch 1289/1500\n",
      "47/47 [==============================] - 0s 3ms/step - loss: 294.9833\n",
      "Epoch 1290/1500\n",
      "47/47 [==============================] - 0s 3ms/step - loss: 279.7644\n",
      "Epoch 1291/1500\n",
      "47/47 [==============================] - 0s 3ms/step - loss: 297.0342\n",
      "Epoch 1292/1500\n",
      "47/47 [==============================] - 0s 3ms/step - loss: 283.0468\n",
      "Epoch 1293/1500\n",
      "47/47 [==============================] - 0s 3ms/step - loss: 262.4138\n",
      "Epoch 1294/1500\n",
      "47/47 [==============================] - 0s 3ms/step - loss: 286.8194\n",
      "Epoch 1295/1500\n",
      "47/47 [==============================] - 0s 3ms/step - loss: 283.8528\n",
      "Epoch 1296/1500\n",
      "47/47 [==============================] - 0s 3ms/step - loss: 260.5565\n",
      "Epoch 1297/1500\n",
      "47/47 [==============================] - 0s 3ms/step - loss: 268.6794\n",
      "Epoch 1298/1500\n",
      "47/47 [==============================] - 0s 3ms/step - loss: 278.8123\n",
      "Epoch 1299/1500\n",
      "47/47 [==============================] - 0s 3ms/step - loss: 301.3307\n",
      "Epoch 1300/1500\n",
      "47/47 [==============================] - 0s 4ms/step - loss: 270.9242\n",
      "Epoch 1301/1500\n",
      "47/47 [==============================] - 0s 5ms/step - loss: 253.1143\n",
      "Epoch 1302/1500\n",
      "47/47 [==============================] - 0s 3ms/step - loss: 270.5090\n",
      "Epoch 1303/1500\n",
      "47/47 [==============================] - 0s 3ms/step - loss: 280.5898\n",
      "Epoch 1304/1500\n",
      "47/47 [==============================] - 0s 4ms/step - loss: 280.0925\n",
      "Epoch 1305/1500\n",
      "47/47 [==============================] - 0s 4ms/step - loss: 262.5996\n",
      "Epoch 1306/1500\n",
      "47/47 [==============================] - 0s 3ms/step - loss: 288.0767\n",
      "Epoch 1307/1500\n",
      "47/47 [==============================] - 0s 3ms/step - loss: 265.0999\n",
      "Epoch 1308/1500\n",
      "47/47 [==============================] - 0s 4ms/step - loss: 247.3312\n",
      "Epoch 1309/1500\n",
      "47/47 [==============================] - 0s 3ms/step - loss: 331.0009\n",
      "Epoch 1310/1500\n",
      "47/47 [==============================] - 0s 3ms/step - loss: 263.7901\n",
      "Epoch 1311/1500\n",
      "47/47 [==============================] - 0s 4ms/step - loss: 246.9893\n",
      "Epoch 1312/1500\n",
      "47/47 [==============================] - 0s 4ms/step - loss: 285.4617\n",
      "Epoch 1313/1500\n",
      "47/47 [==============================] - 1s 15ms/step - loss: 278.7862\n",
      "Epoch 1314/1500\n",
      "47/47 [==============================] - 1s 14ms/step - loss: 268.3363\n",
      "Epoch 1315/1500\n",
      "47/47 [==============================] - 1s 14ms/step - loss: 256.7684\n",
      "Epoch 1316/1500\n",
      "47/47 [==============================] - 1s 14ms/step - loss: 242.0928\n",
      "Epoch 1317/1500\n",
      "47/47 [==============================] - 0s 5ms/step - loss: 276.3877\n",
      "Epoch 1318/1500\n",
      "47/47 [==============================] - 0s 3ms/step - loss: 311.2253\n",
      "Epoch 1319/1500\n",
      "47/47 [==============================] - 0s 3ms/step - loss: 258.3783\n",
      "Epoch 1320/1500\n",
      "47/47 [==============================] - 0s 4ms/step - loss: 287.0392\n",
      "Epoch 1321/1500\n",
      "47/47 [==============================] - 0s 3ms/step - loss: 263.9800\n",
      "Epoch 1322/1500\n",
      "47/47 [==============================] - 0s 3ms/step - loss: 277.5373\n",
      "Epoch 1323/1500\n",
      "47/47 [==============================] - 0s 3ms/step - loss: 292.8979\n",
      "Epoch 1324/1500\n",
      "47/47 [==============================] - 0s 3ms/step - loss: 283.3309\n",
      "Epoch 1325/1500\n",
      "47/47 [==============================] - 0s 3ms/step - loss: 286.4142\n",
      "Epoch 1326/1500\n",
      "47/47 [==============================] - 0s 3ms/step - loss: 320.9765\n",
      "Epoch 1327/1500\n",
      "47/47 [==============================] - 0s 3ms/step - loss: 278.9987\n",
      "Epoch 1328/1500\n",
      "47/47 [==============================] - 0s 2ms/step - loss: 279.1184\n",
      "Epoch 1329/1500\n",
      "47/47 [==============================] - 0s 3ms/step - loss: 266.6536\n",
      "Epoch 1330/1500\n",
      "47/47 [==============================] - 0s 3ms/step - loss: 309.5825\n",
      "Epoch 1331/1500\n",
      "47/47 [==============================] - 0s 2ms/step - loss: 246.3340\n",
      "Epoch 1332/1500\n",
      "47/47 [==============================] - 0s 3ms/step - loss: 265.9951\n",
      "Epoch 1333/1500\n",
      "47/47 [==============================] - 0s 3ms/step - loss: 314.2376\n",
      "Epoch 1334/1500\n",
      "47/47 [==============================] - 0s 3ms/step - loss: 264.0518\n",
      "Epoch 1335/1500\n",
      "47/47 [==============================] - 0s 3ms/step - loss: 273.3744\n",
      "Epoch 1336/1500\n",
      "47/47 [==============================] - 0s 3ms/step - loss: 272.0938\n",
      "Epoch 1337/1500\n",
      "47/47 [==============================] - 0s 3ms/step - loss: 292.6837\n",
      "Epoch 1338/1500\n",
      "47/47 [==============================] - 0s 3ms/step - loss: 269.3283\n",
      "Epoch 1339/1500\n",
      "47/47 [==============================] - 0s 3ms/step - loss: 256.6423\n",
      "Epoch 1340/1500\n",
      "47/47 [==============================] - 0s 3ms/step - loss: 259.3493\n",
      "Epoch 1341/1500\n",
      "47/47 [==============================] - 0s 4ms/step - loss: 293.5015\n",
      "Epoch 1342/1500\n",
      "47/47 [==============================] - 0s 3ms/step - loss: 246.9355\n",
      "Epoch 1343/1500\n",
      "47/47 [==============================] - 0s 3ms/step - loss: 256.4518\n",
      "Epoch 1344/1500\n",
      "47/47 [==============================] - 0s 3ms/step - loss: 268.2594\n",
      "Epoch 1345/1500\n",
      "47/47 [==============================] - 0s 3ms/step - loss: 287.9570\n",
      "Epoch 1346/1500\n",
      "47/47 [==============================] - 0s 3ms/step - loss: 279.2429\n",
      "Epoch 1347/1500\n",
      "47/47 [==============================] - 0s 3ms/step - loss: 256.2779\n",
      "Epoch 1348/1500\n",
      "47/47 [==============================] - 0s 3ms/step - loss: 257.3046\n",
      "Epoch 1349/1500\n",
      "47/47 [==============================] - 0s 3ms/step - loss: 252.0842\n",
      "Epoch 1350/1500\n",
      "47/47 [==============================] - 0s 3ms/step - loss: 280.2930\n",
      "Epoch 1351/1500\n",
      "47/47 [==============================] - 0s 3ms/step - loss: 270.1965\n",
      "Epoch 1352/1500\n",
      "47/47 [==============================] - 0s 3ms/step - loss: 245.9431\n",
      "Epoch 1353/1500\n",
      "47/47 [==============================] - 0s 3ms/step - loss: 312.5212\n",
      "Epoch 1354/1500\n",
      "47/47 [==============================] - 0s 3ms/step - loss: 282.5452\n",
      "Epoch 1355/1500\n",
      "47/47 [==============================] - 0s 3ms/step - loss: 273.6545\n",
      "Epoch 1356/1500\n",
      "47/47 [==============================] - 0s 3ms/step - loss: 252.7121\n",
      "Epoch 1357/1500\n",
      "47/47 [==============================] - 0s 3ms/step - loss: 273.1772\n",
      "Epoch 1358/1500\n",
      "47/47 [==============================] - 0s 3ms/step - loss: 255.8375\n",
      "Epoch 1359/1500\n",
      "47/47 [==============================] - 0s 3ms/step - loss: 296.6880\n",
      "Epoch 1360/1500\n",
      "47/47 [==============================] - 0s 3ms/step - loss: 278.6858\n",
      "Epoch 1361/1500\n",
      "47/47 [==============================] - 0s 4ms/step - loss: 264.1635\n",
      "Epoch 1362/1500\n",
      "47/47 [==============================] - 0s 4ms/step - loss: 318.0290\n",
      "Epoch 1363/1500\n",
      "47/47 [==============================] - 0s 3ms/step - loss: 269.4704\n",
      "Epoch 1364/1500\n",
      "47/47 [==============================] - 0s 3ms/step - loss: 277.5563\n",
      "Epoch 1365/1500\n",
      "47/47 [==============================] - 0s 3ms/step - loss: 245.5469\n",
      "Epoch 1366/1500\n",
      "47/47 [==============================] - 0s 3ms/step - loss: 257.6703\n",
      "Epoch 1367/1500\n",
      "47/47 [==============================] - 0s 3ms/step - loss: 228.3733\n",
      "Epoch 1368/1500\n",
      "47/47 [==============================] - 0s 3ms/step - loss: 234.2784\n",
      "Epoch 1369/1500\n",
      "47/47 [==============================] - 0s 3ms/step - loss: 292.8945\n",
      "Epoch 1370/1500\n",
      "47/47 [==============================] - 0s 3ms/step - loss: 268.3249\n",
      "Epoch 1371/1500\n",
      "47/47 [==============================] - 0s 3ms/step - loss: 247.6882\n",
      "Epoch 1372/1500\n",
      "47/47 [==============================] - 0s 3ms/step - loss: 267.2792\n",
      "Epoch 1373/1500\n",
      "47/47 [==============================] - 0s 3ms/step - loss: 259.0390\n",
      "Epoch 1374/1500\n",
      "47/47 [==============================] - 0s 3ms/step - loss: 284.0276\n",
      "Epoch 1375/1500\n",
      "47/47 [==============================] - 0s 3ms/step - loss: 264.0235\n",
      "Epoch 1376/1500\n",
      "47/47 [==============================] - 0s 3ms/step - loss: 295.1796\n",
      "Epoch 1377/1500\n",
      "47/47 [==============================] - 0s 3ms/step - loss: 247.4590\n",
      "Epoch 1378/1500\n",
      "47/47 [==============================] - 0s 3ms/step - loss: 252.0616\n",
      "Epoch 1379/1500\n",
      "47/47 [==============================] - 0s 4ms/step - loss: 252.4102\n",
      "Epoch 1380/1500\n",
      "47/47 [==============================] - 0s 3ms/step - loss: 292.0231\n",
      "Epoch 1381/1500\n",
      "47/47 [==============================] - 0s 3ms/step - loss: 280.7394\n",
      "Epoch 1382/1500\n",
      "47/47 [==============================] - 0s 3ms/step - loss: 265.0225\n",
      "Epoch 1383/1500\n",
      "47/47 [==============================] - 0s 3ms/step - loss: 261.6226\n",
      "Epoch 1384/1500\n",
      "47/47 [==============================] - 0s 3ms/step - loss: 269.0057\n",
      "Epoch 1385/1500\n",
      "47/47 [==============================] - 0s 3ms/step - loss: 277.4149\n",
      "Epoch 1386/1500\n",
      "47/47 [==============================] - 0s 3ms/step - loss: 272.0264\n",
      "Epoch 1387/1500\n",
      "47/47 [==============================] - 0s 3ms/step - loss: 255.6874\n",
      "Epoch 1388/1500\n",
      "47/47 [==============================] - 0s 3ms/step - loss: 261.0490\n",
      "Epoch 1389/1500\n",
      "47/47 [==============================] - 0s 3ms/step - loss: 258.0960\n",
      "Epoch 1390/1500\n",
      "47/47 [==============================] - 0s 3ms/step - loss: 249.8045\n",
      "Epoch 1391/1500\n",
      "47/47 [==============================] - 0s 3ms/step - loss: 277.2370\n",
      "Epoch 1392/1500\n",
      "47/47 [==============================] - 0s 3ms/step - loss: 244.8306\n",
      "Epoch 1393/1500\n",
      "47/47 [==============================] - 0s 3ms/step - loss: 297.1100\n",
      "Epoch 1394/1500\n",
      "47/47 [==============================] - 0s 3ms/step - loss: 243.8383\n",
      "Epoch 1395/1500\n",
      "47/47 [==============================] - 0s 3ms/step - loss: 246.2344\n",
      "Epoch 1396/1500\n",
      "47/47 [==============================] - 0s 3ms/step - loss: 265.8641\n",
      "Epoch 1397/1500\n",
      "47/47 [==============================] - 0s 3ms/step - loss: 286.7481\n",
      "Epoch 1398/1500\n",
      "47/47 [==============================] - 0s 3ms/step - loss: 291.9616\n",
      "Epoch 1399/1500\n",
      "47/47 [==============================] - 0s 3ms/step - loss: 271.5370\n",
      "Epoch 1400/1500\n",
      "47/47 [==============================] - 0s 3ms/step - loss: 290.8969\n",
      "Epoch 1401/1500\n",
      "47/47 [==============================] - 0s 3ms/step - loss: 277.8069\n",
      "Epoch 1402/1500\n",
      "47/47 [==============================] - 0s 3ms/step - loss: 263.9381\n",
      "Epoch 1403/1500\n",
      "47/47 [==============================] - 0s 3ms/step - loss: 260.1537\n",
      "Epoch 1404/1500\n",
      "47/47 [==============================] - 0s 3ms/step - loss: 286.1511\n",
      "Epoch 1405/1500\n",
      "47/47 [==============================] - 0s 3ms/step - loss: 283.1822\n",
      "Epoch 1406/1500\n",
      "47/47 [==============================] - 0s 4ms/step - loss: 246.2989\n",
      "Epoch 1407/1500\n",
      "47/47 [==============================] - 0s 3ms/step - loss: 285.0802\n",
      "Epoch 1408/1500\n",
      "47/47 [==============================] - 0s 3ms/step - loss: 304.2354\n",
      "Epoch 1409/1500\n",
      "47/47 [==============================] - 0s 3ms/step - loss: 263.7159\n",
      "Epoch 1410/1500\n",
      "47/47 [==============================] - 0s 3ms/step - loss: 256.6346\n",
      "Epoch 1411/1500\n",
      "47/47 [==============================] - 0s 3ms/step - loss: 260.3638\n",
      "Epoch 1412/1500\n",
      "47/47 [==============================] - 0s 3ms/step - loss: 275.2472\n",
      "Epoch 1413/1500\n",
      "47/47 [==============================] - 0s 4ms/step - loss: 294.2341\n",
      "Epoch 1414/1500\n",
      "47/47 [==============================] - 0s 3ms/step - loss: 278.5310\n",
      "Epoch 1415/1500\n",
      "47/47 [==============================] - 0s 4ms/step - loss: 254.0509\n",
      "Epoch 1416/1500\n",
      "47/47 [==============================] - 0s 3ms/step - loss: 280.9078\n",
      "Epoch 1417/1500\n",
      "47/47 [==============================] - 0s 3ms/step - loss: 235.9396\n",
      "Epoch 1418/1500\n",
      "47/47 [==============================] - 0s 3ms/step - loss: 259.8563\n",
      "Epoch 1419/1500\n",
      "47/47 [==============================] - 0s 3ms/step - loss: 271.5205\n",
      "Epoch 1420/1500\n",
      "47/47 [==============================] - 0s 3ms/step - loss: 269.4847\n",
      "Epoch 1421/1500\n",
      "47/47 [==============================] - 0s 3ms/step - loss: 248.2475\n",
      "Epoch 1422/1500\n",
      "47/47 [==============================] - 0s 3ms/step - loss: 296.2418\n",
      "Epoch 1423/1500\n",
      "47/47 [==============================] - 0s 3ms/step - loss: 285.4069\n",
      "Epoch 1424/1500\n",
      "47/47 [==============================] - 0s 3ms/step - loss: 257.9189\n",
      "Epoch 1425/1500\n",
      "47/47 [==============================] - 0s 3ms/step - loss: 279.9510\n",
      "Epoch 1426/1500\n",
      "47/47 [==============================] - 0s 3ms/step - loss: 284.2392\n",
      "Epoch 1427/1500\n",
      "47/47 [==============================] - 0s 4ms/step - loss: 281.6762\n",
      "Epoch 1428/1500\n",
      "47/47 [==============================] - 0s 6ms/step - loss: 263.4691\n",
      "Epoch 1429/1500\n",
      "47/47 [==============================] - 0s 5ms/step - loss: 262.5037\n",
      "Epoch 1430/1500\n",
      "47/47 [==============================] - 0s 3ms/step - loss: 293.9434\n",
      "Epoch 1431/1500\n",
      "47/47 [==============================] - 0s 3ms/step - loss: 267.0850\n",
      "Epoch 1432/1500\n",
      "47/47 [==============================] - 0s 3ms/step - loss: 273.6720\n",
      "Epoch 1433/1500\n",
      "47/47 [==============================] - 0s 3ms/step - loss: 261.3540\n",
      "Epoch 1434/1500\n",
      "47/47 [==============================] - 0s 3ms/step - loss: 279.3041\n",
      "Epoch 1435/1500\n",
      "47/47 [==============================] - 0s 3ms/step - loss: 266.0629\n",
      "Epoch 1436/1500\n",
      "47/47 [==============================] - 0s 3ms/step - loss: 261.8357\n",
      "Epoch 1437/1500\n",
      "47/47 [==============================] - 0s 3ms/step - loss: 264.3375\n",
      "Epoch 1438/1500\n",
      "47/47 [==============================] - 0s 3ms/step - loss: 270.7460\n",
      "Epoch 1439/1500\n",
      "47/47 [==============================] - 0s 3ms/step - loss: 283.5272\n",
      "Epoch 1440/1500\n",
      "47/47 [==============================] - 0s 3ms/step - loss: 240.6512\n",
      "Epoch 1441/1500\n",
      "47/47 [==============================] - 0s 3ms/step - loss: 268.0127\n",
      "Epoch 1442/1500\n",
      "47/47 [==============================] - 0s 3ms/step - loss: 246.6852\n",
      "Epoch 1443/1500\n",
      "47/47 [==============================] - 0s 3ms/step - loss: 272.9719\n",
      "Epoch 1444/1500\n",
      "47/47 [==============================] - 0s 3ms/step - loss: 291.2128\n",
      "Epoch 1445/1500\n",
      "47/47 [==============================] - 0s 3ms/step - loss: 262.5302\n",
      "Epoch 1446/1500\n",
      "47/47 [==============================] - 0s 3ms/step - loss: 288.8892\n",
      "Epoch 1447/1500\n",
      "47/47 [==============================] - 0s 4ms/step - loss: 257.5521\n",
      "Epoch 1448/1500\n",
      "47/47 [==============================] - 0s 3ms/step - loss: 284.4458\n",
      "Epoch 1449/1500\n",
      "47/47 [==============================] - 0s 5ms/step - loss: 263.6692\n",
      "Epoch 1450/1500\n",
      "47/47 [==============================] - 0s 3ms/step - loss: 247.9606\n",
      "Epoch 1451/1500\n",
      "47/47 [==============================] - 0s 3ms/step - loss: 262.0206\n",
      "Epoch 1452/1500\n",
      "47/47 [==============================] - 0s 3ms/step - loss: 255.0904\n",
      "Epoch 1453/1500\n",
      "47/47 [==============================] - 0s 3ms/step - loss: 259.4594\n",
      "Epoch 1454/1500\n",
      "47/47 [==============================] - 0s 3ms/step - loss: 268.6709\n",
      "Epoch 1455/1500\n",
      "47/47 [==============================] - 0s 3ms/step - loss: 276.5667\n",
      "Epoch 1456/1500\n",
      "47/47 [==============================] - 0s 3ms/step - loss: 278.4346\n",
      "Epoch 1457/1500\n",
      "47/47 [==============================] - 0s 4ms/step - loss: 259.2418\n",
      "Epoch 1458/1500\n",
      "47/47 [==============================] - 0s 4ms/step - loss: 252.5853\n",
      "Epoch 1459/1500\n",
      "47/47 [==============================] - 0s 3ms/step - loss: 272.3413\n",
      "Epoch 1460/1500\n",
      "47/47 [==============================] - 0s 3ms/step - loss: 278.8952\n",
      "Epoch 1461/1500\n",
      "47/47 [==============================] - 0s 3ms/step - loss: 238.8059\n",
      "Epoch 1462/1500\n",
      "47/47 [==============================] - 0s 3ms/step - loss: 295.4491\n",
      "Epoch 1463/1500\n",
      "47/47 [==============================] - 0s 4ms/step - loss: 275.0058\n",
      "Epoch 1464/1500\n",
      "47/47 [==============================] - 0s 3ms/step - loss: 283.9331\n",
      "Epoch 1465/1500\n",
      "47/47 [==============================] - 0s 3ms/step - loss: 292.4567\n",
      "Epoch 1466/1500\n",
      "47/47 [==============================] - 0s 8ms/step - loss: 268.6191\n",
      "Epoch 1467/1500\n",
      "47/47 [==============================] - 1s 16ms/step - loss: 252.2944\n",
      "Epoch 1468/1500\n",
      "47/47 [==============================] - 1s 15ms/step - loss: 292.7161\n",
      "Epoch 1469/1500\n",
      "47/47 [==============================] - 0s 7ms/step - loss: 264.5697\n",
      "Epoch 1470/1500\n",
      "47/47 [==============================] - 0s 3ms/step - loss: 276.3077\n",
      "Epoch 1471/1500\n",
      "47/47 [==============================] - 0s 3ms/step - loss: 264.7632\n",
      "Epoch 1472/1500\n",
      "47/47 [==============================] - 0s 3ms/step - loss: 287.7460\n",
      "Epoch 1473/1500\n",
      "47/47 [==============================] - 0s 4ms/step - loss: 267.3030\n",
      "Epoch 1474/1500\n",
      "47/47 [==============================] - 0s 3ms/step - loss: 259.3163\n",
      "Epoch 1475/1500\n",
      "47/47 [==============================] - 0s 3ms/step - loss: 255.9549\n",
      "Epoch 1476/1500\n",
      "47/47 [==============================] - 0s 3ms/step - loss: 216.0299\n",
      "Epoch 1477/1500\n",
      "47/47 [==============================] - 0s 3ms/step - loss: 272.6245\n",
      "Epoch 1478/1500\n",
      "47/47 [==============================] - 0s 3ms/step - loss: 246.6687\n",
      "Epoch 1479/1500\n",
      "47/47 [==============================] - 0s 3ms/step - loss: 277.9491\n",
      "Epoch 1480/1500\n",
      "47/47 [==============================] - 0s 3ms/step - loss: 287.0713\n",
      "Epoch 1481/1500\n",
      "47/47 [==============================] - 0s 3ms/step - loss: 261.1991\n",
      "Epoch 1482/1500\n",
      "47/47 [==============================] - 0s 3ms/step - loss: 288.3355\n",
      "Epoch 1483/1500\n",
      "47/47 [==============================] - 0s 3ms/step - loss: 288.8465\n",
      "Epoch 1484/1500\n",
      "47/47 [==============================] - 0s 3ms/step - loss: 287.0932\n",
      "Epoch 1485/1500\n",
      "47/47 [==============================] - 0s 3ms/step - loss: 255.2032\n",
      "Epoch 1486/1500\n",
      "47/47 [==============================] - 0s 4ms/step - loss: 272.2190\n",
      "Epoch 1487/1500\n",
      "47/47 [==============================] - 0s 3ms/step - loss: 268.1971\n",
      "Epoch 1488/1500\n",
      "47/47 [==============================] - 0s 3ms/step - loss: 278.5679\n",
      "Epoch 1489/1500\n",
      "47/47 [==============================] - 0s 3ms/step - loss: 274.0941\n",
      "Epoch 1490/1500\n",
      "47/47 [==============================] - 0s 4ms/step - loss: 260.8829\n",
      "Epoch 1491/1500\n",
      "47/47 [==============================] - 0s 4ms/step - loss: 269.1220\n",
      "Epoch 1492/1500\n",
      "47/47 [==============================] - 0s 4ms/step - loss: 270.0929\n",
      "Epoch 1493/1500\n",
      "47/47 [==============================] - 0s 4ms/step - loss: 287.1440\n",
      "Epoch 1494/1500\n",
      "47/47 [==============================] - 0s 4ms/step - loss: 269.5479\n",
      "Epoch 1495/1500\n",
      "47/47 [==============================] - 0s 3ms/step - loss: 262.4893\n",
      "Epoch 1496/1500\n",
      "47/47 [==============================] - 0s 3ms/step - loss: 238.2241\n",
      "Epoch 1497/1500\n",
      "47/47 [==============================] - 0s 4ms/step - loss: 255.5366\n",
      "Epoch 1498/1500\n",
      "47/47 [==============================] - 0s 3ms/step - loss: 259.9807\n",
      "Epoch 1499/1500\n",
      "47/47 [==============================] - 0s 3ms/step - loss: 260.3746\n",
      "Epoch 1500/1500\n",
      "47/47 [==============================] - 0s 4ms/step - loss: 240.8505\n"
     ]
    },
    {
     "output_type": "execute_result",
     "data": {
      "text/plain": [
       "<tensorflow.python.keras.callbacks.History at 0x7fde8003e940>"
      ]
     },
     "metadata": {},
     "execution_count": 12
    }
   ],
   "source": [
    "callback = EarlyStopping(monitor=\"loss\", patience=200, verbose=1, mode=\"auto\")\n",
    "x_train, y_train = create_data(train,5, 1)\n",
    "regressor5 = buildManyToOneModel(x_train.shape)\n",
    "# 進行訓練\n",
    "regressor5.fit(x_train, y_train, epochs = 3000, callbacks=[callback])"
   ]
  },
  {
   "cell_type": "code",
   "execution_count": 13,
   "metadata": {
    "tags": []
   },
   "outputs": [
    {
     "output_type": "stream",
     "name": "stdout",
     "text": [
      "look before 2  avg  6.485080844024323\n",
      "look before 3  avg  5.014837671293049\n",
      "look before 4  avg  3.444065195228257\n",
      "look before 5  avg  6.146707227315316\n"
     ]
    }
   ],
   "source": [
    "def lstm_model(x, y, model):\n",
    "    err = 0\n",
    "    result = []\n",
    "    predicts = []\n",
    "    for i,j in zip(x, y):\n",
    "        i = i.reshape(1, i.shape[0], -1)\n",
    "        predict = model.predict(i)\n",
    "        predict = predict[0][0]\n",
    "        j = j[0]\n",
    "        predicts.append(predict)\n",
    "        err = (predict-j)**2\n",
    "        result.append(err)\n",
    "        # print(math.sqrt(err))\n",
    "        # print(j-predict)\n",
    "    print(\"look before\", x.shape[1], \" avg \", math.sqrt(sum(result)/len(result)))\n",
    "    return predicts\n",
    "test_list = train['open'].tolist()\n",
    "x_test, y_test = create_data(all_data, 2, 1)\n",
    "x_test = x_test[-20:]\n",
    "y_test = y_test[-20:]\n",
    "# print(x_test)\n",
    "# print(y_test)\n",
    "# print(y_test.shape)\n",
    "result2 = np.array([])\n",
    "result2 = np.append(result2, lstm_model(x_test, y_test, regressor2))\n",
    "# print(result2.shape)\n",
    "x_test, y_test = create_data(all_data, 3, 1)\n",
    "result3 = np.array([])\n",
    "x_test = x_test[-20:]\n",
    "y_test = y_test[-20:]\n",
    "result3 = np.append(result3, lstm_model(x_test, y_test, regressor3))\n",
    "# print(result3.shape)\n",
    "x_test, y_test = create_data(all_data, 4, 1)\n",
    "x_test = x_test[-20:]\n",
    "y_test = y_test[-20:]\n",
    "result4 = np.array([])\n",
    "result4 = np.append(result4, lstm_model(x_test, y_test, regressor4))\n",
    "x_test, y_test = create_data(all_data, 5, 1)\n",
    "result5 = np.array([])\n",
    "x_test = x_test[-20:]\n",
    "y_test = y_test[-20:]\n",
    "result5 = np.append(result5, lstm_model(x_test, y_test, regressor5))"
   ]
  },
  {
   "cell_type": "code",
   "execution_count": 14,
   "metadata": {},
   "outputs": [
    {
     "output_type": "stream",
     "name": "stdout",
     "text": [
      "19\n[1, 0, 0, 0, 0, 0, 0, 0, 0, 0, 0, -1, 0, 0, 0, 0, 0, 0, 0]\n"
     ]
    },
    {
     "output_type": "error",
     "ename": "NameError",
     "evalue": "name 'reality' is not defined",
     "traceback": [
      "\u001b[0;31m---------------------------------------------------------------------------\u001b[0m",
      "\u001b[0;31mNameError\u001b[0m                                 Traceback (most recent call last)",
      "\u001b[0;32m<ipython-input-14-dbd83960ebe5>\u001b[0m in \u001b[0;36m<module>\u001b[0;34m\u001b[0m\n\u001b[1;32m     52\u001b[0m \u001b[0mprint\u001b[0m\u001b[0;34m(\u001b[0m\u001b[0mlen\u001b[0m\u001b[0;34m(\u001b[0m\u001b[0moutputs\u001b[0m\u001b[0;34m)\u001b[0m\u001b[0;34m)\u001b[0m\u001b[0;34m\u001b[0m\u001b[0;34m\u001b[0m\u001b[0m\n\u001b[1;32m     53\u001b[0m \u001b[0mprint\u001b[0m\u001b[0;34m(\u001b[0m\u001b[0moutputs\u001b[0m\u001b[0;34m)\u001b[0m\u001b[0;34m\u001b[0m\u001b[0;34m\u001b[0m\u001b[0m\n\u001b[0;32m---> 54\u001b[0;31m \u001b[0mprint\u001b[0m\u001b[0;34m(\u001b[0m\u001b[0mreality\u001b[0m\u001b[0;34m(\u001b[0m\u001b[0moutputs\u001b[0m\u001b[0;34m,\u001b[0m \u001b[0mtest\u001b[0m\u001b[0;34m[\u001b[0m\u001b[0;34m'open'\u001b[0m\u001b[0;34m]\u001b[0m\u001b[0;34m.\u001b[0m\u001b[0mtolist\u001b[0m\u001b[0;34m(\u001b[0m\u001b[0;34m)\u001b[0m\u001b[0;34m)\u001b[0m\u001b[0;34m)\u001b[0m\u001b[0;34m\u001b[0m\u001b[0;34m\u001b[0m\u001b[0m\n\u001b[0m",
      "\u001b[0;31mNameError\u001b[0m: name 'reality' is not defined"
     ]
    }
   ],
   "source": [
    "outputs = []\n",
    "def lookbefore(n, data):\n",
    "    predicts = [data[0]]\n",
    "    actions = [1]\n",
    "    stock = 1\n",
    "    for i in range(1, n):\n",
    "        predicts.append(data[i])\n",
    "        last = data[i]\n",
    "        actions.append(0)\n",
    "    trend = 0\n",
    "    trend_day = 0\n",
    "    for i in range(n , len(data)):\n",
    "        #lowering\n",
    "        if data[i] < last and trend >= 0:\n",
    "            trend = -1 \n",
    "            trend_day = 0\n",
    "        elif data[i] < last:\n",
    "            trend = -1\n",
    "            trend_day += 1\n",
    "        #highering\n",
    "        elif data[i] > last and trend <= 0:\n",
    "            trend = 1\n",
    "            trend_day = 0\n",
    "        elif data[i] > last:\n",
    "            trend = 1\n",
    "            trend_day += 1\n",
    "        else:\n",
    "            trend = 0\n",
    "        last = data[i]\n",
    "        #should short\n",
    "        if trend_day >= n and trend < 0:\n",
    "            predicts.append(-1)\n",
    "            if stock >= 0:\n",
    "                actions.append(-1)\n",
    "                stock -= 1\n",
    "            else:\n",
    "                actions.append(0)\n",
    "        #should buy\n",
    "        elif trend_day >= n and trend > 0:\n",
    "            predicts.append(1000000)\n",
    "            if stock <= 0:\n",
    "                actions.append(1)\n",
    "                stock += 1\n",
    "            else:\n",
    "                actions.append(0)\n",
    "        else:\n",
    "            predicts.append(0)\n",
    "            actions.append(0)\n",
    "    actions = actions[:-1]\n",
    "    return actions\n",
    "outputs = lookbefore(3, test['open'].tolist())\n",
    "print(len(outputs))\n",
    "print(outputs)\n",
    "print(reality(outputs, test['open'].tolist()))\n"
   ]
  },
  {
   "cell_type": "code",
   "execution_count": 23,
   "metadata": {},
   "outputs": [],
   "source": [
    "def manipulate(stock, predict_gap):\n",
    "    action = 0\n",
    "    if stock == 0:\n",
    "        #predict will get higher\n",
    "        if predict_gap > 0:\n",
    "            action = 1\n",
    "            stock = 1\n",
    "        elif predict_gap < 0:\n",
    "            action = -1\n",
    "            stock = -1\n",
    "        else:\n",
    "            action = 0\n",
    "            stock = 0\n",
    "    elif stock == 1:\n",
    "        if predict_gap > 0:\n",
    "            action = 0\n",
    "            stock = 1\n",
    "        elif predict_gap < 0:\n",
    "            action = -1\n",
    "            stock = 0\n",
    "        else:\n",
    "            action = 0\n",
    "            stock = 1\n",
    "    elif stock == -1:\n",
    "        if predict_gap > 0:\n",
    "            action = 1\n",
    "            stock = 0\n",
    "        elif predict_gap < 0:\n",
    "            action = 0\n",
    "            stock = -1\n",
    "        else:\n",
    "            action = 0\n",
    "            stock = -1\n",
    "    else:\n",
    "        print(\"manipulate error\")\n",
    "        return None\n",
    "    return (action, stock)\n"
   ]
  },
  {
   "cell_type": "code",
   "execution_count": 30,
   "metadata": {},
   "outputs": [
    {
     "output_type": "stream",
     "name": "stdout",
     "text": [
      "[158.94752502 159.9785614  161.59460449 160.49884033 158.43267822\n 158.21574402 159.74624634 160.53086853 161.54588318 158.37515259\n 158.45689392 157.18052673 157.6870575  157.76194763 157.55331421\n 155.69723511 156.80657959 157.02478027 158.04728699 159.07029724]\n[-1, 1, -1, 0, 1, 1, 0, -1, -1, 1, -1, 1, 1, -1, -1, 0, 1, 1, -1]\n[154.4, 155.96, 156.45, 154.1, 153.59, 154.81, 155.46, 156.74, 156.6, 154.6, 153.61, 153.59, 154.05, 153.65, 153.17, 151.82, 152.51, 152.95, 153.2, 154.17]\n5.759999999999991\n"
     ]
    }
   ],
   "source": [
    "#input prediction and outputs action\n",
    "stock = 0\n",
    "actions = []\n",
    "print(result5)\n",
    "for i in range(19):\n",
    "    action, stock = manipulate(stock, result2[i+1]-result2[i])\n",
    "    actions.append(action)\n",
    "print(actions)\n",
    "print(test['open'].tolist())\n",
    "print(reality(actions, test['open'].tolist()))\n",
    "\n"
   ]
  },
  {
   "cell_type": "code",
   "execution_count": 136,
   "metadata": {},
   "outputs": [],
   "source": [
    "outputs = []\n",
    "predicts = []\n",
    "def predict_action(test):\n",
    "    stock = 1\n",
    "    outputs= [1]\n",
    "    predicts = [155]\n",
    "    for i in range(4):\n",
    "        outputs.append(0)\n",
    "        predicts.append(155)\n",
    "    x, y = create_data(test, 5, 1)\n",
    "    for i, j in zip(x, y):\n",
    "        i = i.reshape(1, 5, -1)\n",
    "        predict = regressor(i)\n",
    "        j = j[0]\n",
    "        predict = float(predict[0][0])\n",
    "        action, stock = manipulate(stock, predict-j)\n",
    "        outputs.append(action)\n",
    "        predicts.append(predict)\n",
    "    outputs = outputs[:-1]\n",
    "    return outputs, predicts\n",
    "outputs,predicts = predict_action(test)"
   ]
  },
  {
   "cell_type": "code",
   "execution_count": 137,
   "metadata": {},
   "outputs": [
    {
     "output_type": "error",
     "ename": "NameError",
     "evalue": "name 'testing' is not defined",
     "traceback": [
      "\u001b[0;31m---------------------------------------------------------------------------\u001b[0m",
      "\u001b[0;31mNameError\u001b[0m                                 Traceback (most recent call last)",
      "\u001b[0;32m<ipython-input-137-b5cad21fd052>\u001b[0m in \u001b[0;36m<module>\u001b[0;34m\u001b[0m\n\u001b[0;32m----> 1\u001b[0;31m \u001b[0;32mfor\u001b[0m \u001b[0mrow\u001b[0m \u001b[0;32min\u001b[0m \u001b[0mtesting\u001b[0m\u001b[0;34m:\u001b[0m\u001b[0;34m\u001b[0m\u001b[0;34m\u001b[0m\u001b[0m\n\u001b[0m\u001b[1;32m      2\u001b[0m     \u001b[0;31m# We will perform your action as the open price in the next day.\u001b[0m\u001b[0;34m\u001b[0m\u001b[0;34m\u001b[0m\u001b[0;34m\u001b[0m\u001b[0m\n\u001b[1;32m      3\u001b[0m     \u001b[0maction\u001b[0m \u001b[0;34m=\u001b[0m \u001b[0mmanipulate\u001b[0m\u001b[0;34m(\u001b[0m\u001b[0mrow\u001b[0m\u001b[0;34m)\u001b[0m\u001b[0;34m\u001b[0m\u001b[0;34m\u001b[0m\u001b[0m\n\u001b[1;32m      4\u001b[0m \u001b[0;34m\u001b[0m\u001b[0m\n\u001b[1;32m      5\u001b[0m     \u001b[0;31m# # this is your option, you can leave it empty.\u001b[0m\u001b[0;34m\u001b[0m\u001b[0;34m\u001b[0m\u001b[0;34m\u001b[0m\u001b[0m\n",
      "\u001b[0;31mNameError\u001b[0m: name 'testing' is not defined"
     ]
    }
   ],
   "source": [
    "\n",
    "for row in testing:\n",
    "    # We will perform your action as the open price in the next day.\n",
    "    action = manipulate(row)\n",
    "\n",
    "    # # this is your option, you can leave it empty.\n",
    "    # trader.re_training(i)"
   ]
  },
  {
   "cell_type": "code",
   "execution_count": 164,
   "metadata": {},
   "outputs": [
    {
     "output_type": "stream",
     "name": "stdout",
     "text": [
      "[1, 0, 0, 0, 0, 0, 0, 1, 0, 0, -1, -1, 0, 0, 0, 0, 0, 0, 1]\n"
     ]
    }
   ],
   "source": [
    "print(outputs)"
   ]
  },
  {
   "cell_type": "code",
   "execution_count": 26,
   "metadata": {},
   "outputs": [],
   "source": [
    "def reality(outputs, data):\n",
    "    earn = 0.0\n",
    "    stock = 0\n",
    "    buy = 0\n",
    "    # for i, j in zip(outputs, data):\n",
    "    #     if i == 1:\n",
    "    #         stock += 1\n",
    "    #         buy = j\n",
    "    #         earn -= buy\n",
    "    #     elif i == -1:\n",
    "    #         stock -= 1\n",
    "    #         buy = j\n",
    "    #         earn += buy\n",
    "    for i in range(19):\n",
    "        if outputs[i] == 1:\n",
    "            stock += 1\n",
    "            earn -= data[i]\n",
    "        elif outputs[i] == -1:\n",
    "            stock -= 1\n",
    "            earn += data[i]\n",
    "    if stock == 1:\n",
    "        earn += data[19]\n",
    "        stock -= 1\n",
    "    elif stock == -1:\n",
    "        earn -= data[19]\n",
    "        stock += 1\n",
    "    return earn\n",
    "# print(outputs)\n",
    "# print(reality(outputs, test['open'].tolist()))\n"
   ]
  },
  {
   "cell_type": "code",
   "execution_count": 240,
   "metadata": {},
   "outputs": [
    {
     "output_type": "stream",
     "name": "stdout",
     "text": [
      "-0.39999999999997726\nlook berfore 2 days -0.39999999999997726\n-0.8100000000000023\nlook berfore 3 days -0.8100000000000023\n-154.4\nlook berfore 4 days -0.2300000000000182\n-154.4\nlook berfore 5 days -0.2300000000000182\n"
     ]
    }
   ],
   "source": [
    "for i in range(2, 6):\n",
    "    outputs = lookbefore(i, test['open'].tolist())\n",
    "    print(\"look berfore\", i, \"days\", reality(outputs, test['open'].tolist()))\n",
    "    "
   ]
  },
  {
   "cell_type": "code",
   "execution_count": 21,
   "metadata": {},
   "outputs": [
    {
     "output_type": "stream",
     "name": "stdout",
     "text": [
      "[151.27606201 150.83425903 153.00119019 152.8915863  149.50793457\n 151.30104065 152.49809265 153.32783508 151.83485413 151.39358521\n 152.04866028 150.51850891 151.78779602 152.24511719 151.727005\n 149.58453369 149.06640625 149.74235535 152.16003418 151.53361511]\n"
     ]
    },
    {
     "output_type": "display_data",
     "data": {
      "application/vnd.plotly.v1+json": {
       "config": {
        "plotlyServerURL": "https://plot.ly"
       },
       "data": [
        {
         "hovertemplate": "variable=open<br>index=%{x}<br>value=%{y}<extra></extra>",
         "legendgroup": "open",
         "line": {
          "color": "#636efa",
          "dash": "solid"
         },
         "mode": "lines",
         "name": "open",
         "orientation": "v",
         "showlegend": true,
         "type": "scatter",
         "x": [
          0,
          1,
          2,
          3,
          4,
          5,
          6,
          7,
          8,
          9,
          10,
          11,
          12,
          13,
          14,
          15,
          16,
          17,
          18,
          19
         ],
         "xaxis": "x",
         "y": [
          154.4,
          155.96,
          156.45,
          154.1,
          153.59,
          154.81,
          155.46,
          156.74,
          156.6,
          154.6,
          153.61,
          153.59,
          154.05,
          153.65,
          153.17,
          151.82,
          152.51,
          152.95,
          153.2,
          154.17
         ],
         "yaxis": "y"
        },
        {
         "hovertemplate": "variable=predict3<br>index=%{x}<br>value=%{y}<extra></extra>",
         "legendgroup": "predict3",
         "line": {
          "color": "#EF553B",
          "dash": "solid"
         },
         "mode": "lines",
         "name": "predict3",
         "orientation": "v",
         "showlegend": true,
         "type": "scatter",
         "x": [
          0,
          1,
          2,
          3,
          4,
          5,
          6,
          7,
          8,
          9,
          10,
          11,
          12,
          13,
          14,
          15,
          16,
          17,
          18,
          19
         ],
         "xaxis": "x",
         "y": [
          155.14114379882812,
          155.66493225097656,
          157.68408203125,
          156.80416870117188,
          157.45249938964844,
          154.01226806640625,
          155.3475341796875,
          156.3258056640625,
          159.54959106445312,
          156.07460021972656,
          154.02984619140625,
          153.2714385986328,
          154.42648315429688,
          154.27906799316406,
          153.90011596679688,
          153.63095092773438,
          153.29891967773438,
          155.16259765625,
          152.77203369140625,
          155.45462036132812
         ],
         "yaxis": "y"
        }
       ],
       "layout": {
        "legend": {
         "title": {
          "text": "variable"
         },
         "tracegroupgap": 0
        },
        "margin": {
         "t": 60
        },
        "template": {
         "data": {
          "bar": [
           {
            "error_x": {
             "color": "#2a3f5f"
            },
            "error_y": {
             "color": "#2a3f5f"
            },
            "marker": {
             "line": {
              "color": "#E5ECF6",
              "width": 0.5
             }
            },
            "type": "bar"
           }
          ],
          "barpolar": [
           {
            "marker": {
             "line": {
              "color": "#E5ECF6",
              "width": 0.5
             }
            },
            "type": "barpolar"
           }
          ],
          "carpet": [
           {
            "aaxis": {
             "endlinecolor": "#2a3f5f",
             "gridcolor": "white",
             "linecolor": "white",
             "minorgridcolor": "white",
             "startlinecolor": "#2a3f5f"
            },
            "baxis": {
             "endlinecolor": "#2a3f5f",
             "gridcolor": "white",
             "linecolor": "white",
             "minorgridcolor": "white",
             "startlinecolor": "#2a3f5f"
            },
            "type": "carpet"
           }
          ],
          "choropleth": [
           {
            "colorbar": {
             "outlinewidth": 0,
             "ticks": ""
            },
            "type": "choropleth"
           }
          ],
          "contour": [
           {
            "colorbar": {
             "outlinewidth": 0,
             "ticks": ""
            },
            "colorscale": [
             [
              0,
              "#0d0887"
             ],
             [
              0.1111111111111111,
              "#46039f"
             ],
             [
              0.2222222222222222,
              "#7201a8"
             ],
             [
              0.3333333333333333,
              "#9c179e"
             ],
             [
              0.4444444444444444,
              "#bd3786"
             ],
             [
              0.5555555555555556,
              "#d8576b"
             ],
             [
              0.6666666666666666,
              "#ed7953"
             ],
             [
              0.7777777777777778,
              "#fb9f3a"
             ],
             [
              0.8888888888888888,
              "#fdca26"
             ],
             [
              1,
              "#f0f921"
             ]
            ],
            "type": "contour"
           }
          ],
          "contourcarpet": [
           {
            "colorbar": {
             "outlinewidth": 0,
             "ticks": ""
            },
            "type": "contourcarpet"
           }
          ],
          "heatmap": [
           {
            "colorbar": {
             "outlinewidth": 0,
             "ticks": ""
            },
            "colorscale": [
             [
              0,
              "#0d0887"
             ],
             [
              0.1111111111111111,
              "#46039f"
             ],
             [
              0.2222222222222222,
              "#7201a8"
             ],
             [
              0.3333333333333333,
              "#9c179e"
             ],
             [
              0.4444444444444444,
              "#bd3786"
             ],
             [
              0.5555555555555556,
              "#d8576b"
             ],
             [
              0.6666666666666666,
              "#ed7953"
             ],
             [
              0.7777777777777778,
              "#fb9f3a"
             ],
             [
              0.8888888888888888,
              "#fdca26"
             ],
             [
              1,
              "#f0f921"
             ]
            ],
            "type": "heatmap"
           }
          ],
          "heatmapgl": [
           {
            "colorbar": {
             "outlinewidth": 0,
             "ticks": ""
            },
            "colorscale": [
             [
              0,
              "#0d0887"
             ],
             [
              0.1111111111111111,
              "#46039f"
             ],
             [
              0.2222222222222222,
              "#7201a8"
             ],
             [
              0.3333333333333333,
              "#9c179e"
             ],
             [
              0.4444444444444444,
              "#bd3786"
             ],
             [
              0.5555555555555556,
              "#d8576b"
             ],
             [
              0.6666666666666666,
              "#ed7953"
             ],
             [
              0.7777777777777778,
              "#fb9f3a"
             ],
             [
              0.8888888888888888,
              "#fdca26"
             ],
             [
              1,
              "#f0f921"
             ]
            ],
            "type": "heatmapgl"
           }
          ],
          "histogram": [
           {
            "marker": {
             "colorbar": {
              "outlinewidth": 0,
              "ticks": ""
             }
            },
            "type": "histogram"
           }
          ],
          "histogram2d": [
           {
            "colorbar": {
             "outlinewidth": 0,
             "ticks": ""
            },
            "colorscale": [
             [
              0,
              "#0d0887"
             ],
             [
              0.1111111111111111,
              "#46039f"
             ],
             [
              0.2222222222222222,
              "#7201a8"
             ],
             [
              0.3333333333333333,
              "#9c179e"
             ],
             [
              0.4444444444444444,
              "#bd3786"
             ],
             [
              0.5555555555555556,
              "#d8576b"
             ],
             [
              0.6666666666666666,
              "#ed7953"
             ],
             [
              0.7777777777777778,
              "#fb9f3a"
             ],
             [
              0.8888888888888888,
              "#fdca26"
             ],
             [
              1,
              "#f0f921"
             ]
            ],
            "type": "histogram2d"
           }
          ],
          "histogram2dcontour": [
           {
            "colorbar": {
             "outlinewidth": 0,
             "ticks": ""
            },
            "colorscale": [
             [
              0,
              "#0d0887"
             ],
             [
              0.1111111111111111,
              "#46039f"
             ],
             [
              0.2222222222222222,
              "#7201a8"
             ],
             [
              0.3333333333333333,
              "#9c179e"
             ],
             [
              0.4444444444444444,
              "#bd3786"
             ],
             [
              0.5555555555555556,
              "#d8576b"
             ],
             [
              0.6666666666666666,
              "#ed7953"
             ],
             [
              0.7777777777777778,
              "#fb9f3a"
             ],
             [
              0.8888888888888888,
              "#fdca26"
             ],
             [
              1,
              "#f0f921"
             ]
            ],
            "type": "histogram2dcontour"
           }
          ],
          "mesh3d": [
           {
            "colorbar": {
             "outlinewidth": 0,
             "ticks": ""
            },
            "type": "mesh3d"
           }
          ],
          "parcoords": [
           {
            "line": {
             "colorbar": {
              "outlinewidth": 0,
              "ticks": ""
             }
            },
            "type": "parcoords"
           }
          ],
          "pie": [
           {
            "automargin": true,
            "type": "pie"
           }
          ],
          "scatter": [
           {
            "marker": {
             "colorbar": {
              "outlinewidth": 0,
              "ticks": ""
             }
            },
            "type": "scatter"
           }
          ],
          "scatter3d": [
           {
            "line": {
             "colorbar": {
              "outlinewidth": 0,
              "ticks": ""
             }
            },
            "marker": {
             "colorbar": {
              "outlinewidth": 0,
              "ticks": ""
             }
            },
            "type": "scatter3d"
           }
          ],
          "scattercarpet": [
           {
            "marker": {
             "colorbar": {
              "outlinewidth": 0,
              "ticks": ""
             }
            },
            "type": "scattercarpet"
           }
          ],
          "scattergeo": [
           {
            "marker": {
             "colorbar": {
              "outlinewidth": 0,
              "ticks": ""
             }
            },
            "type": "scattergeo"
           }
          ],
          "scattergl": [
           {
            "marker": {
             "colorbar": {
              "outlinewidth": 0,
              "ticks": ""
             }
            },
            "type": "scattergl"
           }
          ],
          "scattermapbox": [
           {
            "marker": {
             "colorbar": {
              "outlinewidth": 0,
              "ticks": ""
             }
            },
            "type": "scattermapbox"
           }
          ],
          "scatterpolar": [
           {
            "marker": {
             "colorbar": {
              "outlinewidth": 0,
              "ticks": ""
             }
            },
            "type": "scatterpolar"
           }
          ],
          "scatterpolargl": [
           {
            "marker": {
             "colorbar": {
              "outlinewidth": 0,
              "ticks": ""
             }
            },
            "type": "scatterpolargl"
           }
          ],
          "scatterternary": [
           {
            "marker": {
             "colorbar": {
              "outlinewidth": 0,
              "ticks": ""
             }
            },
            "type": "scatterternary"
           }
          ],
          "surface": [
           {
            "colorbar": {
             "outlinewidth": 0,
             "ticks": ""
            },
            "colorscale": [
             [
              0,
              "#0d0887"
             ],
             [
              0.1111111111111111,
              "#46039f"
             ],
             [
              0.2222222222222222,
              "#7201a8"
             ],
             [
              0.3333333333333333,
              "#9c179e"
             ],
             [
              0.4444444444444444,
              "#bd3786"
             ],
             [
              0.5555555555555556,
              "#d8576b"
             ],
             [
              0.6666666666666666,
              "#ed7953"
             ],
             [
              0.7777777777777778,
              "#fb9f3a"
             ],
             [
              0.8888888888888888,
              "#fdca26"
             ],
             [
              1,
              "#f0f921"
             ]
            ],
            "type": "surface"
           }
          ],
          "table": [
           {
            "cells": {
             "fill": {
              "color": "#EBF0F8"
             },
             "line": {
              "color": "white"
             }
            },
            "header": {
             "fill": {
              "color": "#C8D4E3"
             },
             "line": {
              "color": "white"
             }
            },
            "type": "table"
           }
          ]
         },
         "layout": {
          "annotationdefaults": {
           "arrowcolor": "#2a3f5f",
           "arrowhead": 0,
           "arrowwidth": 1
          },
          "autotypenumbers": "strict",
          "coloraxis": {
           "colorbar": {
            "outlinewidth": 0,
            "ticks": ""
           }
          },
          "colorscale": {
           "diverging": [
            [
             0,
             "#8e0152"
            ],
            [
             0.1,
             "#c51b7d"
            ],
            [
             0.2,
             "#de77ae"
            ],
            [
             0.3,
             "#f1b6da"
            ],
            [
             0.4,
             "#fde0ef"
            ],
            [
             0.5,
             "#f7f7f7"
            ],
            [
             0.6,
             "#e6f5d0"
            ],
            [
             0.7,
             "#b8e186"
            ],
            [
             0.8,
             "#7fbc41"
            ],
            [
             0.9,
             "#4d9221"
            ],
            [
             1,
             "#276419"
            ]
           ],
           "sequential": [
            [
             0,
             "#0d0887"
            ],
            [
             0.1111111111111111,
             "#46039f"
            ],
            [
             0.2222222222222222,
             "#7201a8"
            ],
            [
             0.3333333333333333,
             "#9c179e"
            ],
            [
             0.4444444444444444,
             "#bd3786"
            ],
            [
             0.5555555555555556,
             "#d8576b"
            ],
            [
             0.6666666666666666,
             "#ed7953"
            ],
            [
             0.7777777777777778,
             "#fb9f3a"
            ],
            [
             0.8888888888888888,
             "#fdca26"
            ],
            [
             1,
             "#f0f921"
            ]
           ],
           "sequentialminus": [
            [
             0,
             "#0d0887"
            ],
            [
             0.1111111111111111,
             "#46039f"
            ],
            [
             0.2222222222222222,
             "#7201a8"
            ],
            [
             0.3333333333333333,
             "#9c179e"
            ],
            [
             0.4444444444444444,
             "#bd3786"
            ],
            [
             0.5555555555555556,
             "#d8576b"
            ],
            [
             0.6666666666666666,
             "#ed7953"
            ],
            [
             0.7777777777777778,
             "#fb9f3a"
            ],
            [
             0.8888888888888888,
             "#fdca26"
            ],
            [
             1,
             "#f0f921"
            ]
           ]
          },
          "colorway": [
           "#636efa",
           "#EF553B",
           "#00cc96",
           "#ab63fa",
           "#FFA15A",
           "#19d3f3",
           "#FF6692",
           "#B6E880",
           "#FF97FF",
           "#FECB52"
          ],
          "font": {
           "color": "#2a3f5f"
          },
          "geo": {
           "bgcolor": "white",
           "lakecolor": "white",
           "landcolor": "#E5ECF6",
           "showlakes": true,
           "showland": true,
           "subunitcolor": "white"
          },
          "hoverlabel": {
           "align": "left"
          },
          "hovermode": "closest",
          "mapbox": {
           "style": "light"
          },
          "paper_bgcolor": "white",
          "plot_bgcolor": "#E5ECF6",
          "polar": {
           "angularaxis": {
            "gridcolor": "white",
            "linecolor": "white",
            "ticks": ""
           },
           "bgcolor": "#E5ECF6",
           "radialaxis": {
            "gridcolor": "white",
            "linecolor": "white",
            "ticks": ""
           }
          },
          "scene": {
           "xaxis": {
            "backgroundcolor": "#E5ECF6",
            "gridcolor": "white",
            "gridwidth": 2,
            "linecolor": "white",
            "showbackground": true,
            "ticks": "",
            "zerolinecolor": "white"
           },
           "yaxis": {
            "backgroundcolor": "#E5ECF6",
            "gridcolor": "white",
            "gridwidth": 2,
            "linecolor": "white",
            "showbackground": true,
            "ticks": "",
            "zerolinecolor": "white"
           },
           "zaxis": {
            "backgroundcolor": "#E5ECF6",
            "gridcolor": "white",
            "gridwidth": 2,
            "linecolor": "white",
            "showbackground": true,
            "ticks": "",
            "zerolinecolor": "white"
           }
          },
          "shapedefaults": {
           "line": {
            "color": "#2a3f5f"
           }
          },
          "ternary": {
           "aaxis": {
            "gridcolor": "white",
            "linecolor": "white",
            "ticks": ""
           },
           "baxis": {
            "gridcolor": "white",
            "linecolor": "white",
            "ticks": ""
           },
           "bgcolor": "#E5ECF6",
           "caxis": {
            "gridcolor": "white",
            "linecolor": "white",
            "ticks": ""
           }
          },
          "title": {
           "x": 0.05
          },
          "xaxis": {
           "automargin": true,
           "gridcolor": "white",
           "linecolor": "white",
           "ticks": "",
           "title": {
            "standoff": 15
           },
           "zerolinecolor": "white",
           "zerolinewidth": 2
          },
          "yaxis": {
           "automargin": true,
           "gridcolor": "white",
           "linecolor": "white",
           "ticks": "",
           "title": {
            "standoff": 15
           },
           "zerolinecolor": "white",
           "zerolinewidth": 2
          }
         }
        },
        "title": {
         "text": "IBM's stock"
        },
        "xaxis": {
         "anchor": "y",
         "domain": [
          0,
          1
         ],
         "title": {
          "text": "day"
         }
        },
        "yaxis": {
         "anchor": "x",
         "domain": [
          0,
          1
         ],
         "title": {
          "text": "price"
         }
        }
       }
      }
     },
     "metadata": {}
    }
   ],
   "source": [
    "test['predict2'] = result2\n",
    "test['predict3'] = result3\n",
    "test['predict4'] = result4\n",
    "test['predict5'] = result5\n",
    "print(result2)\n",
    "fig = px.line(test, x=test.index, y=['open', 'predict3'])\n",
    "fig.update_layout(title='IBM\\'s stock', xaxis_title='day', yaxis_title='price')\n",
    "fig.show()"
   ]
  },
  {
   "cell_type": "code",
   "execution_count": 293,
   "metadata": {},
   "outputs": [
    {
     "output_type": "stream",
     "name": "stdout",
     "text": [
      "look before 2  avg  2.664183938246895\n",
      "look before 3  avg  2.7776563181195977\n",
      "look before 4  avg  1.719911879952736\n",
      "look before 5  avg  1.89430373496287\n"
     ]
    }
   ],
   "source": [
    "x_test, y_test = create_data(train, 2, 1)\n",
    "result2 = np.array([154, 154])\n",
    "result2 = np.append(result2, lstm_model(x_test, y_test, regressor2))\n",
    "x_test, y_test = create_data(train, 3, 1)\n",
    "result3 = np.array([154, 154, 154])\n",
    "result3 = np.append(result3, lstm_model(x_test, y_test, regressor3))\n",
    "x_test, y_test = create_data(train, 4, 1)\n",
    "result4 = np.array([154, 154, 154, 154])\n",
    "result4 = np.append(result4, lstm_model(x_test, y_test, regressor4))\n",
    "x_test, y_test = create_data(train, 5, 1)\n",
    "result5 = np.array([154, 154, 154, 154, 154])\n",
    "result5 = np.append(result5, lstm_model(x_test, y_test, regressor5))"
   ]
  },
  {
   "cell_type": "code",
   "execution_count": 318,
   "metadata": {},
   "outputs": [
    {
     "output_type": "display_data",
     "data": {
      "text/plain": "<Figure size 432x288 with 1 Axes>",
      "image/svg+xml": "<?xml version=\"1.0\" encoding=\"utf-8\" standalone=\"no\"?>\n<!DOCTYPE svg PUBLIC \"-//W3C//DTD SVG 1.1//EN\"\n  \"http://www.w3.org/Graphics/SVG/1.1/DTD/svg11.dtd\">\n<!-- Created with matplotlib (https://matplotlib.org/) -->\n<svg height=\"263.63625pt\" version=\"1.1\" viewBox=\"0 0 375.2875 263.63625\" width=\"375.2875pt\" xmlns=\"http://www.w3.org/2000/svg\" xmlns:xlink=\"http://www.w3.org/1999/xlink\">\n <metadata>\n  <rdf:RDF xmlns:cc=\"http://creativecommons.org/ns#\" xmlns:dc=\"http://purl.org/dc/elements/1.1/\" xmlns:rdf=\"http://www.w3.org/1999/02/22-rdf-syntax-ns#\">\n   <cc:Work>\n    <dc:type rdf:resource=\"http://purl.org/dc/dcmitype/StillImage\"/>\n    <dc:date>2021-04-11T16:07:54.860788</dc:date>\n    <dc:format>image/svg+xml</dc:format>\n    <dc:creator>\n     <cc:Agent>\n      <dc:title>Matplotlib v3.3.4, https://matplotlib.org/</dc:title>\n     </cc:Agent>\n    </dc:creator>\n   </cc:Work>\n  </rdf:RDF>\n </metadata>\n <defs>\n  <style type=\"text/css\">*{stroke-linecap:butt;stroke-linejoin:round;}</style>\n </defs>\n <g id=\"figure_1\">\n  <g id=\"patch_1\">\n   <path d=\"M 0 263.63625 \nL 375.2875 263.63625 \nL 375.2875 0 \nL 0 0 \nz\n\" style=\"fill:none;\"/>\n  </g>\n  <g id=\"axes_1\">\n   <g id=\"patch_2\">\n    <path d=\"M 33.2875 239.758125 \nL 368.0875 239.758125 \nL 368.0875 22.318125 \nL 33.2875 22.318125 \nz\n\" style=\"fill:#ffffff;\"/>\n   </g>\n   <g id=\"matplotlib.axis_1\">\n    <g id=\"xtick_1\">\n     <g id=\"line2d_1\">\n      <defs>\n       <path d=\"M 0 0 \nL 0 3.5 \n\" id=\"m86f8732ccb\" style=\"stroke:#000000;stroke-width:0.8;\"/>\n      </defs>\n      <g>\n       <use style=\"stroke:#000000;stroke-width:0.8;\" x=\"48.505682\" xlink:href=\"#m86f8732ccb\" y=\"239.758125\"/>\n      </g>\n     </g>\n     <g id=\"text_1\">\n      <!-- 0 -->\n      <g transform=\"translate(45.324432 254.356563)scale(0.1 -0.1)\">\n       <defs>\n        <path d=\"M 31.78125 66.40625 \nQ 24.171875 66.40625 20.328125 58.90625 \nQ 16.5 51.421875 16.5 36.375 \nQ 16.5 21.390625 20.328125 13.890625 \nQ 24.171875 6.390625 31.78125 6.390625 \nQ 39.453125 6.390625 43.28125 13.890625 \nQ 47.125 21.390625 47.125 36.375 \nQ 47.125 51.421875 43.28125 58.90625 \nQ 39.453125 66.40625 31.78125 66.40625 \nz\nM 31.78125 74.21875 \nQ 44.046875 74.21875 50.515625 64.515625 \nQ 56.984375 54.828125 56.984375 36.375 \nQ 56.984375 17.96875 50.515625 8.265625 \nQ 44.046875 -1.421875 31.78125 -1.421875 \nQ 19.53125 -1.421875 13.0625 8.265625 \nQ 6.59375 17.96875 6.59375 36.375 \nQ 6.59375 54.828125 13.0625 64.515625 \nQ 19.53125 74.21875 31.78125 74.21875 \nz\n\" id=\"DejaVuSans-48\"/>\n       </defs>\n       <use xlink:href=\"#DejaVuSans-48\"/>\n      </g>\n     </g>\n    </g>\n    <g id=\"xtick_2\">\n     <g id=\"line2d_2\">\n      <g>\n       <use style=\"stroke:#000000;stroke-width:0.8;\" x=\"89.442284\" xlink:href=\"#m86f8732ccb\" y=\"239.758125\"/>\n      </g>\n     </g>\n     <g id=\"text_2\">\n      <!-- 200 -->\n      <g transform=\"translate(79.898534 254.356563)scale(0.1 -0.1)\">\n       <defs>\n        <path d=\"M 19.1875 8.296875 \nL 53.609375 8.296875 \nL 53.609375 0 \nL 7.328125 0 \nL 7.328125 8.296875 \nQ 12.9375 14.109375 22.625 23.890625 \nQ 32.328125 33.6875 34.8125 36.53125 \nQ 39.546875 41.84375 41.421875 45.53125 \nQ 43.3125 49.21875 43.3125 52.78125 \nQ 43.3125 58.59375 39.234375 62.25 \nQ 35.15625 65.921875 28.609375 65.921875 \nQ 23.96875 65.921875 18.8125 64.3125 \nQ 13.671875 62.703125 7.8125 59.421875 \nL 7.8125 69.390625 \nQ 13.765625 71.78125 18.9375 73 \nQ 24.125 74.21875 28.421875 74.21875 \nQ 39.75 74.21875 46.484375 68.546875 \nQ 53.21875 62.890625 53.21875 53.421875 \nQ 53.21875 48.921875 51.53125 44.890625 \nQ 49.859375 40.875 45.40625 35.40625 \nQ 44.1875 33.984375 37.640625 27.21875 \nQ 31.109375 20.453125 19.1875 8.296875 \nz\n\" id=\"DejaVuSans-50\"/>\n       </defs>\n       <use xlink:href=\"#DejaVuSans-50\"/>\n       <use x=\"63.623047\" xlink:href=\"#DejaVuSans-48\"/>\n       <use x=\"127.246094\" xlink:href=\"#DejaVuSans-48\"/>\n      </g>\n     </g>\n    </g>\n    <g id=\"xtick_3\">\n     <g id=\"line2d_3\">\n      <g>\n       <use style=\"stroke:#000000;stroke-width:0.8;\" x=\"130.378886\" xlink:href=\"#m86f8732ccb\" y=\"239.758125\"/>\n      </g>\n     </g>\n     <g id=\"text_3\">\n      <!-- 400 -->\n      <g transform=\"translate(120.835136 254.356563)scale(0.1 -0.1)\">\n       <defs>\n        <path d=\"M 37.796875 64.3125 \nL 12.890625 25.390625 \nL 37.796875 25.390625 \nz\nM 35.203125 72.90625 \nL 47.609375 72.90625 \nL 47.609375 25.390625 \nL 58.015625 25.390625 \nL 58.015625 17.1875 \nL 47.609375 17.1875 \nL 47.609375 0 \nL 37.796875 0 \nL 37.796875 17.1875 \nL 4.890625 17.1875 \nL 4.890625 26.703125 \nz\n\" id=\"DejaVuSans-52\"/>\n       </defs>\n       <use xlink:href=\"#DejaVuSans-52\"/>\n       <use x=\"63.623047\" xlink:href=\"#DejaVuSans-48\"/>\n       <use x=\"127.246094\" xlink:href=\"#DejaVuSans-48\"/>\n      </g>\n     </g>\n    </g>\n    <g id=\"xtick_4\">\n     <g id=\"line2d_4\">\n      <g>\n       <use style=\"stroke:#000000;stroke-width:0.8;\" x=\"171.315488\" xlink:href=\"#m86f8732ccb\" y=\"239.758125\"/>\n      </g>\n     </g>\n     <g id=\"text_4\">\n      <!-- 600 -->\n      <g transform=\"translate(161.771738 254.356563)scale(0.1 -0.1)\">\n       <defs>\n        <path d=\"M 33.015625 40.375 \nQ 26.375 40.375 22.484375 35.828125 \nQ 18.609375 31.296875 18.609375 23.390625 \nQ 18.609375 15.53125 22.484375 10.953125 \nQ 26.375 6.390625 33.015625 6.390625 \nQ 39.65625 6.390625 43.53125 10.953125 \nQ 47.40625 15.53125 47.40625 23.390625 \nQ 47.40625 31.296875 43.53125 35.828125 \nQ 39.65625 40.375 33.015625 40.375 \nz\nM 52.59375 71.296875 \nL 52.59375 62.3125 \nQ 48.875 64.0625 45.09375 64.984375 \nQ 41.3125 65.921875 37.59375 65.921875 \nQ 27.828125 65.921875 22.671875 59.328125 \nQ 17.53125 52.734375 16.796875 39.40625 \nQ 19.671875 43.65625 24.015625 45.921875 \nQ 28.375 48.1875 33.59375 48.1875 \nQ 44.578125 48.1875 50.953125 41.515625 \nQ 57.328125 34.859375 57.328125 23.390625 \nQ 57.328125 12.15625 50.6875 5.359375 \nQ 44.046875 -1.421875 33.015625 -1.421875 \nQ 20.359375 -1.421875 13.671875 8.265625 \nQ 6.984375 17.96875 6.984375 36.375 \nQ 6.984375 53.65625 15.1875 63.9375 \nQ 23.390625 74.21875 37.203125 74.21875 \nQ 40.921875 74.21875 44.703125 73.484375 \nQ 48.484375 72.75 52.59375 71.296875 \nz\n\" id=\"DejaVuSans-54\"/>\n       </defs>\n       <use xlink:href=\"#DejaVuSans-54\"/>\n       <use x=\"63.623047\" xlink:href=\"#DejaVuSans-48\"/>\n       <use x=\"127.246094\" xlink:href=\"#DejaVuSans-48\"/>\n      </g>\n     </g>\n    </g>\n    <g id=\"xtick_5\">\n     <g id=\"line2d_5\">\n      <g>\n       <use style=\"stroke:#000000;stroke-width:0.8;\" x=\"212.25209\" xlink:href=\"#m86f8732ccb\" y=\"239.758125\"/>\n      </g>\n     </g>\n     <g id=\"text_5\">\n      <!-- 800 -->\n      <g transform=\"translate(202.70834 254.356563)scale(0.1 -0.1)\">\n       <defs>\n        <path d=\"M 31.78125 34.625 \nQ 24.75 34.625 20.71875 30.859375 \nQ 16.703125 27.09375 16.703125 20.515625 \nQ 16.703125 13.921875 20.71875 10.15625 \nQ 24.75 6.390625 31.78125 6.390625 \nQ 38.8125 6.390625 42.859375 10.171875 \nQ 46.921875 13.96875 46.921875 20.515625 \nQ 46.921875 27.09375 42.890625 30.859375 \nQ 38.875 34.625 31.78125 34.625 \nz\nM 21.921875 38.8125 \nQ 15.578125 40.375 12.03125 44.71875 \nQ 8.5 49.078125 8.5 55.328125 \nQ 8.5 64.0625 14.71875 69.140625 \nQ 20.953125 74.21875 31.78125 74.21875 \nQ 42.671875 74.21875 48.875 69.140625 \nQ 55.078125 64.0625 55.078125 55.328125 \nQ 55.078125 49.078125 51.53125 44.71875 \nQ 48 40.375 41.703125 38.8125 \nQ 48.828125 37.15625 52.796875 32.3125 \nQ 56.78125 27.484375 56.78125 20.515625 \nQ 56.78125 9.90625 50.3125 4.234375 \nQ 43.84375 -1.421875 31.78125 -1.421875 \nQ 19.734375 -1.421875 13.25 4.234375 \nQ 6.78125 9.90625 6.78125 20.515625 \nQ 6.78125 27.484375 10.78125 32.3125 \nQ 14.796875 37.15625 21.921875 38.8125 \nz\nM 18.3125 54.390625 \nQ 18.3125 48.734375 21.84375 45.5625 \nQ 25.390625 42.390625 31.78125 42.390625 \nQ 38.140625 42.390625 41.71875 45.5625 \nQ 45.3125 48.734375 45.3125 54.390625 \nQ 45.3125 60.0625 41.71875 63.234375 \nQ 38.140625 66.40625 31.78125 66.40625 \nQ 25.390625 66.40625 21.84375 63.234375 \nQ 18.3125 60.0625 18.3125 54.390625 \nz\n\" id=\"DejaVuSans-56\"/>\n       </defs>\n       <use xlink:href=\"#DejaVuSans-56\"/>\n       <use x=\"63.623047\" xlink:href=\"#DejaVuSans-48\"/>\n       <use x=\"127.246094\" xlink:href=\"#DejaVuSans-48\"/>\n      </g>\n     </g>\n    </g>\n    <g id=\"xtick_6\">\n     <g id=\"line2d_6\">\n      <g>\n       <use style=\"stroke:#000000;stroke-width:0.8;\" x=\"253.188692\" xlink:href=\"#m86f8732ccb\" y=\"239.758125\"/>\n      </g>\n     </g>\n     <g id=\"text_6\">\n      <!-- 1000 -->\n      <g transform=\"translate(240.463692 254.356563)scale(0.1 -0.1)\">\n       <defs>\n        <path d=\"M 12.40625 8.296875 \nL 28.515625 8.296875 \nL 28.515625 63.921875 \nL 10.984375 60.40625 \nL 10.984375 69.390625 \nL 28.421875 72.90625 \nL 38.28125 72.90625 \nL 38.28125 8.296875 \nL 54.390625 8.296875 \nL 54.390625 0 \nL 12.40625 0 \nz\n\" id=\"DejaVuSans-49\"/>\n       </defs>\n       <use xlink:href=\"#DejaVuSans-49\"/>\n       <use x=\"63.623047\" xlink:href=\"#DejaVuSans-48\"/>\n       <use x=\"127.246094\" xlink:href=\"#DejaVuSans-48\"/>\n       <use x=\"190.869141\" xlink:href=\"#DejaVuSans-48\"/>\n      </g>\n     </g>\n    </g>\n    <g id=\"xtick_7\">\n     <g id=\"line2d_7\">\n      <g>\n       <use style=\"stroke:#000000;stroke-width:0.8;\" x=\"294.125294\" xlink:href=\"#m86f8732ccb\" y=\"239.758125\"/>\n      </g>\n     </g>\n     <g id=\"text_7\">\n      <!-- 1200 -->\n      <g transform=\"translate(281.400294 254.356563)scale(0.1 -0.1)\">\n       <use xlink:href=\"#DejaVuSans-49\"/>\n       <use x=\"63.623047\" xlink:href=\"#DejaVuSans-50\"/>\n       <use x=\"127.246094\" xlink:href=\"#DejaVuSans-48\"/>\n       <use x=\"190.869141\" xlink:href=\"#DejaVuSans-48\"/>\n      </g>\n     </g>\n    </g>\n    <g id=\"xtick_8\">\n     <g id=\"line2d_8\">\n      <g>\n       <use style=\"stroke:#000000;stroke-width:0.8;\" x=\"335.061896\" xlink:href=\"#m86f8732ccb\" y=\"239.758125\"/>\n      </g>\n     </g>\n     <g id=\"text_8\">\n      <!-- 1400 -->\n      <g transform=\"translate(322.336896 254.356563)scale(0.1 -0.1)\">\n       <use xlink:href=\"#DejaVuSans-49\"/>\n       <use x=\"63.623047\" xlink:href=\"#DejaVuSans-52\"/>\n       <use x=\"127.246094\" xlink:href=\"#DejaVuSans-48\"/>\n       <use x=\"190.869141\" xlink:href=\"#DejaVuSans-48\"/>\n      </g>\n     </g>\n    </g>\n   </g>\n   <g id=\"matplotlib.axis_2\">\n    <g id=\"ytick_1\">\n     <g id=\"line2d_9\">\n      <defs>\n       <path d=\"M 0 0 \nL -3.5 0 \n\" id=\"md65eb1d6e1\" style=\"stroke:#000000;stroke-width:0.8;\"/>\n      </defs>\n      <g>\n       <use style=\"stroke:#000000;stroke-width:0.8;\" x=\"33.2875\" xlink:href=\"#md65eb1d6e1\" y=\"226.733589\"/>\n      </g>\n     </g>\n     <g id=\"text_9\">\n      <!-- 120 -->\n      <g transform=\"translate(7.2 230.532808)scale(0.1 -0.1)\">\n       <use xlink:href=\"#DejaVuSans-49\"/>\n       <use x=\"63.623047\" xlink:href=\"#DejaVuSans-50\"/>\n       <use x=\"127.246094\" xlink:href=\"#DejaVuSans-48\"/>\n      </g>\n     </g>\n    </g>\n    <g id=\"ytick_2\">\n     <g id=\"line2d_10\">\n      <g>\n       <use style=\"stroke:#000000;stroke-width:0.8;\" x=\"33.2875\" xlink:href=\"#md65eb1d6e1\" y=\"185.942684\"/>\n      </g>\n     </g>\n     <g id=\"text_10\">\n      <!-- 140 -->\n      <g transform=\"translate(7.2 189.741902)scale(0.1 -0.1)\">\n       <use xlink:href=\"#DejaVuSans-49\"/>\n       <use x=\"63.623047\" xlink:href=\"#DejaVuSans-52\"/>\n       <use x=\"127.246094\" xlink:href=\"#DejaVuSans-48\"/>\n      </g>\n     </g>\n    </g>\n    <g id=\"ytick_3\">\n     <g id=\"line2d_11\">\n      <g>\n       <use style=\"stroke:#000000;stroke-width:0.8;\" x=\"33.2875\" xlink:href=\"#md65eb1d6e1\" y=\"145.151778\"/>\n      </g>\n     </g>\n     <g id=\"text_11\">\n      <!-- 160 -->\n      <g transform=\"translate(7.2 148.950997)scale(0.1 -0.1)\">\n       <use xlink:href=\"#DejaVuSans-49\"/>\n       <use x=\"63.623047\" xlink:href=\"#DejaVuSans-54\"/>\n       <use x=\"127.246094\" xlink:href=\"#DejaVuSans-48\"/>\n      </g>\n     </g>\n    </g>\n    <g id=\"ytick_4\">\n     <g id=\"line2d_12\">\n      <g>\n       <use style=\"stroke:#000000;stroke-width:0.8;\" x=\"33.2875\" xlink:href=\"#md65eb1d6e1\" y=\"104.360873\"/>\n      </g>\n     </g>\n     <g id=\"text_12\">\n      <!-- 180 -->\n      <g transform=\"translate(7.2 108.160092)scale(0.1 -0.1)\">\n       <use xlink:href=\"#DejaVuSans-49\"/>\n       <use x=\"63.623047\" xlink:href=\"#DejaVuSans-56\"/>\n       <use x=\"127.246094\" xlink:href=\"#DejaVuSans-48\"/>\n      </g>\n     </g>\n    </g>\n    <g id=\"ytick_5\">\n     <g id=\"line2d_13\">\n      <g>\n       <use style=\"stroke:#000000;stroke-width:0.8;\" x=\"33.2875\" xlink:href=\"#md65eb1d6e1\" y=\"63.569968\"/>\n      </g>\n     </g>\n     <g id=\"text_13\">\n      <!-- 200 -->\n      <g transform=\"translate(7.2 67.369186)scale(0.1 -0.1)\">\n       <use xlink:href=\"#DejaVuSans-50\"/>\n       <use x=\"63.623047\" xlink:href=\"#DejaVuSans-48\"/>\n       <use x=\"127.246094\" xlink:href=\"#DejaVuSans-48\"/>\n      </g>\n     </g>\n    </g>\n    <g id=\"ytick_6\">\n     <g id=\"line2d_14\">\n      <g>\n       <use style=\"stroke:#000000;stroke-width:0.8;\" x=\"33.2875\" xlink:href=\"#md65eb1d6e1\" y=\"22.779062\"/>\n      </g>\n     </g>\n     <g id=\"text_14\">\n      <!-- 220 -->\n      <g transform=\"translate(7.2 26.578281)scale(0.1 -0.1)\">\n       <use xlink:href=\"#DejaVuSans-50\"/>\n       <use x=\"63.623047\" xlink:href=\"#DejaVuSans-50\"/>\n       <use x=\"127.246094\" xlink:href=\"#DejaVuSans-48\"/>\n      </g>\n     </g>\n    </g>\n   </g>\n   <g id=\"line2d_15\">\n    <path clip-path=\"url(#p8b6b3bc3e2)\" d=\"M 48.505682 157.38905 \nL 49.324414 157.38905 \nL 49.529097 103.296317 \nL 49.938463 98.21429 \nL 50.143146 107.818197 \nL 50.347829 109.73914 \nL 50.552512 101.881401 \nL 50.961878 100.165857 \nL 51.575927 80.829607 \nL 51.78061 84.176794 \nL 52.189976 76.110389 \nL 52.394659 83.91933 \nL 52.599342 84.135777 \nL 52.804025 72.810101 \nL 53.008708 75.391805 \nL 53.213391 73.452812 \nL 53.418074 73.179071 \nL 53.622757 73.442137 \nL 53.82744 76.570699 \nL 54.032123 71.938931 \nL 54.236806 76.558904 \nL 54.646172 79.261949 \nL 54.850855 77.098325 \nL 55.055538 76.339626 \nL 55.260221 78.067899 \nL 55.464904 76.595378 \nL 55.87427 69.280887 \nL 56.078953 69.918214 \nL 56.488319 62.074666 \nL 56.693002 63.179275 \nL 56.897685 62.441645 \nL 57.102368 63.230687 \nL 57.307051 60.417567 \nL 57.511734 65.886925 \nL 57.9211 62.920006 \nL 58.125783 59.036728 \nL 58.330466 58.875957 \nL 59.149198 48.39391 \nL 59.353881 52.11153 \nL 59.558564 53.355405 \nL 59.763247 48.918983 \nL 59.96793 49.941774 \nL 60.172613 53.383756 \nL 60.377296 48.602109 \nL 60.581979 48.195015 \nL 60.786662 48.39058 \nL 60.991345 47.875932 \nL 61.196028 46.682722 \nL 61.400711 47.376502 \nL 61.605394 44.824363 \nL 62.014761 51.960282 \nL 62.219444 52.762332 \nL 62.424127 55.368186 \nL 62.62881 55.032608 \nL 62.833493 55.113398 \nL 63.038176 54.184157 \nL 63.242859 52.689011 \nL 63.447542 52.313132 \nL 63.652225 55.970782 \nL 63.856908 66.381842 \nL 64.061591 62.403833 \nL 64.266274 66.585592 \nL 64.470957 55.952109 \nL 64.67564 55.419722 \nL 65.085006 47.584422 \nL 65.494372 46.585749 \nL 65.699055 46.48168 \nL 66.313104 53.933788 \nL 66.517787 63.704099 \nL 66.927153 55.251233 \nL 67.131836 55.263837 \nL 67.336519 61.378863 \nL 67.541202 57.030669 \nL 67.745885 61.012413 \nL 67.950568 62.278353 \nL 68.155251 72.587399 \nL 68.359934 73.993414 \nL 68.564617 71.008662 \nL 68.7693 79.054559 \nL 68.973983 78.650484 \nL 69.383349 63.773779 \nL 69.792715 75.80226 \nL 69.997398 79.000128 \nL 70.202081 86.145072 \nL 70.611447 81.63922 \nL 70.81613 73.716158 \nL 71.225496 78.832013 \nL 71.430179 74.368796 \nL 71.634862 75.562379 \nL 72.248911 62.562208 \nL 72.453594 58.166803 \nL 72.658277 63.725324 \nL 72.86296 76.60932 \nL 73.067643 72.383837 \nL 73.272326 75.819656 \nL 73.477009 82.257469 \nL 73.681692 80.226762 \nL 73.886375 86.918678 \nL 74.091058 83.10175 \nL 74.295741 73.21318 \nL 74.500424 69.895122 \nL 74.705107 70.831242 \nL 74.90979 85.838095 \nL 75.728522 100.039381 \nL 76.137888 91.739848 \nL 76.342571 94.818586 \nL 76.547254 92.549274 \nL 76.751937 73.46414 \nL 76.95662 74.35003 \nL 77.161303 84.646659 \nL 77.365986 87.897838 \nL 77.775352 75.078977 \nL 77.980035 72.349075 \nL 78.184718 65.567655 \nL 78.389401 64.045123 \nL 78.594084 68.846781 \nL 78.798767 69.655771 \nL 79.00345 66.207938 \nL 79.208133 59.717531 \nL 79.412816 59.953833 \nL 79.617499 59.888728 \nL 79.822182 61.609563 \nL 80.026865 64.98507 \nL 80.231548 64.214763 \nL 80.436231 64.270097 \nL 80.845597 63.055787 \nL 81.05028 57.489268 \nL 81.254963 58.594063 \nL 81.664329 66.917933 \nL 82.073696 71.098198 \nL 82.278379 69.487095 \nL 82.483062 69.748791 \nL 82.687745 66.756788 \nL 82.892428 70.995 \nL 83.097111 71.149018 \nL 83.301794 77.089486 \nL 83.71116 66.110748 \nL 83.915843 66.170375 \nL 84.529892 53.376162 \nL 84.734575 54.358777 \nL 84.939258 47.771677 \nL 85.143941 46.904459 \nL 85.348624 46.814395 \nL 85.553307 50.129496 \nL 85.962673 48.642442 \nL 86.167356 48.325786 \nL 86.372039 46.72875 \nL 86.576722 49.937884 \nL 86.781405 49.468984 \nL 86.986088 48.511703 \nL 87.190771 43.764538 \nL 87.395454 48.297559 \nL 87.600137 44.343077 \nL 87.80482 48.382768 \nL 88.009503 43.970496 \nL 88.214186 44.282204 \nL 88.418869 46.487905 \nL 88.623552 52.58376 \nL 88.828235 48.860289 \nL 89.032918 48.699518 \nL 89.237601 48.059826 \nL 89.442284 45.254113 \nL 89.85165 76.845716 \nL 90.056333 73.926909 \nL 90.465699 78.99711 \nL 90.875065 77.457865 \nL 91.489114 67.372797 \nL 91.693797 74.569682 \nL 91.89848 73.199393 \nL 92.103163 67.185137 \nL 92.307846 75.713472 \nL 92.512529 78.33389 \nL 92.717212 78.528116 \nL 92.921895 87.993877 \nL 93.126578 77.395935 \nL 93.331261 90.320233 \nL 93.535944 90.114181 \nL 93.740627 91.594762 \nL 93.94531 84.713289 \nL 94.149993 86.206567 \nL 94.559359 77.878683 \nL 94.968725 75.52326 \nL 95.173408 84.735229 \nL 95.378091 85.064956 \nL 95.582774 84.007838 \nL 95.787457 86.228819 \nL 95.99214 80.837418 \nL 96.196823 89.10751 \nL 97.015555 70.654225 \nL 97.220238 75.819905 \nL 97.424921 75.81032 \nL 97.629604 72.93944 \nL 97.834287 73.157287 \nL 98.243653 66.397745 \nL 98.448336 74.851016 \nL 98.653019 77.69759 \nL 98.857702 75.046922 \nL 99.267068 78.084642 \nL 99.471751 77.225018 \nL 99.676434 80.744802 \nL 99.881117 73.197775 \nL 100.0858 71.660865 \nL 100.290483 76.240008 \nL 100.495166 76.302219 \nL 100.699849 78.956372 \nL 100.904532 79.472452 \nL 101.109215 81.203339 \nL 101.313898 77.116064 \nL 101.518581 77.390986 \nL 101.723265 80.01433 \nL 101.927948 77.200775 \nL 102.337314 70.163696 \nL 102.541997 70.935248 \nL 102.74668 48.129443 \nL 102.951363 53.072733 \nL 103.565412 49.701178 \nL 103.770095 50.637142 \nL 103.974778 50.608448 \nL 104.179461 53.54711 \nL 104.384144 51.422573 \nL 104.588827 54.711315 \nL 104.998193 64.610716 \nL 105.202876 59.701815 \nL 105.407559 58.603306 \nL 105.612242 61.345408 \nL 105.816925 60.991562 \nL 106.226291 58.463666 \nL 106.430974 55.402077 \nL 106.635657 59.577362 \nL 106.84034 61.273674 \nL 107.045023 61.757419 \nL 107.249706 65.318376 \nL 107.659072 61.248373 \nL 107.863755 56.673494 \nL 108.068438 63.448378 \nL 108.477804 47.63795 \nL 108.682487 48.02192 \nL 108.88717 45.171331 \nL 109.091853 44.106806 \nL 109.296536 46.400268 \nL 109.910585 40.778416 \nL 110.115268 42.058703 \nL 110.319951 38.378895 \nL 110.524634 43.169785 \nL 110.729317 38.330128 \nL 110.934 48.599713 \nL 111.138683 41.208291 \nL 111.343366 45.241104 \nL 111.548049 41.792867 \nL 112.366781 44.046961 \nL 112.571464 40.397371 \nL 112.98083 55.646065 \nL 113.185513 52.965739 \nL 113.390196 46.618675 \nL 113.594879 45.463277 \nL 113.799562 43.549212 \nL 114.004245 45.443671 \nL 114.208928 42.500434 \nL 114.413611 48.29952 \nL 114.618294 43.996451 \nL 114.822977 53.147579 \nL 115.02766 79.395801 \nL 115.232343 86.588235 \nL 115.846392 72.45473 \nL 116.051075 73.865881 \nL 116.255758 68.538869 \nL 116.460441 70.978849 \nL 117.07449 51.791295 \nL 117.279173 59.637893 \nL 117.483856 59.690238 \nL 117.688539 56.008687 \nL 117.893222 56.175433 \nL 118.097905 55.226617 \nL 118.302588 56.199428 \nL 118.507271 53.586447 \nL 118.711954 54.085814 \nL 118.916637 47.76399 \nL 119.12132 48.244373 \nL 119.326003 45.016566 \nL 119.530686 45.479989 \nL 119.735369 48.236344 \nL 119.940052 45.318378 \nL 120.144735 48.90196 \nL 120.349418 45.989284 \nL 120.554101 47.305048 \nL 120.963467 39.762721 \nL 121.7822 60.60367 \nL 121.986883 54.979142 \nL 122.396249 51.171116 \nL 122.600932 60.82021 \nL 123.010298 56.865448 \nL 123.214981 52.118221 \nL 123.419664 50.666427 \nL 123.624347 55.161138 \nL 123.82903 63.174171 \nL 124.033713 80.163431 \nL 124.238396 82.672623 \nL 124.443079 80.412555 \nL 124.852445 67.898586 \nL 125.057128 86.549863 \nL 125.261811 75.649611 \nL 125.466494 74.570273 \nL 125.671177 75.394046 \nL 125.87586 80.951321 \nL 126.080543 72.90863 \nL 126.285226 76.066104 \nL 126.489909 73.3381 \nL 126.694592 73.874875 \nL 126.899275 75.938725 \nL 127.103958 75.119528 \nL 127.308641 76.259707 \nL 127.513324 78.156158 \nL 127.718007 69.050872 \nL 127.92269 76.95884 \nL 128.127373 68.581225 \nL 128.536739 64.453244 \nL 128.741422 66.697876 \nL 128.946105 73.413319 \nL 129.560154 63.46537 \nL 129.764837 67.282951 \nL 129.96952 78.249895 \nL 130.174203 73.092213 \nL 130.583569 84.392307 \nL 130.788252 89.484479 \nL 131.197618 83.867389 \nL 131.402301 86.681194 \nL 131.606984 86.089179 \nL 131.811667 87.787171 \nL 132.01635 86.648268 \nL 132.221033 89.278583 \nL 132.425716 93.46364 \nL 132.630399 88.400473 \nL 132.835082 92.473215 \nL 133.039765 92.699682 \nL 133.244448 86.956116 \nL 133.653814 98.328504 \nL 133.858497 96.169735 \nL 134.06318 99.219249 \nL 134.472546 97.387406 \nL 134.677229 92.962561 \nL 134.881912 96.035914 \nL 135.086595 93.13715 \nL 135.495961 84.469207 \nL 135.700644 82.408624 \nL 135.905327 75.642329 \nL 136.11001 72.933122 \nL 136.314693 74.778255 \nL 136.519376 74.937594 \nL 136.724059 71.932676 \nL 136.928742 80.145941 \nL 137.133425 78.741669 \nL 137.338108 79.748153 \nL 137.542791 84.173277 \nL 137.747474 78.766908 \nL 137.952157 88.055123 \nL 138.361523 91.533361 \nL 138.566206 91.41202 \nL 138.770889 96.132732 \nL 138.975572 92.892072 \nL 139.180255 92.664422 \nL 139.384938 103.035803 \nL 139.589621 101.390468 \nL 139.998987 95.696104 \nL 140.20367 94.104452 \nL 140.408353 93.91698 \nL 140.613036 91.455403 \nL 141.022402 114.536877 \nL 141.227085 116.992696 \nL 141.431769 114.199121 \nL 141.636452 113.604118 \nL 141.841135 109.142769 \nL 142.250501 109.676961 \nL 142.455184 103.501124 \nL 142.659867 102.166252 \nL 142.86455 98.579464 \nL 143.069233 102.544372 \nL 143.273916 102.299045 \nL 143.478599 105.94378 \nL 143.683282 103.850115 \nL 143.887965 98.376493 \nL 144.092648 107.003636 \nL 144.502014 94.644433 \nL 144.706697 97.858142 \nL 144.91138 98.987274 \nL 145.116063 100.786191 \nL 145.525429 90.799652 \nL 145.730112 89.618579 \nL 146.344161 106.250197 \nL 146.548844 107.369215 \nL 146.753527 102.234251 \nL 146.95821 100.343744 \nL 147.162893 107.305354 \nL 147.367576 108.253082 \nL 147.572259 106.821641 \nL 147.776942 110.50397 \nL 147.981625 109.621814 \nL 148.390991 109.937163 \nL 148.595674 110.52619 \nL 148.800357 113.811135 \nL 149.00504 115.176133 \nL 149.209723 111.579044 \nL 149.414406 112.797618 \nL 149.619089 112.457746 \nL 150.028455 96.874501 \nL 150.233138 97.535853 \nL 150.437821 95.460176 \nL 150.642504 92.194557 \nL 150.847187 91.533859 \nL 151.05187 91.420174 \nL 151.256553 87.44067 \nL 151.461236 90.936865 \nL 151.665919 88.934353 \nL 151.870602 91.715947 \nL 152.075285 84.802979 \nL 152.279968 88.125114 \nL 153.0987 94.149671 \nL 153.303383 87.569542 \nL 153.508066 87.411914 \nL 153.712749 82.140921 \nL 154.122115 99.154767 \nL 154.326798 97.774644 \nL 154.531481 98.10157 \nL 154.940847 109.626327 \nL 155.14553 104.504434 \nL 155.350213 108.59868 \nL 155.554896 108.681027 \nL 155.759579 116.099057 \nL 155.964262 118.508382 \nL 156.168945 114.123154 \nL 156.373628 114.051545 \nL 156.578311 111.089729 \nL 156.782994 109.831694 \nL 157.19236 100.414327 \nL 157.397043 101.34388 \nL 157.601726 96.344759 \nL 157.806409 96.366948 \nL 158.011092 89.249765 \nL 158.215775 91.725004 \nL 158.420458 92.079129 \nL 158.625141 89.282628 \nL 158.829824 91.854311 \nL 159.23919 89.459333 \nL 159.443873 94.698894 \nL 159.648556 94.707079 \nL 159.853239 87.953544 \nL 160.057922 84.963533 \nL 160.262605 84.719855 \nL 160.467288 85.588504 \nL 160.671971 87.968264 \nL 160.876654 87.71578 \nL 161.081338 84.910627 \nL 161.490704 95.696322 \nL 161.90007 87.392837 \nL 162.104753 93.228116 \nL 162.309436 90.367973 \nL 162.514119 89.566576 \nL 162.718802 82.3269 \nL 163.128168 78.671086 \nL 163.332851 81.816983 \nL 163.9469 71.893899 \nL 164.151583 76.780268 \nL 164.356266 75.630316 \nL 164.560949 76.658803 \nL 164.765632 73.392437 \nL 164.970315 74.994514 \nL 165.174998 71.37561 \nL 165.379681 59.874941 \nL 165.584364 65.404208 \nL 165.789047 65.866261 \nL 165.99373 67.699536 \nL 166.403096 80.959506 \nL 166.607779 77.85167 \nL 166.812462 77.000045 \nL 167.017145 82.123431 \nL 167.221828 82.154241 \nL 167.426511 83.442837 \nL 168.04056 68.229714 \nL 168.449926 78.654872 \nL 168.654609 82.799503 \nL 168.859292 84.452277 \nL 169.063975 90.342547 \nL 169.268658 83.098078 \nL 169.473341 82.791785 \nL 169.678024 76.83641 \nL 169.882707 76.725651 \nL 170.08739 86.221817 \nL 170.292073 90.346437 \nL 170.496756 88.42649 \nL 170.701439 89.08722 \nL 170.906122 90.759631 \nL 171.110805 90.560954 \nL 171.315488 92.662306 \nL 171.520171 91.171984 \nL 171.724854 92.293242 \nL 171.929537 94.497448 \nL 172.13422 99.042513 \nL 172.338903 97.493155 \nL 172.543586 90.340493 \nL 172.748269 92.709485 \nL 172.952952 91.108092 \nL 173.157635 93.175522 \nL 173.567001 84.58339 \nL 173.771684 93.622575 \nL 174.18105 100.148149 \nL 174.385733 98.082337 \nL 174.590416 100.407822 \nL 174.795099 97.55577 \nL 174.999782 96.797974 \nL 175.204465 97.26177 \nL 175.613831 100.920541 \nL 175.818514 96.932604 \nL 176.22788 103.646957 \nL 176.432563 98.985469 \nL 176.637246 101.244853 \nL 177.046612 86.451614 \nL 177.251295 87.595061 \nL 177.455978 85.026895 \nL 177.660661 88.320212 \nL 178.070027 86.402972 \nL 178.27471 88.366738 \nL 178.479393 81.300685 \nL 178.684076 82.83355 \nL 178.888759 80.592029 \nL 179.093442 67.466004 \nL 179.298125 80.590411 \nL 179.502808 85.262076 \nL 179.912174 70.440206 \nL 180.116857 69.871844 \nL 180.32154 71.859448 \nL 180.526223 71.460477 \nL 180.730906 68.773148 \nL 180.93559 74.777912 \nL 181.140273 73.036071 \nL 181.754322 88.2899 \nL 181.959005 90.636329 \nL 182.163688 96.212651 \nL 182.368371 94.770037 \nL 182.573054 91.224329 \nL 182.777737 85.500339 \nL 182.98242 85.416561 \nL 183.187103 86.637749 \nL 183.391786 85.52343 \nL 183.596469 83.45292 \nL 184.005835 82.045878 \nL 184.210518 77.454193 \nL 184.415201 75.609901 \nL 184.619884 77.424224 \nL 184.824567 74.613376 \nL 185.02925 75.361213 \nL 185.233933 78.76697 \nL 185.438616 79.545461 \nL 185.643299 79.863456 \nL 185.847982 75.060398 \nL 186.052665 78.212767 \nL 186.257348 78.28531 \nL 186.462031 81.05872 \nL 186.666714 79.692508 \nL 186.871397 76.624165 \nL 187.280763 80.006924 \nL 187.485446 78.937731 \nL 188.099495 72.331771 \nL 188.304178 74.036019 \nL 188.508861 74.410405 \nL 188.713544 75.882739 \nL 188.918227 81.494227 \nL 189.12291 83.119116 \nL 189.327593 82.253392 \nL 189.532276 82.780395 \nL 189.736959 79.864203 \nL 189.941642 87.026854 \nL 190.146325 89.76435 \nL 190.555691 80.692737 \nL 190.760374 88.346509 \nL 190.965057 87.66166 \nL 191.16974 89.922134 \nL 191.374423 87.348023 \nL 191.579106 90.922269 \nL 191.783789 92.035933 \nL 191.988472 104.798434 \nL 192.397838 100.957263 \nL 192.807204 130.682105 \nL 193.011887 133.993907 \nL 193.21657 140.065706 \nL 193.421253 141.456503 \nL 193.625936 139.315161 \nL 193.830619 138.574077 \nL 194.035302 138.569377 \nL 194.239985 136.958928 \nL 194.444668 137.268084 \nL 194.649351 137.850016 \nL 195.058717 140.742525 \nL 195.2634 144.105553 \nL 195.468083 142.133727 \nL 195.672766 136.664742 \nL 195.877449 138.91759 \nL 196.286815 140.069814 \nL 196.696181 135.414705 \nL 197.105547 143.402467 \nL 197.31023 144.038394 \nL 197.514913 143.705057 \nL 197.719596 138.180396 \nL 197.924279 139.282048 \nL 198.128962 142.649526 \nL 198.333645 140.904448 \nL 198.538328 138.204764 \nL 198.743011 141.39896 \nL 198.947694 137.625104 \nL 199.152377 137.520102 \nL 199.35706 136.827785 \nL 199.561743 141.02196 \nL 199.766426 139.199422 \nL 199.971109 142.215046 \nL 200.175792 140.009034 \nL 200.585158 158.70248 \nL 200.789842 159.504064 \nL 200.994525 161.041098 \nL 201.403891 143.460601 \nL 201.608574 141.137077 \nL 201.813257 140.185117 \nL 202.01794 141.367186 \nL 202.222623 139.647315 \nL 202.427306 144.215659 \nL 202.631989 144.380756 \nL 203.041355 138.690127 \nL 203.655404 156.031054 \nL 204.06477 146.164486 \nL 204.269453 150.551488 \nL 204.474136 148.418642 \nL 204.883502 154.899028 \nL 205.088185 150.631313 \nL 205.292868 152.74418 \nL 205.497551 156.281827 \nL 205.702234 153.790281 \nL 205.906917 149.474142 \nL 206.1116 150.720257 \nL 206.316283 158.191536 \nL 206.520966 160.75964 \nL 206.930332 155.596979 \nL 207.135015 158.593494 \nL 207.339698 149.30587 \nL 207.544381 147.549744 \nL 207.749064 148.576363 \nL 207.953747 150.620297 \nL 208.15843 150.958302 \nL 208.363113 151.810737 \nL 208.567796 147.851742 \nL 208.772479 147.534432 \nL 209.181845 142.017272 \nL 209.386528 142.683946 \nL 209.591211 137.640758 \nL 210.000577 138.960195 \nL 210.20526 137.176869 \nL 210.409943 138.181703 \nL 210.614626 142.097191 \nL 210.819309 142.530551 \nL 211.023992 143.774457 \nL 211.228675 142.371927 \nL 211.433358 146.538094 \nL 211.638041 143.119204 \nL 211.842724 144.706001 \nL 212.047407 143.129101 \nL 212.456773 150.850592 \nL 212.661456 148.314605 \nL 212.866139 154.811174 \nL 213.275505 151.717623 \nL 213.480188 146.499442 \nL 213.889554 140.830286 \nL 214.094237 134.379776 \nL 214.29892 137.526389 \nL 214.503603 144.167546 \nL 214.708286 144.36949 \nL 214.912969 145.682516 \nL 215.117652 138.475517 \nL 215.322335 140.179329 \nL 215.527018 146.153189 \nL 215.731701 140.807879 \nL 215.936384 140.400661 \nL 216.141067 136.244017 \nL 216.34575 137.880079 \nL 216.550433 141.406834 \nL 216.755116 140.165511 \nL 216.959799 136.297856 \nL 217.164482 142.068248 \nL 217.369165 135.496553 \nL 217.573848 137.581628 \nL 217.778531 143.214248 \nL 217.983214 134.291486 \nL 218.187897 132.238963 \nL 218.39258 134.754411 \nL 218.597263 122.848235 \nL 218.801946 124.271492 \nL 219.006629 122.588531 \nL 219.415995 115.071442 \nL 219.620678 120.416908 \nL 219.825361 118.563217 \nL 220.030044 111.821788 \nL 220.43941 121.932189 \nL 220.644094 121.040199 \nL 220.848777 119.062242 \nL 221.05346 120.836917 \nL 221.258143 124.074029 \nL 221.667509 116.203095 \nL 221.872192 117.334156 \nL 222.076875 119.30038 \nL 222.281558 119.226623 \nL 222.690924 115.526898 \nL 222.895607 117.614867 \nL 223.10029 124.510034 \nL 223.304973 121.272517 \nL 223.509656 122.191676 \nL 223.714339 124.063354 \nL 223.919022 124.5846 \nL 224.123705 125.512752 \nL 224.328388 122.371182 \nL 224.737754 127.502255 \nL 225.14712 135.632178 \nL 225.351803 127.711513 \nL 225.556486 124.216688 \nL 225.965852 132.915347 \nL 226.170535 130.579779 \nL 226.375218 130.599416 \nL 226.579901 127.086821 \nL 226.784584 128.14313 \nL 226.989267 128.478272 \nL 227.19395 125.794086 \nL 227.603316 130.914858 \nL 228.012682 134.279909 \nL 228.217365 139.628082 \nL 228.422048 134.686038 \nL 228.626731 135.59141 \nL 228.831414 134.66195 \nL 229.036097 138.627511 \nL 229.24078 136.596898 \nL 229.445463 137.14164 \nL 229.854829 126.311068 \nL 230.059512 127.295487 \nL 230.264195 126.596354 \nL 230.878244 117.960839 \nL 231.28761 139.793055 \nL 231.492293 139.665677 \nL 231.901659 145.440737 \nL 232.106342 147.560263 \nL 232.311025 143.720462 \nL 232.515708 143.49776 \nL 232.720391 142.895071 \nL 233.129757 150.620639 \nL 233.33444 149.662828 \nL 233.743806 155.520857 \nL 233.948489 152.830634 \nL 234.153172 155.535546 \nL 234.357855 153.063014 \nL 234.562538 155.693983 \nL 234.971904 152.990751 \nL 235.176587 152.688784 \nL 235.790636 163.566629 \nL 236.200002 181.723766 \nL 236.404685 178.21696 \nL 236.609368 172.713337 \nL 236.814051 171.056829 \nL 237.018734 170.950053 \nL 237.223417 179.210622 \nL 237.4281 180.309473 \nL 237.632783 171.803017 \nL 237.837466 176.623939 \nL 238.042149 173.76504 \nL 238.451515 177.708692 \nL 238.656198 172.728649 \nL 238.860881 174.444006 \nL 239.065564 173.368994 \nL 239.270247 169.289374 \nL 239.47493 167.791459 \nL 239.679613 175.826463 \nL 239.884296 174.528998 \nL 240.293662 179.378986 \nL 240.703029 175.656543 \nL 241.112395 183.751735 \nL 241.317078 175.794191 \nL 241.521761 180.899651 \nL 241.726444 177.438779 \nL 241.931127 166.05332 \nL 242.13581 166.047127 \nL 242.340493 167.288824 \nL 242.545176 161.259381 \nL 242.749859 161.020994 \nL 242.954542 163.326842 \nL 243.159225 167.503154 \nL 243.363908 166.496234 \nL 243.568591 167.735192 \nL 243.773274 166.442395 \nL 243.977957 168.435166 \nL 244.18264 180.725405 \nL 244.387323 183.365399 \nL 244.592006 177.768849 \nL 244.796689 176.729283 \nL 245.001372 179.011914 \nL 245.206055 188.150189 \nL 245.410738 188.075467 \nL 245.615421 187.138974 \nL 245.820104 184.834061 \nL 246.024787 187.254309 \nL 246.22947 181.289784 \nL 246.434153 182.918221 \nL 246.843519 190.067304 \nL 247.252885 198.689997 \nL 247.457568 197.663316 \nL 247.866934 203.415377 \nL 248.071617 199.347335 \nL 248.480983 195.803432 \nL 248.685666 190.8523 \nL 248.890349 188.62161 \nL 249.095032 190.442094 \nL 249.299715 187.971959 \nL 249.504398 190.424853 \nL 249.709081 190.03192 \nL 250.118447 183.265531 \nL 250.32313 185.471699 \nL 250.527813 189.241571 \nL 250.732496 186.006699 \nL 250.937179 187.084264 \nL 251.141862 189.207431 \nL 251.346545 189.343866 \nL 251.755911 197.461029 \nL 251.960594 196.513831 \nL 252.165277 189.411865 \nL 252.36996 190.112243 \nL 252.574643 193.288202 \nL 252.779326 198.214468 \nL 252.984009 199.822334 \nL 253.393375 187.495621 \nL 253.598058 188.431927 \nL 253.802741 191.656342 \nL 254.007424 186.757805 \nL 254.212107 185.074003 \nL 254.621473 195.680473 \nL 254.826156 195.738233 \nL 255.030839 196.114393 \nL 255.235522 197.73035 \nL 255.440205 202.732023 \nL 255.644888 200.779616 \nL 255.849571 202.506956 \nL 256.054254 203.111605 \nL 256.258937 202.810665 \nL 256.46362 204.910523 \nL 256.668303 205.491583 \nL 256.872986 212.637803 \nL 257.077669 213.830344 \nL 257.282352 217.021926 \nL 257.691718 216.050624 \nL 257.896401 218.347991 \nL 258.101084 217.299089 \nL 258.51045 212.649629 \nL 258.919816 215.312356 \nL 259.124499 209.489386 \nL 259.329182 208.612365 \nL 259.533865 209.174472 \nL 259.738548 212.308465 \nL 260.147915 221.727793 \nL 260.352598 220.796762 \nL 260.761964 212.190065 \nL 260.966647 201.57261 \nL 261.17133 201.242541 \nL 261.376013 199.811131 \nL 261.785379 201.977525 \nL 261.990062 200.196346 \nL 262.194745 200.52654 \nL 262.399428 204.029675 \nL 262.604111 200.655972 \nL 262.808794 193.105771 \nL 263.013477 191.747464 \nL 263.422843 186.563454 \nL 263.627526 188.185667 \nL 263.832209 183.464363 \nL 264.036892 188.45533 \nL 264.446258 181.656078 \nL 264.855624 177.069436 \nL 265.060307 171.935997 \nL 265.26499 173.321348 \nL 265.674356 167.533497 \nL 265.879039 174.878487 \nL 266.493088 166.248729 \nL 266.697771 167.803907 \nL 266.902454 162.105218 \nL 267.31182 158.913169 \nL 267.721186 168.802487 \nL 268.130552 168.537491 \nL 268.335235 164.236353 \nL 268.539918 168.506121 \nL 268.744601 166.437011 \nL 268.949284 162.500984 \nL 269.153967 162.41954 \nL 269.35865 160.012051 \nL 269.563333 173.483582 \nL 269.768016 173.541031 \nL 269.972699 166.289653 \nL 270.177382 166.606932 \nL 270.382065 170.010728 \nL 270.791431 165.405195 \nL 271.200797 175.48351 \nL 271.40548 176.569352 \nL 271.610163 179.638318 \nL 272.224212 170.767528 \nL 272.428895 170.598354 \nL 272.838261 165.025674 \nL 273.042944 170.617525 \nL 273.45231 167.320007 \nL 273.861676 172.131406 \nL 274.066359 176.145204 \nL 274.680408 169.253243 \nL 274.885091 163.624203 \nL 275.089774 161.482643 \nL 275.294457 160.513784 \nL 275.49914 158.908563 \nL 275.703823 161.330741 \nL 275.908506 160.160467 \nL 276.113189 160.658715 \nL 276.317872 159.219524 \nL 276.522555 159.608786 \nL 276.931921 158.381965 \nL 277.54597 164.16048 \nL 277.750653 164.320877 \nL 277.955336 165.694402 \nL 278.364702 156.470918 \nL 278.774068 158.649263 \nL 278.978751 157.062528 \nL 279.388117 178.061791 \nL 279.5928 179.584261 \nL 280.002167 163.405111 \nL 280.20685 161.096213 \nL 280.616216 164.164556 \nL 280.820899 160.2974 \nL 281.025582 159.185447 \nL 281.230265 154.072766 \nL 281.434948 152.725383 \nL 281.639631 150.584227 \nL 281.844314 143.307953 \nL 282.048997 147.408641 \nL 282.25368 144.612389 \nL 282.458363 147.304293 \nL 282.663046 143.603198 \nL 283.277095 139.890246 \nL 283.481778 139.770274 \nL 283.891144 142.724528 \nL 284.095827 144.09186 \nL 284.30051 143.729269 \nL 284.505193 143.911607 \nL 284.709876 144.372322 \nL 284.914559 143.586859 \nL 285.119242 139.671963 \nL 285.528608 140.595198 \nL 285.733291 140.29958 \nL 285.937974 134.641971 \nL 286.142657 139.877953 \nL 286.34734 140.265814 \nL 286.552023 141.442467 \nL 286.756706 144.78508 \nL 286.961389 142.276136 \nL 287.166072 145.371897 \nL 287.370755 145.878671 \nL 287.575438 142.685004 \nL 287.780121 147.244603 \nL 287.984804 147.471941 \nL 288.189487 145.819261 \nL 288.39417 145.761158 \nL 288.598853 146.530874 \nL 288.803536 148.613553 \nL 289.212902 145.392873 \nL 289.417585 145.257558 \nL 289.622268 142.333337 \nL 289.826951 144.731085 \nL 290.031634 151.551157 \nL 290.236317 149.287229 \nL 290.441 151.637704 \nL 290.645683 157.072487 \nL 290.850366 155.166731 \nL 291.055049 156.831486 \nL 291.259732 154.696711 \nL 291.464415 155.119116 \nL 291.669098 156.94237 \nL 291.873781 152.199967 \nL 292.283147 158.653185 \nL 292.692513 149.804958 \nL 292.897196 135.240458 \nL 293.101879 147.528208 \nL 293.511245 150.963717 \nL 293.715928 151.335519 \nL 294.125294 153.842315 \nL 294.329977 149.468322 \nL 294.739343 158.899787 \nL 294.944026 159.159087 \nL 295.353392 153.919464 \nL 295.558075 163.791447 \nL 295.967441 160.51089 \nL 296.172124 164.926834 \nL 296.376807 163.509522 \nL 296.58149 165.292474 \nL 296.786173 160.812981 \nL 296.990856 159.336664 \nL 297.195539 160.228778 \nL 297.400222 158.101752 \nL 297.604905 160.615954 \nL 297.809588 160.822816 \nL 298.218954 159.522051 \nL 298.423637 154.689397 \nL 298.62832 155.648764 \nL 298.833003 155.008076 \nL 299.037686 143.646082 \nL 299.242369 143.169962 \nL 299.651735 149.524651 \nL 299.856419 147.269562 \nL 300.265785 145.174746 \nL 300.470468 140.523029 \nL 300.879834 141.509595 \nL 301.2892 137.012799 \nL 301.493883 137.520102 \nL 301.698566 138.962124 \nL 301.903249 145.415311 \nL 302.107932 145.569951 \nL 302.312615 145.131301 \nL 302.517298 146.287694 \nL 302.721981 137.224515 \nL 302.926664 133.765106 \nL 303.131347 132.489052 \nL 303.33603 133.783156 \nL 303.540713 124.965179 \nL 303.745396 125.296679 \nL 303.950079 123.504639 \nL 304.154762 130.188744 \nL 304.359445 131.65837 \nL 304.564128 130.420999 \nL 304.768811 130.41518 \nL 304.973494 129.081739 \nL 305.178177 130.312107 \nL 305.38286 128.368446 \nL 305.587543 130.627705 \nL 305.792226 130.42408 \nL 305.996909 132.62533 \nL 306.201592 131.241971 \nL 306.406275 126.226512 \nL 306.610958 129.219978 \nL 306.815641 127.226368 \nL 307.020324 127.488811 \nL 307.225007 132.11784 \nL 307.42969 130.65699 \nL 307.634373 132.504145 \nL 307.839056 129.749035 \nL 308.043739 129.421642 \nL 308.248422 127.767157 \nL 308.453105 131.441177 \nL 308.657788 129.238153 \nL 309.271837 106.580422 \nL 309.47652 106.841963 \nL 309.681203 105.927815 \nL 309.885886 113.651298 \nL 310.295252 116.778148 \nL 310.499935 115.657917 \nL 310.704618 111.342307 \nL 310.909301 113.924883 \nL 311.113984 108.231982 \nL 311.318667 111.01479 \nL 311.52335 108.484 \nL 311.728033 107.86519 \nL 311.932716 104.19671 \nL 312.137399 103.873487 \nL 312.546765 97.515189 \nL 312.956131 105.058139 \nL 313.160814 100.678326 \nL 313.365497 100.244344 \nL 313.57018 100.682932 \nL 313.774863 103.503988 \nL 314.184229 99.347063 \nL 314.388912 101.192632 \nL 314.593595 99.108272 \nL 314.798278 99.92358 \nL 315.002961 99.764147 \nL 315.207644 102.765922 \nL 315.412327 111.260459 \nL 315.61701 105.878488 \nL 316.026376 110.88125 \nL 316.231059 112.918648 \nL 316.435742 109.259099 \nL 316.640425 109.936354 \nL 316.845108 111.503638 \nL 317.254474 116.791748 \nL 317.459157 114.424157 \nL 317.868523 116.651517 \nL 318.073206 116.118757 \nL 318.277889 116.473785 \nL 318.482572 114.322578 \nL 318.687255 113.395421 \nL 318.891938 114.437663 \nL 319.096621 113.931262 \nL 319.301304 112.87374 \nL 319.505987 118.347051 \nL 319.710671 119.219839 \nL 319.915354 121.330651 \nL 320.120037 124.774749 \nL 320.32472 124.128864 \nL 320.529403 121.027315 \nL 320.734086 121.620045 \nL 320.938769 121.401607 \nL 321.143452 136.824548 \nL 321.757501 144.359842 \nL 321.962184 143.852788 \nL 322.166867 144.367716 \nL 322.37155 145.886732 \nL 322.576233 145.984358 \nL 322.780916 146.665317 \nL 322.985599 148.504411 \nL 323.190282 146.892873 \nL 323.394965 148.404202 \nL 324.009014 160.921282 \nL 324.213697 162.177045 \nL 324.41838 165.887259 \nL 324.827746 162.79626 \nL 325.032429 158.109812 \nL 325.237112 160.861219 \nL 325.441795 166.108467 \nL 325.646478 161.768116 \nL 325.851161 161.157024 \nL 326.055844 159.224566 \nL 326.260527 162.391531 \nL 326.46521 159.452994 \nL 326.669893 161.313874 \nL 326.874576 161.04225 \nL 327.079259 161.273572 \nL 327.283942 162.418824 \nL 327.488625 162.067873 \nL 327.897991 159.812161 \nL 328.102674 161.318448 \nL 328.307357 161.908316 \nL 328.51204 157.647945 \nL 328.716723 150.558864 \nL 328.921406 156.500763 \nL 329.126089 157.678849 \nL 329.330772 156.420596 \nL 329.535455 157.09673 \nL 329.740138 155.736836 \nL 329.944821 155.656762 \nL 330.149504 158.417941 \nL 330.354187 158.65001 \nL 330.55887 157.834453 \nL 330.763553 154.690455 \nL 330.968236 155.704751 \nL 331.172919 155.620164 \nL 331.582285 159.318333 \nL 331.786968 154.167343 \nL 332.196334 160.825399 \nL 332.401017 160.444695 \nL 332.6057 158.654492 \nL 332.810383 160.552748 \nL 333.015066 158.50897 \nL 333.219749 158.472372 \nL 333.424432 158.016854 \nL 333.629115 160.153216 \nL 333.833798 157.981874 \nL 334.038481 167.277807 \nL 334.243164 171.137463 \nL 334.65253 174.598896 \nL 334.857213 172.940458 \nL 335.061896 176.750725 \nL 335.266579 178.100007 \nL 335.471262 177.999268 \nL 335.675945 176.143897 \nL 335.880628 177.034051 \nL 336.085311 175.695662 \nL 336.289994 176.238785 \nL 336.69936 181.739109 \nL 336.904043 182.963938 \nL 337.108726 181.78078 \nL 337.313409 182.680301 \nL 337.518092 181.011874 \nL 337.722775 183.27493 \nL 337.927458 181.616212 \nL 338.132141 183.722263 \nL 338.336824 188.096816 \nL 338.541507 187.487343 \nL 339.155556 178.801412 \nL 339.360239 177.71143 \nL 339.564923 180.118608 \nL 339.769606 180.972163 \nL 339.974289 181.027403 \nL 340.178972 179.974798 \nL 340.383655 177.1384 \nL 340.997704 180.280811 \nL 341.202387 183.636525 \nL 341.611753 174.653544 \nL 341.816436 173.447575 \nL 342.021119 173.530481 \nL 342.225802 176.82193 \nL 342.430485 176.061676 \nL 342.635168 177.405044 \nL 343.044534 174.986601 \nL 343.249217 177.000596 \nL 343.658583 171.86613 \nL 344.067949 176.860396 \nL 344.272632 175.962649 \nL 344.477315 173.154508 \nL 344.681998 171.97577 \nL 344.886681 173.671054 \nL 345.091364 171.543188 \nL 345.296047 172.830227 \nL 345.705413 167.974108 \nL 346.319462 171.69789 \nL 346.728828 172.782052 \nL 346.933511 148.118324 \nL 347.342877 143.137161 \nL 347.54756 143.446659 \nL 347.956926 157.972382 \nL 348.366292 160.191526 \nL 348.980341 156.903874 \nL 349.389707 162.449167 \nL 349.59439 165.663872 \nL 350.003756 165.144027 \nL 350.208439 161.887091 \nL 350.617805 170.493321 \nL 350.822488 169.21957 \nL 351.027171 171.084247 \nL 351.64122 164.060799 \nL 351.845903 161.743281 \nL 352.255269 162.935308 \nL 352.869318 160.321301 \nL 352.869318 160.321301 \n\" style=\"fill:none;stroke:#1f77b4;stroke-linecap:square;stroke-width:1.5;\"/>\n   </g>\n   <g id=\"line2d_16\">\n    <path clip-path=\"url(#p8b6b3bc3e2)\" d=\"M 48.505682 90.634733 \nL 48.915048 94.55066 \nL 49.119731 95.407269 \nL 49.324414 99.873873 \nL 49.529097 97.773142 \nL 49.73378 102.872005 \nL 49.938463 100.567319 \nL 50.143146 105.421436 \nL 50.347829 103.626637 \nL 50.552512 104.707596 \nL 50.757195 100.710087 \nL 51.166561 88.22807 \nL 51.371244 86.759597 \nL 51.575927 81.252825 \nL 51.78061 80.314634 \nL 51.985293 83.945025 \nL 52.189976 85.209543 \nL 52.394659 77.663225 \nL 52.599342 77.41848 \nL 52.804025 78.417857 \nL 53.008708 77.989553 \nL 53.213391 78.907348 \nL 53.418074 78.968534 \nL 53.82744 77.785598 \nL 54.032123 80.375821 \nL 54.236806 77.214525 \nL 54.441489 80.375821 \nL 55.260221 76.357916 \nL 55.464904 77.785598 \nL 55.669587 76.07238 \nL 55.87427 66.874031 \nL 56.078953 70.137303 \nL 56.283636 68.158944 \nL 56.488319 67.934594 \nL 56.693002 69.219508 \nL 56.897685 69.484649 \nL 57.307051 65.323976 \nL 57.511734 67.465499 \nL 58.125783 61.67319 \nL 58.330466 60.06195 \nL 58.944515 49.231964 \nL 59.353881 53.902523 \nL 59.763247 55.411787 \nL 59.96793 51.557046 \nL 60.172613 50.414901 \nL 60.377296 46.315415 \nL 60.786662 51.149137 \nL 60.991345 45.744342 \nL 61.400711 44.581801 \nL 61.605394 50.883996 \nL 62.014761 54.595968 \nL 62.219444 53.494614 \nL 62.62881 57.859241 \nL 62.833493 54.759132 \nL 63.038176 53.902523 \nL 63.242859 54.249246 \nL 63.652225 63.508781 \nL 63.856908 63.91669 \nL 64.061591 67.873408 \nL 64.266274 65.48714 \nL 64.880323 50.37411 \nL 65.085006 49.884619 \nL 65.289689 48.926033 \nL 65.494372 49.354337 \nL 65.699055 46.702928 \nL 66.313104 58.593477 \nL 66.517787 63.590363 \nL 66.72247 61.530422 \nL 66.927153 63.651549 \nL 67.131836 63.733131 \nL 67.336519 64.712113 \nL 67.541202 64.752904 \nL 67.745885 64.243018 \nL 67.950568 66.058213 \nL 68.155251 71.76894 \nL 68.359934 67.567476 \nL 68.564617 72.686735 \nL 68.7693 71.748544 \nL 68.973983 73.543344 \nL 69.178666 73.318994 \nL 69.383349 74.175603 \nL 69.588032 75.603285 \nL 69.792715 83.720675 \nL 69.997398 87.351065 \nL 70.202081 88.207674 \nL 70.406764 82.374575 \nL 70.611447 73.196621 \nL 70.81613 76.398707 \nL 71.020813 70.504421 \nL 71.225496 79.600793 \nL 71.430179 75.073003 \nL 71.634862 77.846784 \nL 72.044228 68.526063 \nL 72.248911 65.956236 \nL 72.453594 66.221376 \nL 72.658277 65.466745 \nL 72.86296 76.07238 \nL 73.067643 78.907348 \nL 73.272326 76.74543 \nL 73.681692 81.45678 \nL 74.091058 70.993912 \nL 74.705107 75.970403 \nL 74.90979 82.415366 \nL 75.114473 83.353557 \nL 75.523839 95.692806 \nL 75.728522 97.304046 \nL 75.933205 92.98021 \nL 76.137888 92.674279 \nL 76.342571 95.89676 \nL 76.547254 77.030966 \nL 76.751937 75.62368 \nL 76.95662 84.41412 \nL 77.161303 82.089039 \nL 77.365986 83.333161 \nL 77.775352 73.563739 \nL 77.980035 71.075494 \nL 78.184718 70.708376 \nL 78.389401 69.770185 \nL 78.594084 75.562494 \nL 79.00345 66.099004 \nL 79.208133 64.732508 \nL 79.412816 67.098381 \nL 79.617499 66.38454 \nL 79.822182 67.914199 \nL 80.026865 65.854258 \nL 80.436231 65.813467 \nL 80.640914 66.078608 \nL 80.845597 61.367259 \nL 81.05028 62.162681 \nL 81.254963 61.550818 \nL 81.869013 73.849276 \nL 82.073696 67.73064 \nL 82.278379 72.625549 \nL 82.892428 75.17498 \nL 83.097111 70.484026 \nL 83.301794 74.971026 \nL 83.506477 71.197867 \nL 83.71116 65.364767 \nL 83.915843 64.81409 \nL 84.120526 62.448218 \nL 84.325209 56.390768 \nL 84.529892 54.636759 \nL 84.734575 50.843205 \nL 84.939258 52.250491 \nL 85.348624 48.171401 \nL 85.553307 51.638628 \nL 85.75799 48.558914 \nL 85.962673 53.33145 \nL 86.167356 52.148514 \nL 86.576722 54.657155 \nL 86.781405 52.026141 \nL 87.190771 41.216551 \nL 87.395454 43.296888 \nL 87.600137 42.603442 \nL 87.80482 40.829038 \nL 88.009503 43.133724 \nL 88.214186 43.276492 \nL 88.623552 50.170155 \nL 88.828235 52.066932 \nL 89.032918 45.458806 \nL 89.237601 43.296888 \nL 89.442284 61.102118 \nL 89.646967 63.753527 \nL 89.85165 73.176226 \nL 90.056333 76.398707 \nL 90.261016 76.765825 \nL 90.670382 81.089661 \nL 90.875065 80.926498 \nL 91.079748 74.175603 \nL 91.284431 74.420348 \nL 91.489114 68.607644 \nL 91.693797 79.152093 \nL 91.89848 73.237412 \nL 92.512529 84.271352 \nL 92.717212 83.904234 \nL 92.921895 87.249088 \nL 93.126578 85.719429 \nL 93.331261 92.470324 \nL 93.535944 91.450551 \nL 93.94531 84.210166 \nL 94.149993 85.393102 \nL 94.559359 78.968534 \nL 94.764042 79.723166 \nL 94.968725 81.966666 \nL 95.173408 78.356671 \nL 95.99214 85.98457 \nL 96.196823 85.658243 \nL 96.401506 83.679884 \nL 96.810872 77.479666 \nL 97.015555 74.583512 \nL 97.220238 79.519212 \nL 97.424921 80.518589 \nL 97.629604 80.375821 \nL 98.03897 72.829503 \nL 98.448336 77.64283 \nL 98.653019 77.744807 \nL 99.062385 80.844916 \nL 99.267068 81.701525 \nL 99.471751 85.53587 \nL 99.676434 75.62368 \nL 99.881117 72.401199 \nL 100.290483 77.030966 \nL 100.495166 78.009948 \nL 100.699849 76.867803 \nL 100.904532 78.560625 \nL 101.109215 75.501307 \nL 101.518581 81.293616 \nL 101.723265 79.88633 \nL 101.927948 76.113171 \nL 102.132631 75.746053 \nL 102.337314 75.073003 \nL 102.541997 56.431559 \nL 103.156046 53.678173 \nL 103.770095 56.798677 \nL 103.974778 54.086082 \nL 104.179461 55.024273 \nL 104.384144 54.779527 \nL 104.588827 62.774545 \nL 104.79351 62.30545 \nL 104.998193 63.631154 \nL 105.202876 61.571213 \nL 105.407559 63.549572 \nL 105.612242 62.244263 \nL 105.816925 64.120645 \nL 106.021608 63.610758 \nL 106.226291 62.34624 \nL 106.430974 62.30545 \nL 106.635657 66.364145 \nL 106.84034 65.140417 \nL 107.045023 60.163927 \nL 107.249706 66.364145 \nL 107.454389 65.833863 \nL 107.659072 59.123759 \nL 107.863755 62.244263 \nL 108.068438 58.287545 \nL 108.273121 51.618232 \nL 109.091853 43.092933 \nL 109.296536 44.398242 \nL 109.501219 42.766606 \nL 109.705902 38.789493 \nL 109.910585 32.201761 \nL 110.115268 37.259834 \nL 110.524634 33.466279 \nL 110.729317 37.137461 \nL 110.934 38.66712 \nL 111.138683 37.99407 \nL 111.752732 43.521238 \nL 111.957415 37.463788 \nL 112.162098 37.219043 \nL 112.366781 34.363679 \nL 112.571464 37.524975 \nL 112.776147 45.010106 \nL 112.98083 45.071292 \nL 113.185513 44.071915 \nL 113.390196 39.380961 \nL 113.594879 40.115197 \nL 114.004245 42.277115 \nL 114.208928 41.461297 \nL 114.618294 42.950165 \nL 114.822977 72.25843 \nL 115.02766 81.619943 \nL 115.232343 85.454288 \nL 115.437026 79.560002 \nL 115.641709 78.479043 \nL 115.846392 75.480912 \nL 116.051075 74.216394 \nL 116.460441 59.756018 \nL 116.665124 63.325222 \nL 116.869807 55.534159 \nL 117.07449 55.840091 \nL 117.279173 57.838845 \nL 117.483856 57.573704 \nL 117.688539 54.0045 \nL 117.893222 56.6967 \nL 118.097905 55.044668 \nL 118.302588 59.307318 \nL 118.507271 58.980991 \nL 119.12132 47.212815 \nL 119.326003 48.80366 \nL 119.530686 46.233833 \nL 119.735369 52.39326 \nL 119.940052 54.0045 \nL 120.144735 48.395751 \nL 120.349418 50.883996 \nL 120.554101 49.354337 \nL 120.758784 46.050274 \nL 120.963467 46.743719 \nL 121.16815 46.029878 \nL 121.577517 56.982236 \nL 121.986883 49.354337 \nL 122.191566 57.104609 \nL 122.396249 54.208455 \nL 122.600932 61.510027 \nL 122.805615 55.472973 \nL 123.214981 57.410541 \nL 123.419664 54.514387 \nL 124.033713 75.827635 \nL 124.443079 71.789335 \nL 124.647762 71.626171 \nL 124.852445 80.437007 \nL 125.057128 79.580398 \nL 125.261811 82.374575 \nL 125.466494 81.966666 \nL 125.671177 74.807862 \nL 125.87586 72.543967 \nL 126.080543 80.131075 \nL 126.285226 80.885707 \nL 126.489909 76.255939 \nL 126.899275 79.029721 \nL 127.103958 75.725657 \nL 127.308641 74.338767 \nL 127.513324 67.098381 \nL 127.718007 67.832617 \nL 127.92269 77.030966 \nL 128.127373 75.378935 \nL 128.332056 71.830126 \nL 128.946105 70.035326 \nL 129.150788 69.708999 \nL 129.355471 74.807862 \nL 129.560154 70.402444 \nL 129.764837 72.747921 \nL 129.96952 73.441367 \nL 130.378886 84.781238 \nL 130.583569 85.08717 \nL 130.992935 90.145242 \nL 131.197618 84.903611 \nL 131.402301 86.861575 \nL 131.606984 91.654506 \nL 131.811667 93.061792 \nL 132.01635 93.551283 \nL 132.221033 95.44806 \nL 132.425716 94.836197 \nL 132.630399 92.837442 \nL 132.835082 93.469701 \nL 133.039765 93.612469 \nL 133.449131 98.894892 \nL 133.653814 100.363364 \nL 134.06318 96.957324 \nL 134.267863 97.059301 \nL 134.472546 97.528396 \nL 134.677229 94.876987 \nL 134.881912 96.855346 \nL 135.086595 89.676147 \nL 135.291278 90.430779 \nL 135.495961 82.007457 \nL 135.700644 81.49757 \nL 135.905327 76.419103 \nL 136.11001 76.990175 \nL 136.314693 78.662603 \nL 136.519376 75.440121 \nL 136.724059 75.888821 \nL 136.928742 83.843048 \nL 137.133425 82.068643 \nL 137.338108 83.679884 \nL 137.542791 83.761466 \nL 137.747474 86.270106 \nL 137.952157 93.021001 \nL 138.15684 93.469701 \nL 138.361523 93.061792 \nL 138.770889 95.855969 \nL 138.975572 100.587714 \nL 139.180255 100.506132 \nL 139.384938 105.645786 \nL 139.794304 93.65326 \nL 139.998987 93.326933 \nL 140.20367 92.653883 \nL 140.408353 93.306538 \nL 140.613036 116.924472 \nL 140.817719 114.966508 \nL 141.022402 115.741535 \nL 141.227085 117.923849 \nL 141.841135 107.562959 \nL 142.045818 110.397927 \nL 142.250501 109.214991 \nL 142.455184 100.914041 \nL 142.659867 105.074714 \nL 143.069233 104.564827 \nL 143.273916 105.299064 \nL 143.478599 108.623523 \nL 143.683282 105.176691 \nL 143.887965 106.747141 \nL 144.092648 103.973359 \nL 144.297331 99.200823 \nL 144.502014 99.731105 \nL 144.706697 103.381891 \nL 145.116063 97.181674 \nL 145.525429 93.714447 \nL 145.730112 93.061792 \nL 145.934795 97.222464 \nL 146.344161 107.073468 \nL 146.548844 108.786686 \nL 146.753527 105.972114 \nL 146.95821 105.462227 \nL 147.367576 113.803967 \nL 147.981625 108.460359 \nL 148.186308 110.724254 \nL 148.390991 110.479509 \nL 148.800357 117.577126 \nL 149.00504 118.556108 \nL 149.209723 109.745272 \nL 149.414406 111.601259 \nL 150.437821 97.100092 \nL 150.642504 92.449929 \nL 150.847187 93.510492 \nL 151.256553 89.655752 \nL 151.461236 92.470324 \nL 151.665919 89.778124 \nL 151.870602 91.328179 \nL 152.075285 85.331916 \nL 152.279968 85.964175 \nL 152.484651 87.412252 \nL 152.894017 94.040774 \nL 153.0987 92.490719 \nL 153.303383 89.003097 \nL 153.508066 87.962929 \nL 153.712749 83.496325 \nL 153.917432 101.750255 \nL 154.122115 101.444323 \nL 154.326798 101.811441 \nL 154.940847 112.559845 \nL 155.14553 110.132786 \nL 155.350213 112.294704 \nL 155.554896 112.478263 \nL 155.964262 120.289721 \nL 156.578311 110.540695 \nL 156.782994 110.867022 \nL 156.987677 105.339855 \nL 157.19236 107.991263 \nL 157.601726 97.875119 \nL 157.806409 98.772519 \nL 158.011092 98.323819 \nL 158.215775 95.692806 \nL 158.420458 98.609355 \nL 158.829824 96.325065 \nL 159.034507 96.549415 \nL 159.23919 93.388119 \nL 159.443873 97.569187 \nL 159.648556 92.511115 \nL 160.262605 87.33067 \nL 160.467288 88.962306 \nL 160.671971 89.247842 \nL 160.876654 92.103206 \nL 161.081338 91.287388 \nL 161.490704 98.935682 \nL 161.695387 92.143997 \nL 161.90007 92.939419 \nL 162.104753 95.244106 \nL 162.309436 87.024738 \nL 162.514119 89.207052 \nL 162.718802 86.494456 \nL 162.923485 73.808485 \nL 163.332851 84.087793 \nL 163.9469 75.317748 \nL 164.151583 77.438875 \nL 164.356266 77.602039 \nL 164.560949 80.457402 \nL 164.765632 76.031589 \nL 164.970315 76.051985 \nL 165.174998 71.605776 \nL 165.379681 73.686112 \nL 165.584364 71.238658 \nL 165.789047 71.76894 \nL 165.99373 67.547081 \nL 166.198413 89.57417 \nL 166.607779 79.865934 \nL 166.812462 80.314634 \nL 167.017145 79.43763 \nL 167.221828 82.864066 \nL 167.426511 81.640339 \nL 167.631194 76.643453 \nL 167.835877 75.032212 \nL 168.04056 71.09589 \nL 168.449926 81.823898 \nL 168.654609 82.068643 \nL 168.859292 85.31152 \nL 169.268658 86.045756 \nL 169.678024 78.275089 \nL 169.882707 80.069889 \nL 170.292073 91.572924 \nL 170.496756 90.879479 \nL 170.906122 92.429533 \nL 171.110805 91.205806 \nL 171.315488 92.449929 \nL 171.520171 94.571056 \nL 171.724854 95.22371 \nL 171.929537 96.936928 \nL 172.13422 97.46721 \nL 172.543586 93.041397 \nL 172.748269 94.754615 \nL 172.952952 94.856592 \nL 173.157635 91.165015 \nL 173.362318 91.674901 \nL 173.567001 91.715692 \nL 173.771684 96.998114 \nL 173.976367 99.302801 \nL 174.18105 100.281782 \nL 174.385733 99.465964 \nL 174.590416 100.485737 \nL 174.795099 100.200201 \nL 174.999782 95.957946 \nL 175.204465 99.078451 \nL 175.818514 103.850987 \nL 176.023197 102.586469 \nL 176.22788 104.829968 \nL 176.432563 101.648278 \nL 176.637246 100.893646 \nL 176.841929 91.430156 \nL 177.046612 87.249088 \nL 177.251295 88.839933 \nL 177.660661 88.697165 \nL 177.865344 91.226201 \nL 178.27471 86.922761 \nL 178.479393 84.903611 \nL 178.684076 79.396839 \nL 178.888759 79.152093 \nL 179.093442 79.967912 \nL 179.298125 81.314011 \nL 179.502808 80.722543 \nL 179.707491 75.582889 \nL 179.912174 75.909216 \nL 180.116857 73.15583 \nL 180.32154 75.195376 \nL 180.526223 73.15583 \nL 180.730906 73.359785 \nL 181.344956 85.291125 \nL 181.549639 86.514852 \nL 181.754322 93.42891 \nL 181.959005 90.818292 \nL 182.163688 95.386874 \nL 182.368371 88.432024 \nL 182.573054 89.166261 \nL 182.777737 88.044511 \nL 182.98242 88.921515 \nL 183.391786 87.840556 \nL 183.596469 83.883838 \nL 183.801152 84.250957 \nL 184.005835 82.129829 \nL 184.210518 82.39497 \nL 184.415201 81.130452 \nL 184.619884 81.885084 \nL 184.824567 77.785598 \nL 185.02925 80.967289 \nL 185.438616 78.499439 \nL 185.643299 79.090907 \nL 185.847982 80.518589 \nL 186.052665 82.884461 \nL 186.257348 82.435761 \nL 186.666714 83.720675 \nL 186.871397 81.762711 \nL 187.07608 80.967289 \nL 187.280763 81.069266 \nL 187.485446 81.415989 \nL 187.690129 77.398084 \nL 187.894812 78.275089 \nL 188.099495 74.705885 \nL 188.508861 78.356671 \nL 188.713544 81.925875 \nL 188.918227 79.784352 \nL 189.12291 86.147734 \nL 189.327593 87.004343 \nL 189.532276 84.699657 \nL 189.736959 84.148979 \nL 189.941642 88.737956 \nL 190.146325 87.820161 \nL 190.351008 84.597679 \nL 190.760374 92.184788 \nL 190.965057 85.76022 \nL 191.16974 92.409138 \nL 191.374423 93.163769 \nL 191.579106 94.387497 \nL 191.988472 104.768782 \nL 192.193155 101.831837 \nL 192.397838 131.201289 \nL 192.602521 132.098689 \nL 192.807204 140.236474 \nL 193.011887 140.827942 \nL 193.21657 140.868733 \nL 193.421253 141.072688 \nL 193.625936 141.072688 \nL 193.830619 136.320547 \nL 194.035302 138.01337 \nL 194.239985 133.97507 \nL 194.444668 136.483711 \nL 194.649351 136.300152 \nL 195.058717 142.54116 \nL 195.2634 142.255624 \nL 195.468083 141.276642 \nL 195.672766 137.605461 \nL 195.877449 140.501615 \nL 196.082132 141.072688 \nL 196.286815 140.868733 \nL 196.491498 136.66727 \nL 196.696181 135.504729 \nL 196.900864 140.97071 \nL 197.105547 143.21421 \nL 197.31023 141.41941 \nL 197.514913 142.010879 \nL 197.719596 139.746983 \nL 197.924279 141.215456 \nL 198.128962 139.543029 \nL 198.333645 141.806924 \nL 198.538328 140.114101 \nL 198.743011 140.114101 \nL 198.947694 136.973202 \nL 199.35706 138.441674 \nL 199.561743 143.43856 \nL 199.766426 139.012747 \nL 199.971109 143.479351 \nL 200.175792 144.641892 \nL 200.585158 161.406954 \nL 200.789842 162.447122 \nL 200.994525 158.245659 \nL 201.199208 150.271037 \nL 201.403891 148.557819 \nL 201.608574 140.603592 \nL 201.813257 139.277888 \nL 202.01794 140.52201 \nL 202.222623 141.072688 \nL 202.427306 145.110987 \nL 202.631989 144.315565 \nL 202.836672 142.479974 \nL 203.041355 142.561556 \nL 203.655404 152.820468 \nL 203.860087 148.37426 \nL 204.06477 147.191324 \nL 204.474136 155.635041 \nL 204.678819 151.902673 \nL 204.883502 157.756168 \nL 205.088185 151.882278 \nL 205.292868 159.367409 \nL 205.497551 161.590513 \nL 205.906917 148.700587 \nL 206.1116 155.471877 \nL 206.316283 157.38905 \nL 206.520966 162.732658 \nL 206.725649 157.572609 \nL 206.930332 157.38905 \nL 207.135015 155.859391 \nL 207.339698 150.84211 \nL 207.749064 150.576969 \nL 207.953747 153.309959 \nL 208.363113 149.72036 \nL 208.567796 147.762396 \nL 208.772479 147.640023 \nL 208.977162 145.661665 \nL 209.181845 141.358224 \nL 209.386528 140.97071 \nL 209.591211 137.727833 \nL 209.795894 136.524502 \nL 210.000577 140.073311 \nL 210.20526 135.076425 \nL 210.409943 137.523879 \nL 210.614626 143.010256 \nL 210.819309 141.725342 \nL 211.023992 144.601101 \nL 211.228675 144.050424 \nL 211.433358 145.437315 \nL 211.638041 144.764265 \nL 211.842724 148.82296 \nL 212.047407 145.967596 \nL 212.25209 148.068328 \nL 212.456773 152.759282 \nL 212.661456 150.332223 \nL 212.866139 155.247527 \nL 213.275505 151.576346 \nL 213.480188 145.763642 \nL 213.889554 139.502238 \nL 214.094237 135.382356 \nL 214.29892 138.869979 \nL 214.503603 146.640646 \nL 214.708286 143.540537 \nL 214.912969 142.479974 \nL 215.117652 142.949069 \nL 215.527018 146.13076 \nL 215.731701 145.784037 \nL 215.936384 141.745738 \nL 216.141067 141.64376 \nL 216.34575 141.684551 \nL 216.550433 140.379242 \nL 216.959799 140.216079 \nL 217.164482 139.787774 \nL 217.369165 138.400883 \nL 217.573848 141.582574 \nL 217.778531 140.868733 \nL 217.983214 132.771738 \nL 218.187897 136.198175 \nL 218.39258 134.484957 \nL 218.597263 124.28723 \nL 218.801946 122.94113 \nL 219.006629 123.063503 \nL 219.211312 117.821872 \nL 219.415995 117.06724 \nL 219.620678 118.229781 \nL 219.825361 115.639558 \nL 220.234727 118.841644 \nL 220.43941 125.510957 \nL 220.644094 118.760062 \nL 220.848777 119.351531 \nL 221.05346 123.634576 \nL 221.258143 122.227289 \nL 221.462826 117.617917 \nL 221.667509 116.781704 \nL 222.076875 118.698876 \nL 222.281558 117.96464 \nL 222.486241 117.985035 \nL 222.690924 118.556108 \nL 223.10029 122.390453 \nL 223.304973 121.798985 \nL 223.509656 122.002939 \nL 223.919022 125.449771 \nL 224.123705 123.736553 \nL 224.737754 130.528239 \nL 224.942437 134.260607 \nL 225.14712 131.915129 \nL 225.351803 126.265589 \nL 225.556486 128.366321 \nL 225.761169 134.281002 \nL 226.170535 130.874961 \nL 226.375218 130.772984 \nL 226.579901 129.610443 \nL 226.784584 129.549257 \nL 227.19395 127.387339 \nL 227.398633 129.243325 \nL 227.807999 137.156761 \nL 228.012682 137.013993 \nL 228.217365 137.054784 \nL 228.422048 134.852075 \nL 228.626731 137.34032 \nL 228.831414 135.076425 \nL 229.036097 136.993597 \nL 229.24078 134.260607 \nL 229.445463 133.607952 \nL 229.854829 125.918866 \nL 230.059512 127.856434 \nL 230.468878 124.083276 \nL 230.673561 119.065994 \nL 230.878244 136.300152 \nL 231.28761 144.601101 \nL 231.492293 142.520765 \nL 231.696976 147.191324 \nL 231.901659 145.335337 \nL 232.106342 145.151778 \nL 232.311025 144.132006 \nL 232.515708 142.296415 \nL 232.720391 141.684551 \nL 232.925074 148.415051 \nL 233.129757 146.987369 \nL 233.539123 153.534309 \nL 233.743806 151.739509 \nL 233.948489 153.391541 \nL 234.153172 156.858768 \nL 234.357855 153.187587 \nL 234.562538 155.349505 \nL 234.971904 154.309336 \nL 235.176587 155.043573 \nL 235.585953 162.487913 \nL 235.790636 178.865462 \nL 235.995319 171.788239 \nL 236.200002 177.600943 \nL 236.404685 168.606549 \nL 236.814051 170.89084 \nL 237.018734 175.928516 \nL 237.223417 176.275239 \nL 237.4281 173.603435 \nL 237.632783 176.621962 \nL 237.837466 173.990948 \nL 238.042149 168.117058 \nL 238.246832 174.011344 \nL 238.451515 173.888971 \nL 238.656198 170.911235 \nL 238.860881 172.481685 \nL 239.065564 169.952649 \nL 239.270247 169.422367 \nL 239.47493 173.603435 \nL 240.088979 177.356198 \nL 240.293662 180.639866 \nL 240.498346 174.623207 \nL 240.703029 176.927894 \nL 240.907712 181.883989 \nL 241.317078 175.112698 \nL 241.521761 183.801161 \nL 241.931127 167.464403 \nL 242.13581 165.465649 \nL 242.340493 166.17949 \nL 242.545176 160.52995 \nL 242.749859 160.652322 \nL 243.159225 166.363049 \nL 243.363908 163.691245 \nL 243.773274 165.853163 \nL 243.977957 180.864216 \nL 244.18264 185.432797 \nL 244.387323 182.393875 \nL 244.592006 176.54038 \nL 244.796689 176.254844 \nL 245.001372 178.78388 \nL 245.206055 190.184938 \nL 245.410738 185.208447 \nL 245.820104 184.922911 \nL 246.024787 185.901893 \nL 246.22947 180.741843 \nL 246.434153 182.659016 \nL 246.638836 188.798047 \nL 246.843519 190.184938 \nL 247.048202 195.406174 \nL 247.252885 193.917306 \nL 247.866934 202.68735 \nL 248.071617 197.731255 \nL 248.2763 196.568714 \nL 248.890349 188.940815 \nL 249.095032 190.735615 \nL 249.299715 189.267142 \nL 249.504398 190.021774 \nL 249.709081 188.777652 \nL 250.118447 184.045906 \nL 250.32313 185.738729 \nL 250.527813 189.838215 \nL 250.732496 185.616356 \nL 251.141862 191.286292 \nL 251.346545 192.000133 \nL 251.551228 195.671315 \nL 251.755911 195.508151 \nL 252.165277 187.737483 \nL 252.36996 187.268388 \nL 252.574643 193.264651 \nL 252.779326 194.447587 \nL 252.984009 194.34561 \nL 253.188692 189.409911 \nL 253.393375 189.14477 \nL 253.598058 190.552056 \nL 253.802741 189.511888 \nL 254.007424 186.799293 \nL 254.212107 187.839461 \nL 254.41679 194.916683 \nL 254.621473 192.55081 \nL 254.826156 197.404928 \nL 255.235522 199.852382 \nL 255.440205 202.646559 \nL 255.644888 198.893796 \nL 255.849571 199.199728 \nL 256.258937 206.317741 \nL 256.46362 206.113786 \nL 256.668303 229.874489 \nL 257.077669 217.208913 \nL 257.282352 222.450544 \nL 257.487035 222.144612 \nL 257.691718 221.16563 \nL 257.896401 224.163762 \nL 258.305767 217.75959 \nL 258.51045 219.248458 \nL 258.715133 218.595803 \nL 258.919816 216.372699 \nL 259.124499 212.008072 \nL 259.329182 214.496317 \nL 259.533865 214.251572 \nL 259.738548 216.535863 \nL 259.943231 229.221834 \nL 260.147915 228.242852 \nL 260.557281 219.166876 \nL 260.761964 206.338136 \nL 261.17133 198.506282 \nL 261.376013 199.933964 \nL 261.580696 203.176841 \nL 261.990062 197.139787 \nL 262.194745 202.259046 \nL 262.399428 201.769555 \nL 262.604111 198.791819 \nL 262.808794 191.612619 \nL 263.013477 190.959965 \nL 263.21816 191.490247 \nL 263.422843 186.534152 \nL 263.627526 187.34997 \nL 263.832209 183.413647 \nL 264.241575 181.843198 \nL 264.446258 182.393875 \nL 264.650941 180.599075 \nL 265.060307 170.850049 \nL 265.26499 171.054003 \nL 265.469673 169.503949 \nL 265.674356 169.626321 \nL 265.879039 175.785748 \nL 266.083722 170.136208 \nL 266.288405 170.462535 \nL 266.493088 165.649208 \nL 266.697771 165.975535 \nL 266.902454 164.507063 \nL 267.107137 160.774695 \nL 267.31182 162.630681 \nL 267.721186 167.444008 \nL 267.925869 167.464403 \nL 268.130552 165.016949 \nL 268.335235 166.342654 \nL 268.744601 162.487913 \nL 268.949284 163.426104 \nL 269.153967 161.978027 \nL 269.35865 172.746826 \nL 269.563333 177.295012 \nL 269.972699 166.689376 \nL 270.177382 169.299994 \nL 270.791431 166.057117 \nL 270.996114 172.706035 \nL 271.200797 172.563267 \nL 271.610163 179.089811 \nL 271.814846 173.807389 \nL 272.019529 176.030494 \nL 272.224212 170.238185 \nL 272.428895 169.136831 \nL 272.633578 166.138699 \nL 273.042944 168.015081 \nL 273.247627 170.340162 \nL 273.45231 167.158472 \nL 274.066359 174.29688 \nL 274.271042 170.421744 \nL 274.475725 171.910612 \nL 275.089774 160.7543 \nL 275.294457 160.325995 \nL 275.49914 159.428595 \nL 275.908506 160.652322 \nL 276.113189 159.245036 \nL 276.522555 158.347636 \nL 276.727238 159.591759 \nL 276.931921 159.8569 \nL 277.136604 162.222772 \nL 277.341287 162.936613 \nL 277.54597 162.569495 \nL 277.750653 165.159717 \nL 277.955336 163.589267 \nL 278.364702 157.062723 \nL 278.774068 158.5108 \nL 279.388117 176.193657 \nL 279.797483 167.872313 \nL 280.002167 161.080627 \nL 280.20685 163.120172 \nL 280.616216 159.938481 \nL 281.844314 145.355733 \nL 282.048997 146.57946 \nL 282.25368 141.521388 \nL 282.458363 145.212965 \nL 282.663046 143.622119 \nL 282.867729 143.560933 \nL 283.277095 139.746983 \nL 283.686461 142.337206 \nL 283.891144 142.377997 \nL 284.095827 143.826074 \nL 284.30051 142.561556 \nL 284.505193 144.886637 \nL 284.709876 143.397769 \nL 285.119242 139.58382 \nL 285.323925 140.623988 \nL 285.528608 140.685174 \nL 285.733291 140.562801 \nL 285.937974 138.645629 \nL 286.142657 140.25687 \nL 286.34734 142.887883 \nL 286.756706 143.336583 \nL 286.961389 143.43856 \nL 287.166072 145.151778 \nL 287.370755 144.478728 \nL 287.575438 145.376128 \nL 287.780121 147.191324 \nL 288.189487 147.538046 \nL 288.39417 145.641269 \nL 288.598853 145.845224 \nL 288.803536 148.578214 \nL 289.008219 145.396524 \nL 289.212902 145.396524 \nL 289.622268 144.030028 \nL 290.031634 154.819223 \nL 290.236317 149.985501 \nL 290.645683 156.777186 \nL 290.850366 155.267923 \nL 291.055049 155.614645 \nL 291.259732 153.5751 \nL 291.464415 155.533064 \nL 291.669098 153.004028 \nL 291.873781 154.084987 \nL 292.078464 156.450859 \nL 292.283147 156.736395 \nL 292.692513 147.945955 \nL 292.897196 147.395278 \nL 293.306562 149.903919 \nL 293.511245 151.127646 \nL 293.715928 151.596741 \nL 293.920611 150.984878 \nL 294.125294 151.861882 \nL 294.329977 151.821091 \nL 294.739343 158.000913 \nL 294.944026 156.430464 \nL 295.148709 156.471254 \nL 295.353392 165.50644 \nL 295.558075 162.957008 \nL 295.762758 162.936613 \nL 295.967441 164.364295 \nL 296.172124 164.731413 \nL 296.376807 164.139945 \nL 296.58149 164.099154 \nL 296.990856 157.287073 \nL 297.195539 159.918086 \nL 297.400222 158.408822 \nL 297.604905 160.489159 \nL 297.809588 160.427972 \nL 298.014271 160.652322 \nL 298.218954 157.409445 \nL 298.423637 156.246904 \nL 298.62832 159.510177 \nL 299.037686 145.212965 \nL 299.242369 142.602347 \nL 299.447052 148.37426 \nL 299.651735 148.292678 \nL 300.265785 143.744492 \nL 300.470468 139.033142 \nL 300.675151 141.19506 \nL 300.879834 141.41941 \nL 301.2892 136.993597 \nL 301.493883 138.319302 \nL 301.698566 141.174665 \nL 301.903249 147.191324 \nL 302.107932 143.418165 \nL 302.312615 144.886637 \nL 302.517298 143.928051 \nL 302.721981 135.219193 \nL 302.926664 134.586934 \nL 303.131347 131.446034 \nL 303.33603 133.567161 \nL 303.540713 128.080784 \nL 303.745396 128.815021 \nL 303.950079 126.857057 \nL 304.154762 131.221684 \nL 304.359445 129.875584 \nL 304.564128 132.40462 \nL 304.768811 130.140725 \nL 304.973494 130.874961 \nL 305.178177 130.915752 \nL 305.38286 130.283493 \nL 305.587543 132.873716 \nL 305.996909 130.874961 \nL 306.201592 129.304512 \nL 306.406275 126.285985 \nL 306.610958 127.42813 \nL 306.815641 125.837285 \nL 307.225007 132.812529 \nL 307.42969 129.304512 \nL 307.634373 128.896602 \nL 307.839056 131.50722 \nL 308.043739 129.957166 \nL 308.248422 130.956543 \nL 308.453105 129.22293 \nL 308.862471 121.982544 \nL 309.067154 111.988772 \nL 309.271837 108.317591 \nL 309.47652 107.481377 \nL 309.885886 114.456622 \nL 310.090569 114.558599 \nL 310.295252 116.129049 \nL 310.499935 114.558599 \nL 310.704618 113.92634 \nL 310.909301 112.519054 \nL 311.113984 109.459736 \nL 311.318667 112.172331 \nL 311.52335 109.724877 \nL 311.728033 105.910927 \nL 311.932716 107.277423 \nL 312.342082 101.403532 \nL 312.546765 101.811441 \nL 312.956131 104.177314 \nL 313.160814 100.281782 \nL 313.365497 103.932568 \nL 313.57018 101.933814 \nL 313.774863 105.625391 \nL 314.184229 100.526528 \nL 314.388912 104.279291 \nL 314.593595 104.931946 \nL 314.798278 102.912796 \nL 315.002961 102.831214 \nL 315.412327 108.011659 \nL 315.61701 108.745895 \nL 315.821693 112.151936 \nL 316.026376 113.110522 \nL 316.231059 107.501773 \nL 316.435742 111.927586 \nL 316.640425 113.232895 \nL 316.845108 112.498659 \nL 317.049791 116.516563 \nL 317.254474 115.72114 \nL 317.459157 114.313854 \nL 317.66384 119.269949 \nL 317.868523 116.720517 \nL 318.073206 115.986281 \nL 318.277889 116.883681 \nL 318.482572 116.638935 \nL 318.687255 116.965263 \nL 318.891938 117.577126 \nL 319.096621 115.170463 \nL 319.505987 120.514071 \nL 319.710671 119.596276 \nL 319.915354 123.430621 \nL 320.120037 122.635199 \nL 320.32472 124.919489 \nL 320.529403 125.266212 \nL 320.734086 123.145085 \nL 320.938769 141.562179 \nL 321.143452 142.459578 \nL 321.348135 140.97071 \nL 321.552818 142.520765 \nL 321.757501 141.521388 \nL 321.962184 144.070819 \nL 322.166867 144.56031 \nL 322.37155 144.132006 \nL 322.780916 146.293924 \nL 322.985599 147.721605 \nL 323.190282 147.415673 \nL 323.394965 158.368032 \nL 323.599648 159.836504 \nL 323.804331 160.244413 \nL 324.213697 163.405708 \nL 324.41838 164.935367 \nL 324.623063 164.282713 \nL 324.827746 162.161586 \nL 325.032429 158.816732 \nL 325.237112 163.793222 \nL 325.441795 163.48729 \nL 325.646478 161.264186 \nL 325.851161 160.3056 \nL 326.055844 161.039836 \nL 326.260527 158.918709 \nL 326.46521 159.734527 \nL 326.669893 161.570118 \nL 326.874576 161.406954 \nL 327.079259 159.836504 \nL 327.283942 159.285827 \nL 327.488625 161.835259 \nL 327.693308 161.46814 \nL 327.897991 159.326618 \nL 328.102674 163.507686 \nL 328.307357 161.46814 \nL 328.716723 154.452105 \nL 329.126089 158.837127 \nL 329.535455 154.309336 \nL 329.740138 156.410068 \nL 329.944821 153.738264 \nL 330.149504 156.2673 \nL 330.354187 156.695604 \nL 330.763553 155.349505 \nL 331.172919 154.635664 \nL 331.582285 158.245659 \nL 331.786968 153.779055 \nL 331.991651 158.694359 \nL 332.196334 160.203622 \nL 333.219749 157.368654 \nL 333.424432 158.225263 \nL 333.629115 160.733904 \nL 334.038481 170.584908 \nL 334.243164 170.462535 \nL 334.65253 172.542871 \nL 334.857213 173.154735 \nL 335.061896 175.744957 \nL 335.266579 176.132471 \nL 335.675945 175.500212 \nL 335.880628 176.907498 \nL 336.085311 175.744957 \nL 336.289994 175.744957 \nL 336.494677 181.863593 \nL 336.904043 182.597829 \nL 337.108726 180.945798 \nL 337.313409 181.863593 \nL 337.518092 180.741843 \nL 337.722775 182.291898 \nL 337.927458 180.80303 \nL 338.336824 186.778897 \nL 338.541507 184.637375 \nL 338.74619 184.515002 \nL 338.950873 180.84382 \nL 339.360239 177.560153 \nL 339.564923 181.659639 \nL 339.769606 179.293766 \nL 339.974289 179.783257 \nL 340.178972 179.864839 \nL 340.588338 178.029248 \nL 340.793021 177.580548 \nL 340.997704 179.518116 \nL 341.202387 178.722693 \nL 341.40707 175.520607 \nL 341.611753 175.031116 \nL 341.816436 173.990948 \nL 342.021119 176.112075 \nL 342.430485 176.173262 \nL 342.635168 175.887725 \nL 342.839851 174.419253 \nL 343.044534 174.541626 \nL 343.249217 175.500212 \nL 343.4539 172.971176 \nL 343.658583 172.318521 \nL 343.863266 175.071907 \nL 344.067949 174.827162 \nL 344.272632 175.031116 \nL 344.477315 172.298126 \nL 344.681998 171.665867 \nL 344.886681 172.318521 \nL 345.091364 172.400103 \nL 345.296047 172.685639 \nL 345.705413 168.810503 \nL 345.910096 170.523721 \nL 346.114779 170.686885 \nL 346.319462 171.217167 \nL 346.524145 172.420498 \nL 346.728828 151.025669 \nL 347.138194 142.969465 \nL 347.342877 140.97071 \nL 347.956926 156.756791 \nL 348.161609 156.287695 \nL 348.366292 157.878541 \nL 348.570975 156.716 \nL 348.775658 157.185095 \nL 348.980341 157.021932 \nL 349.185024 158.571986 \nL 349.389707 161.937236 \nL 349.59439 162.753054 \nL 349.799073 162.283958 \nL 350.003756 165.689999 \nL 350.208439 164.221526 \nL 350.617805 169.728299 \nL 350.822488 169.626321 \nL 351.027171 170.176999 \nL 351.436537 164.241922 \nL 351.845903 161.46814 \nL 352.050586 161.570118 \nL 352.255269 161.345768 \nL 352.459952 160.7543 \nL 352.664635 159.816109 \nL 352.869318 158.102891 \nL 352.869318 158.102891 \n\" style=\"fill:none;stroke:#ff7f0e;stroke-linecap:square;stroke-width:1.5;\"/>\n   </g>\n   <g id=\"patch_3\">\n    <path d=\"M 33.2875 239.758125 \nL 33.2875 22.318125 \n\" style=\"fill:none;stroke:#000000;stroke-linecap:square;stroke-linejoin:miter;stroke-width:0.8;\"/>\n   </g>\n   <g id=\"patch_4\">\n    <path d=\"M 368.0875 239.758125 \nL 368.0875 22.318125 \n\" style=\"fill:none;stroke:#000000;stroke-linecap:square;stroke-linejoin:miter;stroke-width:0.8;\"/>\n   </g>\n   <g id=\"patch_5\">\n    <path d=\"M 33.2875 239.758125 \nL 368.0875 239.758125 \n\" style=\"fill:none;stroke:#000000;stroke-linecap:square;stroke-linejoin:miter;stroke-width:0.8;\"/>\n   </g>\n   <g id=\"patch_6\">\n    <path d=\"M 33.2875 22.318125 \nL 368.0875 22.318125 \n\" style=\"fill:none;stroke:#000000;stroke-linecap:square;stroke-linejoin:miter;stroke-width:0.8;\"/>\n   </g>\n   <g id=\"text_15\">\n    <!-- IBM stock -->\n    <g transform=\"translate(171.794688 16.318125)scale(0.12 -0.12)\">\n     <defs>\n      <path d=\"M 9.8125 72.90625 \nL 19.671875 72.90625 \nL 19.671875 0 \nL 9.8125 0 \nz\n\" id=\"DejaVuSans-73\"/>\n      <path d=\"M 19.671875 34.8125 \nL 19.671875 8.109375 \nL 35.5 8.109375 \nQ 43.453125 8.109375 47.28125 11.40625 \nQ 51.125 14.703125 51.125 21.484375 \nQ 51.125 28.328125 47.28125 31.5625 \nQ 43.453125 34.8125 35.5 34.8125 \nz\nM 19.671875 64.796875 \nL 19.671875 42.828125 \nL 34.28125 42.828125 \nQ 41.5 42.828125 45.03125 45.53125 \nQ 48.578125 48.25 48.578125 53.8125 \nQ 48.578125 59.328125 45.03125 62.0625 \nQ 41.5 64.796875 34.28125 64.796875 \nz\nM 9.8125 72.90625 \nL 35.015625 72.90625 \nQ 46.296875 72.90625 52.390625 68.21875 \nQ 58.5 63.53125 58.5 54.890625 \nQ 58.5 48.1875 55.375 44.234375 \nQ 52.25 40.28125 46.1875 39.3125 \nQ 53.46875 37.75 57.5 32.78125 \nQ 61.53125 27.828125 61.53125 20.40625 \nQ 61.53125 10.640625 54.890625 5.3125 \nQ 48.25 0 35.984375 0 \nL 9.8125 0 \nz\n\" id=\"DejaVuSans-66\"/>\n      <path d=\"M 9.8125 72.90625 \nL 24.515625 72.90625 \nL 43.109375 23.296875 \nL 61.8125 72.90625 \nL 76.515625 72.90625 \nL 76.515625 0 \nL 66.890625 0 \nL 66.890625 64.015625 \nL 48.09375 14.015625 \nL 38.1875 14.015625 \nL 19.390625 64.015625 \nL 19.390625 0 \nL 9.8125 0 \nz\n\" id=\"DejaVuSans-77\"/>\n      <path id=\"DejaVuSans-32\"/>\n      <path d=\"M 44.28125 53.078125 \nL 44.28125 44.578125 \nQ 40.484375 46.53125 36.375 47.5 \nQ 32.28125 48.484375 27.875 48.484375 \nQ 21.1875 48.484375 17.84375 46.4375 \nQ 14.5 44.390625 14.5 40.28125 \nQ 14.5 37.15625 16.890625 35.375 \nQ 19.28125 33.59375 26.515625 31.984375 \nL 29.59375 31.296875 \nQ 39.15625 29.25 43.1875 25.515625 \nQ 47.21875 21.78125 47.21875 15.09375 \nQ 47.21875 7.46875 41.1875 3.015625 \nQ 35.15625 -1.421875 24.609375 -1.421875 \nQ 20.21875 -1.421875 15.453125 -0.5625 \nQ 10.6875 0.296875 5.421875 2 \nL 5.421875 11.28125 \nQ 10.40625 8.6875 15.234375 7.390625 \nQ 20.0625 6.109375 24.8125 6.109375 \nQ 31.15625 6.109375 34.5625 8.28125 \nQ 37.984375 10.453125 37.984375 14.40625 \nQ 37.984375 18.0625 35.515625 20.015625 \nQ 33.0625 21.96875 24.703125 23.78125 \nL 21.578125 24.515625 \nQ 13.234375 26.265625 9.515625 29.90625 \nQ 5.8125 33.546875 5.8125 39.890625 \nQ 5.8125 47.609375 11.28125 51.796875 \nQ 16.75 56 26.8125 56 \nQ 31.78125 56 36.171875 55.265625 \nQ 40.578125 54.546875 44.28125 53.078125 \nz\n\" id=\"DejaVuSans-115\"/>\n      <path d=\"M 18.3125 70.21875 \nL 18.3125 54.6875 \nL 36.8125 54.6875 \nL 36.8125 47.703125 \nL 18.3125 47.703125 \nL 18.3125 18.015625 \nQ 18.3125 11.328125 20.140625 9.421875 \nQ 21.96875 7.515625 27.59375 7.515625 \nL 36.8125 7.515625 \nL 36.8125 0 \nL 27.59375 0 \nQ 17.1875 0 13.234375 3.875 \nQ 9.28125 7.765625 9.28125 18.015625 \nL 9.28125 47.703125 \nL 2.6875 47.703125 \nL 2.6875 54.6875 \nL 9.28125 54.6875 \nL 9.28125 70.21875 \nz\n\" id=\"DejaVuSans-116\"/>\n      <path d=\"M 30.609375 48.390625 \nQ 23.390625 48.390625 19.1875 42.75 \nQ 14.984375 37.109375 14.984375 27.296875 \nQ 14.984375 17.484375 19.15625 11.84375 \nQ 23.34375 6.203125 30.609375 6.203125 \nQ 37.796875 6.203125 41.984375 11.859375 \nQ 46.1875 17.53125 46.1875 27.296875 \nQ 46.1875 37.015625 41.984375 42.703125 \nQ 37.796875 48.390625 30.609375 48.390625 \nz\nM 30.609375 56 \nQ 42.328125 56 49.015625 48.375 \nQ 55.71875 40.765625 55.71875 27.296875 \nQ 55.71875 13.875 49.015625 6.21875 \nQ 42.328125 -1.421875 30.609375 -1.421875 \nQ 18.84375 -1.421875 12.171875 6.21875 \nQ 5.515625 13.875 5.515625 27.296875 \nQ 5.515625 40.765625 12.171875 48.375 \nQ 18.84375 56 30.609375 56 \nz\n\" id=\"DejaVuSans-111\"/>\n      <path d=\"M 48.78125 52.59375 \nL 48.78125 44.1875 \nQ 44.96875 46.296875 41.140625 47.34375 \nQ 37.3125 48.390625 33.40625 48.390625 \nQ 24.65625 48.390625 19.8125 42.84375 \nQ 14.984375 37.3125 14.984375 27.296875 \nQ 14.984375 17.28125 19.8125 11.734375 \nQ 24.65625 6.203125 33.40625 6.203125 \nQ 37.3125 6.203125 41.140625 7.25 \nQ 44.96875 8.296875 48.78125 10.40625 \nL 48.78125 2.09375 \nQ 45.015625 0.34375 40.984375 -0.53125 \nQ 36.96875 -1.421875 32.421875 -1.421875 \nQ 20.0625 -1.421875 12.78125 6.34375 \nQ 5.515625 14.109375 5.515625 27.296875 \nQ 5.515625 40.671875 12.859375 48.328125 \nQ 20.21875 56 33.015625 56 \nQ 37.15625 56 41.109375 55.140625 \nQ 45.0625 54.296875 48.78125 52.59375 \nz\n\" id=\"DejaVuSans-99\"/>\n      <path d=\"M 9.078125 75.984375 \nL 18.109375 75.984375 \nL 18.109375 31.109375 \nL 44.921875 54.6875 \nL 56.390625 54.6875 \nL 27.390625 29.109375 \nL 57.625 0 \nL 45.90625 0 \nL 18.109375 26.703125 \nL 18.109375 0 \nL 9.078125 0 \nz\n\" id=\"DejaVuSans-107\"/>\n     </defs>\n     <use xlink:href=\"#DejaVuSans-73\"/>\n     <use x=\"29.492188\" xlink:href=\"#DejaVuSans-66\"/>\n     <use x=\"98.095703\" xlink:href=\"#DejaVuSans-77\"/>\n     <use x=\"184.375\" xlink:href=\"#DejaVuSans-32\"/>\n     <use x=\"216.162109\" xlink:href=\"#DejaVuSans-115\"/>\n     <use x=\"268.261719\" xlink:href=\"#DejaVuSans-116\"/>\n     <use x=\"307.470703\" xlink:href=\"#DejaVuSans-111\"/>\n     <use x=\"368.652344\" xlink:href=\"#DejaVuSans-99\"/>\n     <use x=\"423.632812\" xlink:href=\"#DejaVuSans-107\"/>\n    </g>\n   </g>\n  </g>\n </g>\n <defs>\n  <clipPath id=\"p8b6b3bc3e2\">\n   <rect height=\"217.44\" width=\"334.8\" x=\"33.2875\" y=\"22.318125\"/>\n  </clipPath>\n </defs>\n</svg>\n",
      "image/png": "[encoded data removed]"
     },
     "metadata": {
      "needs_background": "light"
     }
    }
   ],
   "source": [
    "train['predict2'] = result2\n",
    "train['predict3'] = result3\n",
    "train['predict4'] = result4\n",
    "train['predict5'] = result5\n",
    "# print(predicts)\n",
    "# fig = px.line(train, x=train.index, y=['open', 'predict5'])\n",
    "# fig.update_layout(title='IBM\\'s stock', xaxis_title='day', yaxis_title='price')\n",
    "# fig.show()\n",
    "plt.title(\"IBM stock\")\n",
    "plt.plot(train.index, train['predict5'])\n",
    "plt.plot(train.index, train['open'].tolist())\n",
    "plt.show()"
   ]
  },
  {
   "cell_type": "code",
   "execution_count": null,
   "metadata": {},
   "outputs": [],
   "source": []
  }
 ]
}