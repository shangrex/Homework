{
 "cells": [
  {
   "cell_type": "code",
   "execution_count": 81,
   "metadata": {},
   "outputs": [],
   "source": [
    "import time\n",
    "import numpy as np\n",
    "import pandas as pd\n",
    "import matplotlib.pyplot as plt\n",
    "import seaborn as sns\n",
    "#%matplotlib inline\n",
    "%matplotlib qt"
   ]
  },
  {
   "cell_type": "markdown",
   "metadata": {},
   "source": [
    "# Single CPU"
   ]
  },
  {
   "cell_type": "code",
   "execution_count": 82,
   "metadata": {},
   "outputs": [],
   "source": [
    "ss_data = pd.read_csv('stat.csv', header=None,skiprows=6,names = \n",
    "                       [\"disk:r\", \"disk:w\", 'io:r', 'io:w', 'page:i',  \n",
    "                        'page:o', 'int:142', 'int:143', 'int:144', 'mem:used', \n",
    "                        'mem:free', 'mem:buff', 'mem:cache', 'pro:run', 'pro:blk', \n",
    "                        'pro:new', 'swap:use', 'swap:free'\n",
    "                       ])\n",
    "sc_data = pd.read_csv('cpu.csv', skiprows=6, names = \n",
    "                                    ['cpu0:usr', 'cpu0:sys', 'cpu0:idl', 'cpu0:wai','cpu0:stl'\n",
    "                                    ,'cpu1:usr', 'cpu1:sys', 'cpu1:idl', 'cpu1:wai','cpu1:stl'\n",
    "                                    ,'cpu2:usr', 'cpu2:sys', 'cpu2:idl', 'cpu2:wai','cpu2:stl' \n",
    "                                    ,'cpu3:usr', 'cpu3:sys', 'cpu3:idl', 'cpu3:wai','cpu3:stl'\n",
    "                                    ,'cpu4:usr', 'cpu4:sys', 'cpu4:idl', 'cpu4:wai','cpu4:stl'\n",
    "                                    ,'cpu5:usr', 'cpu5:sys', 'cpu5:idl', 'cpu5:wai','cpu5:stl'\n",
    "                                    ,'cpu6:usr', 'cpu6:sys', 'cpu6:idl', 'cpu6:wai','cpu6:stl' \n",
    "                                    ,'cpu7:usr', 'cpu7:sys', 'cpu7:idl', 'cpu7:wai','cpu7:stl'\n",
    "                                    ,'cpu:usr',  'cpu:sys',  'cpu:idl',  'cpu:wai', 'cpu:stl'\n",
    "                                    ,'dr','dw', 'net:r', 'net:s', 'page:i', 'page:o', 'sys:int', 'sys:csw'\n",
    "                                    ])"
   ]
  },
  {
   "cell_type": "code",
   "execution_count": 83,
   "metadata": {
    "scrolled": true
   },
   "outputs": [
    {
     "name": "stdout",
     "output_type": "stream",
     "text": [
      "<class 'pandas.core.frame.DataFrame'>\n",
      "RangeIndex: 1060 entries, 0 to 1059\n",
      "Data columns (total 18 columns):\n",
      " #   Column     Non-Null Count  Dtype  \n",
      "---  ------     --------------  -----  \n",
      " 0   disk:r     1060 non-null   float64\n",
      " 1   disk:w     1060 non-null   float64\n",
      " 2   io:r       1060 non-null   float64\n",
      " 3   io:w       1060 non-null   float64\n",
      " 4   page:i     1060 non-null   float64\n",
      " 5   page:o     1060 non-null   float64\n",
      " 6   int:142    1060 non-null   float64\n",
      " 7   int:143    1060 non-null   float64\n",
      " 8   int:144    1060 non-null   float64\n",
      " 9   mem:used   1060 non-null   int64  \n",
      " 10  mem:free   1060 non-null   int64  \n",
      " 11  mem:buff   1060 non-null   int64  \n",
      " 12  mem:cache  1060 non-null   int64  \n",
      " 13  pro:run    1060 non-null   int64  \n",
      " 14  pro:blk    1060 non-null   int64  \n",
      " 15  pro:new    1060 non-null   float64\n",
      " 16  swap:use   1060 non-null   int64  \n",
      " 17  swap:free  1060 non-null   int64  \n",
      "dtypes: float64(10), int64(8)\n",
      "memory usage: 149.2 KB\n",
      "None\n"
     ]
    }
   ],
   "source": [
    "print(ss_data.info())"
   ]
  },
  {
   "cell_type": "code",
   "execution_count": 84,
   "metadata": {},
   "outputs": [
    {
     "name": "stdout",
     "output_type": "stream",
     "text": [
      "<class 'pandas.core.frame.DataFrame'>\n",
      "RangeIndex: 1060 entries, 0 to 1059\n",
      "Data columns (total 53 columns):\n",
      " #   Column    Non-Null Count  Dtype  \n",
      "---  ------    --------------  -----  \n",
      " 0   cpu0:usr  1060 non-null   float64\n",
      " 1   cpu0:sys  1060 non-null   float64\n",
      " 2   cpu0:idl  1060 non-null   float64\n",
      " 3   cpu0:wai  1060 non-null   float64\n",
      " 4   cpu0:stl  1060 non-null   int64  \n",
      " 5   cpu1:usr  1060 non-null   float64\n",
      " 6   cpu1:sys  1060 non-null   float64\n",
      " 7   cpu1:idl  1060 non-null   float64\n",
      " 8   cpu1:wai  1060 non-null   float64\n",
      " 9   cpu1:stl  1060 non-null   int64  \n",
      " 10  cpu2:usr  1060 non-null   float64\n",
      " 11  cpu2:sys  1060 non-null   float64\n",
      " 12  cpu2:idl  1060 non-null   float64\n",
      " 13  cpu2:wai  1060 non-null   float64\n",
      " 14  cpu2:stl  1060 non-null   int64  \n",
      " 15  cpu3:usr  1060 non-null   float64\n",
      " 16  cpu3:sys  1060 non-null   float64\n",
      " 17  cpu3:idl  1060 non-null   float64\n",
      " 18  cpu3:wai  1060 non-null   float64\n",
      " 19  cpu3:stl  1060 non-null   int64  \n",
      " 20  cpu4:usr  1060 non-null   float64\n",
      " 21  cpu4:sys  1060 non-null   float64\n",
      " 22  cpu4:idl  1060 non-null   float64\n",
      " 23  cpu4:wai  1060 non-null   float64\n",
      " 24  cpu4:stl  1060 non-null   int64  \n",
      " 25  cpu5:usr  1060 non-null   float64\n",
      " 26  cpu5:sys  1060 non-null   float64\n",
      " 27  cpu5:idl  1060 non-null   float64\n",
      " 28  cpu5:wai  1060 non-null   float64\n",
      " 29  cpu5:stl  1060 non-null   int64  \n",
      " 30  cpu6:usr  1060 non-null   float64\n",
      " 31  cpu6:sys  1060 non-null   float64\n",
      " 32  cpu6:idl  1060 non-null   float64\n",
      " 33  cpu6:wai  1060 non-null   float64\n",
      " 34  cpu6:stl  1060 non-null   int64  \n",
      " 35  cpu7:usr  1060 non-null   float64\n",
      " 36  cpu7:sys  1060 non-null   float64\n",
      " 37  cpu7:idl  1060 non-null   float64\n",
      " 38  cpu7:wai  1060 non-null   float64\n",
      " 39  cpu7:stl  1060 non-null   int64  \n",
      " 40  cpu:usr   1060 non-null   float64\n",
      " 41  cpu:sys   1060 non-null   float64\n",
      " 42  cpu:idl   1060 non-null   float64\n",
      " 43  cpu:wai   1060 non-null   float64\n",
      " 44  cpu:stl   1060 non-null   int64  \n",
      " 45  dr        1060 non-null   float64\n",
      " 46  dw        1060 non-null   float64\n",
      " 47  net:r     1060 non-null   int64  \n",
      " 48  net:s     1060 non-null   int64  \n",
      " 49  page:i    1060 non-null   float64\n",
      " 50  page:o    1060 non-null   float64\n",
      " 51  sys:int   1060 non-null   float64\n",
      " 52  sys:csw   1060 non-null   float64\n",
      "dtypes: float64(42), int64(11)\n",
      "memory usage: 439.0 KB\n",
      "None\n"
     ]
    }
   ],
   "source": [
    "print(sc_data.info())"
   ]
  },
  {
   "cell_type": "markdown",
   "metadata": {},
   "source": [
    "*  程式大約在492 sec時split完"
   ]
  },
  {
   "cell_type": "code",
   "execution_count": 85,
   "metadata": {},
   "outputs": [
    {
     "data": {
      "text/plain": [
       "<matplotlib.legend.Legend at 0x7f723307b590>"
      ]
     },
     "execution_count": 85,
     "metadata": {},
     "output_type": "execute_result"
    }
   ],
   "source": [
    "plt.figure(figsize=(15, 5))\n",
    "plt.title('Single Disk R/W')\n",
    "plt.plot(range(1060), ss_data['disk:w'], label='w')\n",
    "plt.plot(range(1060), ss_data['disk:r'], label='r')\n",
    "plt.legend(bbox_to_anchor=(0.5, 0))\n"
   ]
  },
  {
   "cell_type": "code",
   "execution_count": 86,
   "metadata": {},
   "outputs": [],
   "source": [
    "plt.figure(figsize=(15, 5))\n",
    "plt.title('Single I/O')\n",
    "plt.plot(range(1060), ss_data['io:w'], label='w')\n",
    "plt.plot(range(1060), ss_data['io:r'], label='r')\n",
    "plt.legend(bbox_to_anchor=(0.5, 0))\n",
    "plt.show()"
   ]
  },
  {
   "cell_type": "code",
   "execution_count": 88,
   "metadata": {},
   "outputs": [],
   "source": [
    "plt.figure(figsize=(140, 10))\n",
    "plt.title('Single Page I/O')\n",
    "plt.plot(range(1060), ss_data['page:i'], label='i')\n",
    "plt.plot(range(1060), ss_data['page:o'], label='o')\n",
    "plt.legend(bbox_to_anchor=(0.5, 0))\n",
    "plt.show()"
   ]
  },
  {
   "cell_type": "code",
   "execution_count": 89,
   "metadata": {},
   "outputs": [],
   "source": [
    "fig_d = plt.figure(figsize=(140, 10))\n",
    "plt.title('Single cpu usage distribution')\n",
    "plt.plot(range(1060), sc_data['cpu:usr'], label='usr')\n",
    "plt.plot(range(1060), sc_data['cpu:sys'], label='sys')\n",
    "plt.plot(range(1060), sc_data['cpu:wai'], label='wai')\n",
    "plt.plot(range(1060), sc_data['cpu:stl'], label='stl')\n",
    "plt.legend(bbox_to_anchor=(0.5, 0))\n",
    "fig_d.show()\n",
    "\n",
    "fig_c = plt.figure(figsize=(140, 10))\n",
    "plt.title('Single cpu core usage')\n",
    "plt.plot(range(1060), sc_data['cpu0:usr'], label='cpu0')\n",
    "plt.plot(range(1060), sc_data['cpu1:usr'], label='cpu1')\n",
    "plt.plot(range(1060), sc_data['cpu2:usr'], label='cpu2')\n",
    "plt.plot(range(1060), sc_data['cpu3:usr'], label='cpu3')\n",
    "plt.plot(range(1060), sc_data['cpu4:usr'], label='cpu4')\n",
    "plt.plot(range(1060), sc_data['cpu5:usr'], label='cpu5')\n",
    "plt.plot(range(1060), sc_data['cpu6:usr'], label='cpu6')\n",
    "plt.plot(range(1060), sc_data['cpu7:usr'], label='cpu7')\n",
    "plt.legend(bbox_to_anchor=(0.5, 0))\n",
    "fig_c.show()\n",
    "\n",
    "fig_t = plt.figure(figsize=(140, 10))\n",
    "plt.title('Single cpu usage')\n",
    "plt.plot(range(1060), sc_data['cpu:usr'], label='cpu')\n",
    "plt.legend(bbox_to_anchor=(0.5, 0))\n",
    "fig_t.show()\n"
   ]
  },
  {
   "cell_type": "code",
   "execution_count": 90,
   "metadata": {},
   "outputs": [],
   "source": [
    "plt.figure(figsize=(140, 10))\n",
    "plt.title('Single memory usage')\n",
    "plt.plot(range(1060), ss_data['mem:used'], label='used')\n",
    "plt.plot(range(1060), ss_data['mem:free'], label='free')\n",
    "plt.plot(range(1060), ss_data['mem:buff'], label='buff')\n",
    "plt.plot(range(1060), ss_data['mem:cache'], label='cache')\n",
    "plt.legend(bbox_to_anchor=(0.5, 0))\n",
    "plt.show()"
   ]
  },
  {
   "cell_type": "code",
   "execution_count": 92,
   "metadata": {},
   "outputs": [],
   "source": [
    "plt.figure(figsize=(140, 10))\n",
    "plt.title('Single Interrupt')\n",
    "plt.plot(range(1060), ss_data['int:142'], label='142')\n",
    "plt.plot(range(1060), ss_data['int:143'], label='143')\n",
    "plt.plot(range(1060), ss_data['int:144'], label='144')\n",
    "plt.legend(bbox_to_anchor=(0.5, 0))\n",
    "plt.ylim(0, 30)\n",
    "plt.show()"
   ]
  },
  {
   "cell_type": "code",
   "execution_count": 95,
   "metadata": {},
   "outputs": [],
   "source": [
    "plt.figure(figsize=(140, 10))\n",
    "plt.title('Single Swap usage')\n",
    "plt.plot(range(1060), ss_data['swap:use'], label='used')\n",
    "plt.plot(range(1060), ss_data['swap:free'], label='free')\n",
    "plt.legend(bbox_to_anchor=(0.5, 0))\n",
    "plt.show()"
   ]
  },
  {
   "cell_type": "code",
   "execution_count": 94,
   "metadata": {},
   "outputs": [],
   "source": [
    "plt.figure(figsize=(140, 10))\n",
    "plt.title('Single System')\n",
    "plt.plot(range(1060), sc_data['sys:int'], label='int')\n",
    "plt.plot(range(1060), sc_data['sys:csw'], label='csw')\n",
    "plt.legend(bbox_to_anchor=(0.5, 0))\n",
    "plt.show()"
   ]
  },
  {
   "cell_type": "code",
   "execution_count": 96,
   "metadata": {},
   "outputs": [],
   "source": [
    "plt.figure(figsize=(140, 10))\n",
    "plt.title('Single Process')\n",
    "plt.plot(range(1060), ss_data['pro:run'], label='run')\n",
    "plt.plot(range(1060), ss_data['pro:new'], label='new')\n",
    "plt.plot(range(1060), ss_data['pro:blk'], label='blk')\n",
    "plt.ylim(0, 10)\n",
    "plt.legend(bbox_to_anchor=(0.5, 0))\n",
    "plt.show()"
   ]
  },
  {
   "cell_type": "markdown",
   "metadata": {},
   "source": [
    "## Multi CPU"
   ]
  },
  {
   "cell_type": "code",
   "execution_count": 97,
   "metadata": {},
   "outputs": [],
   "source": [
    "ms_data = pd.read_csv('mul_stat.csv', header=None,skiprows=6,names = \n",
    "                       [\"disk:r\", \"disk:w\", 'io:r', 'io:w', 'page:i',  \n",
    "                        'page:o', 'int:142', 'int:143', 'int:144', 'mem:used', \n",
    "                        'mem:free', 'mem:buff', 'mem:cache', 'pro:run', 'pro:blk', \n",
    "                        'pro:new', 'swap:use', 'swap:free'\n",
    "                       ])\n",
    "mc_data = pd.read_csv('mul_cpu.csv', skiprows=6, names = \n",
    "                                    ['cpu0:usr', 'cpu0:sys', 'cpu0:idl', 'cpu0:wai','cpu0:stl'\n",
    "                                    ,'cpu1:usr', 'cpu1:sys', 'cpu1:idl', 'cpu1:wai','cpu1:stl'\n",
    "                                    ,'cpu2:usr', 'cpu2:sys', 'cpu2:idl', 'cpu2:wai','cpu2:stl' \n",
    "                                    ,'cpu3:usr', 'cpu3:sys', 'cpu3:idl', 'cpu3:wai','cpu3:stl'\n",
    "                                    ,'cpu4:usr', 'cpu4:sys', 'cpu4:idl', 'cpu4:wai','cpu4:stl'\n",
    "                                    ,'cpu5:usr', 'cpu5:sys', 'cpu5:idl', 'cpu5:wai','cpu5:stl'\n",
    "                                    ,'cpu6:usr', 'cpu6:sys', 'cpu6:idl', 'cpu6:wai','cpu6:stl' \n",
    "                                    ,'cpu7:usr', 'cpu7:sys', 'cpu7:idl', 'cpu7:wai','cpu7:stl'\n",
    "                                    ,'cpu:usr',  'cpu:sys',  'cpu:idl',  'cpu:wai', 'cpu:stl'\n",
    "                                    ,'dr','dw', 'net:r', 'net:s', 'page:i', 'page:o', 'sys:int', 'sys:csw'\n",
    "                                    ])"
   ]
  },
  {
   "cell_type": "code",
   "execution_count": 98,
   "metadata": {},
   "outputs": [
    {
     "name": "stdout",
     "output_type": "stream",
     "text": [
      "<class 'pandas.core.frame.DataFrame'>\n",
      "RangeIndex: 6348 entries, 0 to 6347\n",
      "Data columns (total 18 columns):\n",
      " #   Column     Non-Null Count  Dtype  \n",
      "---  ------     --------------  -----  \n",
      " 0   disk:r     6348 non-null   float64\n",
      " 1   disk:w     6348 non-null   float64\n",
      " 2   io:r       6348 non-null   float64\n",
      " 3   io:w       6348 non-null   float64\n",
      " 4   page:i     6348 non-null   int64  \n",
      " 5   page:o     6348 non-null   float64\n",
      " 6   int:142    6348 non-null   float64\n",
      " 7   int:143    6348 non-null   float64\n",
      " 8   int:144    6348 non-null   float64\n",
      " 9   mem:used   6348 non-null   int64  \n",
      " 10  mem:free   6348 non-null   int64  \n",
      " 11  mem:buff   6348 non-null   int64  \n",
      " 12  mem:cache  6348 non-null   int64  \n",
      " 13  pro:run    6348 non-null   int64  \n",
      " 14  pro:blk    6348 non-null   int64  \n",
      " 15  pro:new    6348 non-null   float64\n",
      " 16  swap:use   6348 non-null   int64  \n",
      " 17  swap:free  6348 non-null   int64  \n",
      "dtypes: float64(9), int64(9)\n",
      "memory usage: 892.8 KB\n",
      "None\n"
     ]
    }
   ],
   "source": [
    "print(ms_data.info())"
   ]
  },
  {
   "cell_type": "code",
   "execution_count": 99,
   "metadata": {},
   "outputs": [
    {
     "name": "stdout",
     "output_type": "stream",
     "text": [
      "<class 'pandas.core.frame.DataFrame'>\n",
      "Float64Index: 6350 entries, 13.989 to 6.8629999999999995\n",
      "Data columns (total 53 columns):\n",
      " #   Column    Non-Null Count  Dtype  \n",
      "---  ------    --------------  -----  \n",
      " 0   cpu0:usr  6350 non-null   float64\n",
      " 1   cpu0:sys  6350 non-null   float64\n",
      " 2   cpu0:idl  6350 non-null   float64\n",
      " 3   cpu0:wai  6350 non-null   int64  \n",
      " 4   cpu0:stl  6350 non-null   float64\n",
      " 5   cpu1:usr  6350 non-null   float64\n",
      " 6   cpu1:sys  6350 non-null   float64\n",
      " 7   cpu1:idl  6350 non-null   float64\n",
      " 8   cpu1:wai  6350 non-null   int64  \n",
      " 9   cpu1:stl  6350 non-null   float64\n",
      " 10  cpu2:usr  6350 non-null   float64\n",
      " 11  cpu2:sys  6350 non-null   float64\n",
      " 12  cpu2:idl  6350 non-null   float64\n",
      " 13  cpu2:wai  6350 non-null   int64  \n",
      " 14  cpu2:stl  6350 non-null   float64\n",
      " 15  cpu3:usr  6350 non-null   float64\n",
      " 16  cpu3:sys  6350 non-null   float64\n",
      " 17  cpu3:idl  6350 non-null   float64\n",
      " 18  cpu3:wai  6350 non-null   int64  \n",
      " 19  cpu3:stl  6350 non-null   float64\n",
      " 20  cpu4:usr  6350 non-null   float64\n",
      " 21  cpu4:sys  6350 non-null   float64\n",
      " 22  cpu4:idl  6350 non-null   float64\n",
      " 23  cpu4:wai  6350 non-null   int64  \n",
      " 24  cpu4:stl  6350 non-null   float64\n",
      " 25  cpu5:usr  6350 non-null   float64\n",
      " 26  cpu5:sys  6350 non-null   float64\n",
      " 27  cpu5:idl  6350 non-null   float64\n",
      " 28  cpu5:wai  6350 non-null   int64  \n",
      " 29  cpu5:stl  6350 non-null   float64\n",
      " 30  cpu6:usr  6350 non-null   float64\n",
      " 31  cpu6:sys  6350 non-null   float64\n",
      " 32  cpu6:idl  6350 non-null   float64\n",
      " 33  cpu6:wai  6350 non-null   int64  \n",
      " 34  cpu6:stl  6350 non-null   float64\n",
      " 35  cpu7:usr  6350 non-null   float64\n",
      " 36  cpu7:sys  6350 non-null   float64\n",
      " 37  cpu7:idl  6350 non-null   float64\n",
      " 38  cpu7:wai  6350 non-null   int64  \n",
      " 39  cpu7:stl  6350 non-null   float64\n",
      " 40  cpu:usr   6350 non-null   float64\n",
      " 41  cpu:sys   6350 non-null   float64\n",
      " 42  cpu:idl   6350 non-null   float64\n",
      " 43  cpu:wai   6350 non-null   int64  \n",
      " 44  cpu:stl   6350 non-null   float64\n",
      " 45  dr        6350 non-null   float64\n",
      " 46  dw        6350 non-null   int64  \n",
      " 47  net:r     6350 non-null   int64  \n",
      " 48  net:s     6350 non-null   int64  \n",
      " 49  page:i    6350 non-null   float64\n",
      " 50  page:o    6350 non-null   float64\n",
      " 51  sys:int   6350 non-null   float64\n",
      " 52  sys:csw   0 non-null      float64\n",
      "dtypes: float64(41), int64(12)\n",
      "memory usage: 2.6 MB\n",
      "None\n"
     ]
    }
   ],
   "source": [
    "print(mc_data.info())"
   ]
  },
  {
   "cell_type": "markdown",
   "metadata": {},
   "source": [
    "* 程式大約在740sec，split完，但因為程式有context switch的關係，時間上比較無法對應到"
   ]
  },
  {
   "cell_type": "code",
   "execution_count": 100,
   "metadata": {},
   "outputs": [
    {
     "data": {
      "text/plain": [
       "<matplotlib.legend.Legend at 0x7f7233219910>"
      ]
     },
     "execution_count": 100,
     "metadata": {},
     "output_type": "execute_result"
    }
   ],
   "source": [
    "plt.figure(figsize=(140, 10))\n",
    "plt.title('Multi disk usage')\n",
    "plt.plot(range(6348), ms_data['disk:w'], label='w')\n",
    "plt.plot(range(6348), ms_data['disk:r'], label='r')\n",
    "plt.legend(bbox_to_anchor=(0.5, 0))\n"
   ]
  },
  {
   "cell_type": "code",
   "execution_count": 101,
   "metadata": {},
   "outputs": [
    {
     "data": {
      "text/plain": [
       "<matplotlib.legend.Legend at 0x7f7232e697d0>"
      ]
     },
     "execution_count": 101,
     "metadata": {},
     "output_type": "execute_result"
    }
   ],
   "source": [
    "plt.figure(figsize=(140, 10))\n",
    "plt.title('Multi io')\n",
    "plt.plot(range(6348), ms_data['io:w'], label='w')\n",
    "plt.plot(range(6348), ms_data['io:r'], label='r')\n",
    "plt.legend(bbox_to_anchor=(0.5, 0))"
   ]
  },
  {
   "cell_type": "code",
   "execution_count": 102,
   "metadata": {},
   "outputs": [],
   "source": [
    "plt.title('Multi Page I/O')\n",
    "plt.plot(range(6348), ms_data['page:i'], label='i')\n",
    "plt.plot(range(6348), ms_data['page:o'], label='o')\n",
    "plt.legend(bbox_to_anchor=(0.5, 0))\n",
    "plt.show()"
   ]
  },
  {
   "cell_type": "code",
   "execution_count": 103,
   "metadata": {},
   "outputs": [],
   "source": [
    "fig_d = plt.figure(figsize=(140, 10))\n",
    "plt.title('multi cpu usage distribution')\n",
    "plt.plot(range(6350), mc_data['cpu:usr'], label='usr')\n",
    "plt.plot(range(6350), mc_data['cpu:sys'], label='sys')\n",
    "plt.plot(range(6350), mc_data['cpu:wai'], label='wai')\n",
    "plt.plot(range(6350), mc_data['cpu:stl'], label='stl')\n",
    "plt.legend(bbox_to_anchor=(0.5, 0))\n",
    "fig_d.show()\n",
    "\n",
    "fig_c = plt.figure(figsize=(140, 10))\n",
    "plt.title('muti cpu core usage')\n",
    "plt.plot(range(6350), mc_data['cpu0:usr'], label='cpu0')\n",
    "plt.plot(range(6350), mc_data['cpu1:usr'], label='cpu1')\n",
    "plt.plot(range(6350), mc_data['cpu2:usr'], label='cpu2')\n",
    "plt.plot(range(6350), mc_data['cpu3:usr'], label='cpu3')\n",
    "plt.plot(range(6350), mc_data['cpu4:usr'], label='cpu4')\n",
    "plt.plot(range(6350), mc_data['cpu5:usr'], label='cpu5')\n",
    "plt.plot(range(6350), mc_data['cpu6:usr'], label='cpu6')\n",
    "plt.plot(range(6350), mc_data['cpu7:usr'], label='cpu7')\n",
    "plt.legend(bbox_to_anchor=(0.5, 0))\n",
    "fig_c.show()\n",
    "\n",
    "fig_t = plt.figure(figsize=(140, 10))\n",
    "plt.title('multi cpu usage')\n",
    "plt.plot(range(6350), mc_data['cpu:usr'], label='cpu')\n",
    "plt.legend(bbox_to_anchor=(0.5, 0))\n",
    "fig_t.show()\n"
   ]
  },
  {
   "cell_type": "code",
   "execution_count": 104,
   "metadata": {},
   "outputs": [],
   "source": [
    "plt.figure(figsize=(140, 10))\n",
    "plt.title('Multi memory usage')\n",
    "plt.plot(range(6348), ms_data['mem:used'], label='used')\n",
    "plt.plot(range(6348), ms_data['mem:free'], label='free')\n",
    "plt.plot(range(6348), ms_data['mem:buff'], label='buff')\n",
    "plt.plot(range(6348), ms_data['mem:cache'], label='cache')\n",
    "plt.legend(bbox_to_anchor=(0.5, 0))\n",
    "plt.show()"
   ]
  },
  {
   "cell_type": "code",
   "execution_count": 106,
   "metadata": {},
   "outputs": [],
   "source": [
    "plt.figure(figsize=(140, 10))\n",
    "plt.title('multi Interrupt')\n",
    "plt.plot(range(6348), ms_data['int:142'], label='142')\n",
    "plt.plot(range(6348), ms_data['int:143'], label='143')\n",
    "plt.plot(range(6348), ms_data['int:144'], label='144')\n",
    "plt.legend(bbox_to_anchor=(0.5, 0))\n",
    "plt.ylim(0, 100)\n",
    "plt.show()"
   ]
  },
  {
   "cell_type": "code",
   "execution_count": 108,
   "metadata": {},
   "outputs": [],
   "source": [
    "plt.figure(figsize=(140, 10))\n",
    "plt.title('Multi Swap usage')\n",
    "plt.plot(range(6348), ms_data['swap:use'], label='used')\n",
    "plt.plot(range(6348), ms_data['swap:free'], label='free')\n",
    "plt.legend(bbox_to_anchor=(0.5, 0))\n",
    "plt.show()"
   ]
  },
  {
   "cell_type": "code",
   "execution_count": 109,
   "metadata": {},
   "outputs": [],
   "source": [
    "plt.figure(figsize=(140, 10))\n",
    "plt.title('Multi System')\n",
    "plt.plot(range(6350), mc_data['sys:int'], label='int')\n",
    "plt.plot(range(6350), mc_data['sys:csw'], label='csw')\n",
    "plt.legend(bbox_to_anchor=(0.5, 0))\n",
    "plt.show()"
   ]
  },
  {
   "cell_type": "code",
   "execution_count": 110,
   "metadata": {},
   "outputs": [],
   "source": [
    "plt.figure(figsize=(140, 10))\n",
    "plt.title('Process')\n",
    "plt.plot(range(6348), ms_data['pro:run'], label='run')\n",
    "plt.plot(range(6348), ms_data['pro:new'], label='new')\n",
    "plt.plot(range(6348), ms_data['pro:blk'], label='blk')\n",
    "plt.ylim(0, 10)\n",
    "plt.legend(bbox_to_anchor=(0.5, 0))\n",
    "plt.show()"
   ]
  },
  {
   "cell_type": "markdown",
   "metadata": {},
   "source": [
    "# model"
   ]
  },
  {
   "cell_type": "code",
   "execution_count": null,
   "metadata": {},
   "outputs": [],
   "source": [
    "feature = ['slope_d', 'open_w', 'slope_w', 'Volume', 'real_w', 'High Price', 'Open Price', 'Low Price']\n",
    "train_x = data[:len(train_csv)][feature]\n",
    "train_y = label[:len(train_csv)]\n",
    "\n",
    "test_x = data[len(train_csv):][feature]\n",
    "test_y = label[:len(test_csv)]\n",
    "print(train_x.head())\n",
    "\n",
    "from sklearn.linear_model import LogisticRegression\n",
    "logreg = LogisticRegression()\n",
    "clf = GridSearchCV(logreg, parameters, n_jobs=5,\n",
    "                        refit=True)\n",
    "clf.fit(train_x, train_y)\n",
    "predict_y = clf.predict(test_x)\n",
    "print(predict_y)\n",
    "print(clf.score(test_x, test_y))\n",
    "print(clf.best_params_)"
   ]
  }
 ],
 "metadata": {
  "kernelspec": {
   "display_name": "Python 3",
   "language": "python",
   "name": "python3"
  },
  "language_info": {
   "codemirror_mode": {
    "name": "ipython",
    "version": 3
   },
   "file_extension": ".py",
   "mimetype": "text/x-python",
   "name": "python",
   "nbconvert_exporter": "python",
   "pygments_lexer": "ipython3",
   "version": "3.7.6"
  }
 },
 "nbformat": 4,
 "nbformat_minor": 4
}
