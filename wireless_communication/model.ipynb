{
 "cells": [
  {
   "cell_type": "code",
   "execution_count": 1,
   "metadata": {},
   "outputs": [],
   "source": [
    "import matplotlib.pyplot as plt\n",
    "import numpy as np\n",
    "import pandas as pd\n",
    "import math\n",
    "from tqdm import tqdm\n",
    "import random"
   ]
  },
  {
   "cell_type": "code",
   "execution_count": 2,
   "metadata": {},
   "outputs": [],
   "source": [
    "S = [1, 5, 10]\n",
    "Q = [0, 1, 5, 10]\n",
    "lam = [0.01, 0.1, 1, 10]\n",
    "mu = [0.01, 0.04, 0.16, 0.64, 2.56, 10.24]"
   ]
  },
  {
   "cell_type": "code",
   "execution_count": 3,
   "metadata": {},
   "outputs": [],
   "source": [
    "def pos(t, lam):\n",
    "#     return 1-math.exp(-lam*t)\n",
    "    return lam * math.exp(-lam*t)\n"
   ]
  },
  {
   "cell_type": "code",
   "execution_count": 4,
   "metadata": {},
   "outputs": [],
   "source": [
    "def sim2(prob):\n",
    "    poll = np.arange(1, 10001)\n",
    "    select = np.random.choice(poll)\n",
    "    return select <= prob*10000"
   ]
  },
  {
   "cell_type": "code",
   "execution_count": 22,
   "metadata": {},
   "outputs": [],
   "source": [
    "def sim(pos):\n",
    "    return random.random() < pos"
   ]
  },
  {
   "cell_type": "code",
   "execution_count": 51,
   "metadata": {},
   "outputs": [
    {
     "name": "stdout",
     "output_type": "stream",
     "text": [
      "1.0000000000000007\n",
      "952\n"
     ]
    },
    {
     "data": {
      "image/png": "[encoded data removed]",
      "text/plain": [
       "<Figure size 432x288 with 1 Axes>"
      ]
     },
     "metadata": {
      "needs_background": "light"
     },
     "output_type": "display_data"
    }
   ],
   "source": [
    "plt.plot([i for i in range(100)], [pos(0, 0.01) for i in range(100)])\n",
    "count = 0\n",
    "come = 0\n",
    "\n",
    "for i in range(100):\n",
    "    count += pos(0, 0.01)\n",
    "print(count)\n",
    "\n",
    "time_count = 0\n",
    "for i in range(100000):\n",
    "    time_count += 1\n",
    "    if(sim(pos(0, 0.01))):\n",
    "#         print(\"happen in \",time_count)\n",
    "        come += 1\n",
    "        time_count = 0\n",
    "\n",
    "print(come)"
   ]
  },
  {
   "cell_type": "code",
   "execution_count": 143,
   "metadata": {
    "scrolled": true
   },
   "outputs": [
    {
     "name": "stdout",
     "output_type": "stream",
     "text": [
      "13\n",
      "5\n",
      "38.46153846153847 %\n",
      "0.38461538461538464\n"
     ]
    }
   ],
   "source": [
    "arrival_num = 0\n",
    "block_num = 0\n",
    "queue_num = 0\n",
    "server_num = 0\n",
    "\n",
    "q = 0\n",
    "s = 1\n",
    "lam = 0.01\n",
    "mu = 0.04\n",
    "time = 0\n",
    "\n",
    "lam /= 100\n",
    "mu /= 100\n",
    "\n",
    "time_count = np.zeros(s+1)\n",
    "leav_prob = np.zeros(s)\n",
    "server_count = np.zeros(s)\n",
    "\n",
    "\n",
    "\n",
    "for runtime in range(100000):\n",
    "\n",
    "    for i in range(s):\n",
    "        if(server_count[i] == 1):\n",
    "            #cal leaving prob.\n",
    "            leav_prob[i] = mu\n",
    "            #check leave\n",
    "            if(sim(leav_prob[i])):\n",
    "                if(queue_num > 0):\n",
    "                    queue_num -= 1\n",
    "                server_num -= 1  \n",
    "                #add deaparture\n",
    "                server_count[i] = 0\n",
    "    #cal arrival prob.\n",
    "    arrival_prob = lam\n",
    "\n",
    "    #check arriavl\n",
    "    if(sim(arrival_prob)):\n",
    "        arrival_num +=1\n",
    "        #check block\n",
    "        if(queue_num+server_num > s+q-1):\n",
    "            block_num += 1\n",
    "        else:\n",
    "        #check arrive\n",
    "            if(server_num < s):\n",
    "                for i in range(s):\n",
    "                    if(server_count[i] == 0):\n",
    "                        server_count[i] = 1\n",
    "                        server_num += 1\n",
    "                        break\n",
    "            elif(queue_num < q):\n",
    "                 queue_num += 1\n",
    "            else:\n",
    "                print(\"arrival but no where to go\")\n",
    "\n",
    "    \n",
    "\n",
    "    time += 1\n",
    "    \n",
    "    \n",
    "print(arrival_num)\n",
    "print(block_num)\n",
    "if(block_num != 0):\n",
    "    print(block_num/arrival_num*100, \"%\")\n",
    "    print(block_num/arrival_num)\n",
    "else:\n",
    "    print(\"0\")"
   ]
  },
  {
   "cell_type": "code",
   "execution_count": 33,
   "metadata": {},
   "outputs": [],
   "source": [
    "def experiment(s, q, l, m):\n",
    "    time = 0\n",
    "    arrival_num = 0\n",
    "    block_num = 0\n",
    "    queue_num = 0\n",
    "    server_num = 0\n",
    "    \n",
    "\n",
    "    leav_prob = np.zeros(s)\n",
    "    server_count = np.zeros(s)\n",
    "\n",
    "    for runtime in range(1000000):\n",
    "        for i in range(s):\n",
    "            if(server_count[i] == 1):\n",
    "                #cal leaving prob.\n",
    "                leav_prob[i] = m\n",
    "                #check leave\n",
    "                if(sim(leav_prob[i])):\n",
    "                    if(queue_num > 0):\n",
    "                        queue_num -= 1\n",
    "                    server_num -= 1  \n",
    "                    #add deaparture\n",
    "                    server_count[i] = 0\n",
    "                    \n",
    "        #cal arrival prob.\n",
    "        arrival_prob = l\n",
    "        #check arriavl\n",
    "        if(sim(arrival_prob)):\n",
    "            arrival_num +=1\n",
    "            #check block\n",
    "            if(queue_num+server_num > s+q-1):\n",
    "                block_num += 1\n",
    "            else:\n",
    "            #check arrive\n",
    "                if(server_num < s):\n",
    "                    for i in range(s):\n",
    "                        if(server_count[i] == 0):\n",
    "                            server_count[i] = 1\n",
    "                            server_num += 1\n",
    "                            break\n",
    "                elif(queue_num < q):\n",
    "                     queue_num += 1\n",
    "                else:\n",
    "                    print(\"arrival but no where to go\")\n",
    "\n",
    "\n",
    "\n",
    "        time += 1\n",
    "\n",
    "\n",
    "    if(block_num != 0):\n",
    "#             print(block_num/arrival_num*100, \"%\")\n",
    "        return (block_num/arrival_num)\n",
    "    else:\n",
    "        return 0"
   ]
  },
  {
   "cell_type": "code",
   "execution_count": 30,
   "metadata": {},
   "outputs": [
    {
     "name": "stdout",
     "output_type": "stream",
     "text": [
      "29803\n",
      "15674\n",
      "0.5259202093748951\n"
     ]
    }
   ],
   "source": [
    "print(experiment(2, 0, 0.03, 0.01))"
   ]
  },
  {
   "cell_type": "code",
   "execution_count": 34,
   "metadata": {},
   "outputs": [
    {
     "name": "stderr",
     "output_type": "stream",
     "text": [
      "\r",
      "  0%|          | 0/3 [00:00<?, ?it/s]"
     ]
    },
    {
     "name": "stdout",
     "output_type": "stream",
     "text": [
      "Q  0 S  1 lam  0.01 mu  0.01 Er 1.0\n",
      "Q  0 S  1 lam  0.01 mu  0.04 Er 0.25\n",
      "Q  0 S  1 lam  0.01 mu  0.16 Er 0.0625\n",
      "Q  0 S  1 lam  0.01 mu  0.64 Er 0.015625\n",
      "Q  0 S  1 lam  0.01 mu  2.56 Er 0.00390625\n",
      "Q  0 S  1 lam  0.01 mu  10.24 Er 0.0009765625\n",
      "Q  0 S  1 lam  0.1 mu  0.01 Er 10.0\n",
      "Q  0 S  1 lam  0.1 mu  0.04 Er 2.5\n",
      "Q  0 S  1 lam  0.1 mu  0.16 Er 0.625\n",
      "Q  0 S  1 lam  0.1 mu  0.64 Er 0.15625\n",
      "Q  0 S  1 lam  0.1 mu  2.56 Er 0.0390625\n",
      "Q  0 S  1 lam  0.1 mu  10.24 Er 0.009765625\n",
      "Q  0 S  1 lam  1.0 mu  0.01 Er 100.0\n",
      "Q  0 S  1 lam  1.0 mu  0.04 Er 25.0\n",
      "Q  0 S  1 lam  1.0 mu  0.16 Er 6.25\n",
      "Q  0 S  1 lam  1.0 mu  0.64 Er 1.5625\n",
      "Q  0 S  1 lam  1.0 mu  2.56 Er 0.390625\n",
      "Q  0 S  1 lam  1.0 mu  10.24 Er 0.09765625\n",
      "Q  0 S  1 lam  10.0 mu  0.01 Er 1000.0\n",
      "Q  0 S  1 lam  10.0 mu  0.04 Er 250.0\n",
      "Q  0 S  1 lam  10.0 mu  0.16 Er 62.5\n",
      "Q  0 S  1 lam  10.0 mu  0.64 Er 15.625\n",
      "Q  0 S  1 lam  10.0 mu  2.56 Er 3.90625\n",
      "Q  0 S  1 lam  10.0 mu  10.24 Er 0.9765625\n",
      "Q  1 S  1 lam  0.01 mu  0.01 Er 1.0\n",
      "Q  1 S  1 lam  0.01 mu  0.04 Er 0.25\n",
      "Q  1 S  1 lam  0.01 mu  0.16 Er 0.0625\n",
      "Q  1 S  1 lam  0.01 mu  0.64 Er 0.015625\n",
      "Q  1 S  1 lam  0.01 mu  2.56 Er 0.00390625\n",
      "Q  1 S  1 lam  0.01 mu  10.24 Er 0.0009765625\n",
      "Q  1 S  1 lam  0.1 mu  0.01 Er 10.0\n",
      "Q  1 S  1 lam  0.1 mu  0.04 Er 2.5\n",
      "Q  1 S  1 lam  0.1 mu  0.16 Er 0.625\n",
      "Q  1 S  1 lam  0.1 mu  0.64 Er 0.15625\n",
      "Q  1 S  1 lam  0.1 mu  2.56 Er 0.0390625\n",
      "Q  1 S  1 lam  0.1 mu  10.24 Er 0.009765625\n",
      "Q  1 S  1 lam  1.0 mu  0.01 Er 100.0\n",
      "Q  1 S  1 lam  1.0 mu  0.04 Er 25.0\n",
      "Q  1 S  1 lam  1.0 mu  0.16 Er 6.25\n",
      "Q  1 S  1 lam  1.0 mu  0.64 Er 1.5625\n",
      "Q  1 S  1 lam  1.0 mu  2.56 Er 0.390625\n",
      "Q  1 S  1 lam  1.0 mu  10.24 Er 0.09765625\n",
      "Q  1 S  1 lam  10.0 mu  0.01 Er 1000.0\n",
      "Q  1 S  1 lam  10.0 mu  0.04 Er 250.0\n",
      "Q  1 S  1 lam  10.0 mu  0.16 Er 62.5\n",
      "Q  1 S  1 lam  10.0 mu  0.64 Er 15.625\n",
      "Q  1 S  1 lam  10.0 mu  2.56 Er 3.90625\n",
      "Q  1 S  1 lam  10.0 mu  10.24 Er 0.9765625\n",
      "Q  5 S  1 lam  0.01 mu  0.01 Er 1.0\n",
      "Q  5 S  1 lam  0.01 mu  0.04 Er 0.25\n",
      "Q  5 S  1 lam  0.01 mu  0.16 Er 0.0625\n",
      "Q  5 S  1 lam  0.01 mu  0.64 Er 0.015625\n",
      "Q  5 S  1 lam  0.01 mu  2.56 Er 0.00390625\n",
      "Q  5 S  1 lam  0.01 mu  10.24 Er 0.0009765625\n",
      "Q  5 S  1 lam  0.1 mu  0.01 Er 10.0\n",
      "Q  5 S  1 lam  0.1 mu  0.04 Er 2.5\n",
      "Q  5 S  1 lam  0.1 mu  0.16 Er 0.625\n",
      "Q  5 S  1 lam  0.1 mu  0.64 Er 0.15625\n",
      "Q  5 S  1 lam  0.1 mu  2.56 Er 0.0390625\n",
      "Q  5 S  1 lam  0.1 mu  10.24 Er 0.009765625\n",
      "Q  5 S  1 lam  1.0 mu  0.01 Er 100.0\n",
      "Q  5 S  1 lam  1.0 mu  0.04 Er 25.0\n",
      "Q  5 S  1 lam  1.0 mu  0.16 Er 6.25\n",
      "Q  5 S  1 lam  1.0 mu  0.64 Er 1.5625\n",
      "Q  5 S  1 lam  1.0 mu  2.56 Er 0.390625\n",
      "Q  5 S  1 lam  1.0 mu  10.24 Er 0.09765625\n",
      "Q  5 S  1 lam  10.0 mu  0.01 Er 1000.0\n",
      "Q  5 S  1 lam  10.0 mu  0.04 Er 250.0\n",
      "Q  5 S  1 lam  10.0 mu  0.16 Er 62.5\n",
      "Q  5 S  1 lam  10.0 mu  0.64 Er 15.625\n",
      "Q  5 S  1 lam  10.0 mu  2.56 Er 3.90625\n",
      "Q  5 S  1 lam  10.0 mu  10.24 Er 0.9765625\n",
      "Q  10 S  1 lam  0.01 mu  0.01 Er 1.0\n",
      "Q  10 S  1 lam  0.01 mu  0.04 Er 0.25\n",
      "Q  10 S  1 lam  0.01 mu  0.16 Er 0.0625\n",
      "Q  10 S  1 lam  0.01 mu  0.64 Er 0.015625\n",
      "Q  10 S  1 lam  0.01 mu  2.56 Er 0.00390625\n",
      "Q  10 S  1 lam  0.01 mu  10.24 Er 0.0009765625\n",
      "Q  10 S  1 lam  0.1 mu  0.01 Er 10.0\n",
      "Q  10 S  1 lam  0.1 mu  0.04 Er 2.5\n",
      "Q  10 S  1 lam  0.1 mu  0.16 Er 0.625\n",
      "Q  10 S  1 lam  0.1 mu  0.64 Er 0.15625\n",
      "Q  10 S  1 lam  0.1 mu  2.56 Er 0.0390625\n",
      "Q  10 S  1 lam  0.1 mu  10.24 Er 0.009765625\n",
      "Q  10 S  1 lam  1.0 mu  0.01 Er 100.0\n",
      "Q  10 S  1 lam  1.0 mu  0.04 Er 25.0\n",
      "Q  10 S  1 lam  1.0 mu  0.16 Er 6.25\n",
      "Q  10 S  1 lam  1.0 mu  0.64 Er 1.5625\n",
      "Q  10 S  1 lam  1.0 mu  2.56 Er 0.390625\n",
      "Q  10 S  1 lam  1.0 mu  10.24 Er 0.09765625\n",
      "Q  10 S  1 lam  10.0 mu  0.01 Er 1000.0\n",
      "Q  10 S  1 lam  10.0 mu  0.04 Er 250.0\n",
      "Q  10 S  1 lam  10.0 mu  0.16 Er 62.5\n",
      "Q  10 S  1 lam  10.0 mu  0.64 Er 15.625\n",
      "Q  10 S  1 lam  10.0 mu  2.56 Er 3.90625\n"
     ]
    },
    {
     "name": "stderr",
     "output_type": "stream",
     "text": [
      "\r",
      " 33%|███▎      | 1/3 [15:11<30:23, 911.93s/it]"
     ]
    },
    {
     "name": "stdout",
     "output_type": "stream",
     "text": [
      "Q  10 S  1 lam  10.0 mu  10.24 Er 0.9765625\n",
      "Q  0 S  5 lam  0.01 mu  0.01 Er 1.0\n",
      "Q  0 S  5 lam  0.01 mu  0.04 Er 0.25\n",
      "Q  0 S  5 lam  0.01 mu  0.16 Er 0.0625\n",
      "Q  0 S  5 lam  0.01 mu  0.64 Er 0.015625\n",
      "Q  0 S  5 lam  0.01 mu  2.56 Er 0.00390625\n",
      "Q  0 S  5 lam  0.01 mu  10.24 Er 0.0009765625\n",
      "Q  0 S  5 lam  0.1 mu  0.01 Er 10.0\n",
      "Q  0 S  5 lam  0.1 mu  0.04 Er 2.5\n",
      "Q  0 S  5 lam  0.1 mu  0.16 Er 0.625\n",
      "Q  0 S  5 lam  0.1 mu  0.64 Er 0.15625\n",
      "Q  0 S  5 lam  0.1 mu  2.56 Er 0.0390625\n",
      "Q  0 S  5 lam  0.1 mu  10.24 Er 0.009765625\n",
      "Q  0 S  5 lam  1.0 mu  0.01 Er 100.0\n",
      "Q  0 S  5 lam  1.0 mu  0.04 Er 25.0\n",
      "Q  0 S  5 lam  1.0 mu  0.16 Er 6.25\n",
      "Q  0 S  5 lam  1.0 mu  0.64 Er 1.5625\n",
      "Q  0 S  5 lam  1.0 mu  2.56 Er 0.390625\n",
      "Q  0 S  5 lam  1.0 mu  10.24 Er 0.09765625\n",
      "Q  0 S  5 lam  10.0 mu  0.01 Er 1000.0\n",
      "Q  0 S  5 lam  10.0 mu  0.04 Er 250.0\n",
      "Q  0 S  5 lam  10.0 mu  0.16 Er 62.5\n",
      "Q  0 S  5 lam  10.0 mu  0.64 Er 15.625\n",
      "Q  0 S  5 lam  10.0 mu  2.56 Er 3.90625\n",
      "Q  0 S  5 lam  10.0 mu  10.24 Er 0.9765625\n",
      "Q  1 S  5 lam  0.01 mu  0.01 Er 1.0\n",
      "Q  1 S  5 lam  0.01 mu  0.04 Er 0.25\n",
      "Q  1 S  5 lam  0.01 mu  0.16 Er 0.0625\n",
      "Q  1 S  5 lam  0.01 mu  0.64 Er 0.015625\n",
      "Q  1 S  5 lam  0.01 mu  2.56 Er 0.00390625\n",
      "Q  1 S  5 lam  0.01 mu  10.24 Er 0.0009765625\n",
      "Q  1 S  5 lam  0.1 mu  0.01 Er 10.0\n",
      "Q  1 S  5 lam  0.1 mu  0.04 Er 2.5\n",
      "Q  1 S  5 lam  0.1 mu  0.16 Er 0.625\n",
      "Q  1 S  5 lam  0.1 mu  0.64 Er 0.15625\n",
      "Q  1 S  5 lam  0.1 mu  2.56 Er 0.0390625\n",
      "Q  1 S  5 lam  0.1 mu  10.24 Er 0.009765625\n",
      "Q  1 S  5 lam  1.0 mu  0.01 Er 100.0\n",
      "Q  1 S  5 lam  1.0 mu  0.04 Er 25.0\n",
      "Q  1 S  5 lam  1.0 mu  0.16 Er 6.25\n",
      "Q  1 S  5 lam  1.0 mu  0.64 Er 1.5625\n",
      "Q  1 S  5 lam  1.0 mu  2.56 Er 0.390625\n",
      "Q  1 S  5 lam  1.0 mu  10.24 Er 0.09765625\n",
      "Q  1 S  5 lam  10.0 mu  0.01 Er 1000.0\n",
      "Q  1 S  5 lam  10.0 mu  0.04 Er 250.0\n",
      "Q  1 S  5 lam  10.0 mu  0.16 Er 62.5\n",
      "Q  1 S  5 lam  10.0 mu  0.64 Er 15.625\n",
      "Q  1 S  5 lam  10.0 mu  2.56 Er 3.90625\n",
      "Q  1 S  5 lam  10.0 mu  10.24 Er 0.9765625\n",
      "Q  5 S  5 lam  0.01 mu  0.01 Er 1.0\n",
      "Q  5 S  5 lam  0.01 mu  0.04 Er 0.25\n",
      "Q  5 S  5 lam  0.01 mu  0.16 Er 0.0625\n",
      "Q  5 S  5 lam  0.01 mu  0.64 Er 0.015625\n",
      "Q  5 S  5 lam  0.01 mu  2.56 Er 0.00390625\n",
      "Q  5 S  5 lam  0.01 mu  10.24 Er 0.0009765625\n",
      "Q  5 S  5 lam  0.1 mu  0.01 Er 10.0\n",
      "Q  5 S  5 lam  0.1 mu  0.04 Er 2.5\n",
      "Q  5 S  5 lam  0.1 mu  0.16 Er 0.625\n",
      "Q  5 S  5 lam  0.1 mu  0.64 Er 0.15625\n",
      "Q  5 S  5 lam  0.1 mu  2.56 Er 0.0390625\n",
      "Q  5 S  5 lam  0.1 mu  10.24 Er 0.009765625\n",
      "Q  5 S  5 lam  1.0 mu  0.01 Er 100.0\n",
      "Q  5 S  5 lam  1.0 mu  0.04 Er 25.0\n",
      "Q  5 S  5 lam  1.0 mu  0.16 Er 6.25\n",
      "Q  5 S  5 lam  1.0 mu  0.64 Er 1.5625\n",
      "Q  5 S  5 lam  1.0 mu  2.56 Er 0.390625\n",
      "Q  5 S  5 lam  1.0 mu  10.24 Er 0.09765625\n",
      "Q  5 S  5 lam  10.0 mu  0.01 Er 1000.0\n",
      "Q  5 S  5 lam  10.0 mu  0.04 Er 250.0\n",
      "Q  5 S  5 lam  10.0 mu  0.16 Er 62.5\n",
      "Q  5 S  5 lam  10.0 mu  0.64 Er 15.625\n",
      "Q  5 S  5 lam  10.0 mu  2.56 Er 3.90625\n",
      "Q  5 S  5 lam  10.0 mu  10.24 Er 0.9765625\n",
      "Q  10 S  5 lam  0.01 mu  0.01 Er 1.0\n",
      "Q  10 S  5 lam  0.01 mu  0.04 Er 0.25\n",
      "Q  10 S  5 lam  0.01 mu  0.16 Er 0.0625\n",
      "Q  10 S  5 lam  0.01 mu  0.64 Er 0.015625\n",
      "Q  10 S  5 lam  0.01 mu  2.56 Er 0.00390625\n",
      "Q  10 S  5 lam  0.01 mu  10.24 Er 0.0009765625\n",
      "Q  10 S  5 lam  0.1 mu  0.01 Er 10.0\n",
      "Q  10 S  5 lam  0.1 mu  0.04 Er 2.5\n",
      "Q  10 S  5 lam  0.1 mu  0.16 Er 0.625\n",
      "Q  10 S  5 lam  0.1 mu  0.64 Er 0.15625\n",
      "Q  10 S  5 lam  0.1 mu  2.56 Er 0.0390625\n",
      "Q  10 S  5 lam  0.1 mu  10.24 Er 0.009765625\n",
      "Q  10 S  5 lam  1.0 mu  0.01 Er 100.0\n",
      "Q  10 S  5 lam  1.0 mu  0.04 Er 25.0\n",
      "Q  10 S  5 lam  1.0 mu  0.16 Er 6.25\n",
      "Q  10 S  5 lam  1.0 mu  0.64 Er 1.5625\n",
      "Q  10 S  5 lam  1.0 mu  2.56 Er 0.390625\n",
      "Q  10 S  5 lam  1.0 mu  10.24 Er 0.09765625\n",
      "Q  10 S  5 lam  10.0 mu  0.01 Er 1000.0\n",
      "Q  10 S  5 lam  10.0 mu  0.04 Er 250.0\n",
      "Q  10 S  5 lam  10.0 mu  0.16 Er 62.5\n",
      "Q  10 S  5 lam  10.0 mu  0.64 Er 15.625\n",
      "Q  10 S  5 lam  10.0 mu  2.56 Er 3.90625\n"
     ]
    },
    {
     "name": "stderr",
     "output_type": "stream",
     "text": [
      "\r",
      " 67%|██████▋   | 2/3 [1:00:29<24:13, 1453.70s/it]"
     ]
    },
    {
     "name": "stdout",
     "output_type": "stream",
     "text": [
      "Q  10 S  5 lam  10.0 mu  10.24 Er 0.9765625\n",
      "Q  0 S  10 lam  0.01 mu  0.01 Er 1.0\n",
      "Q  0 S  10 lam  0.01 mu  0.04 Er 0.25\n",
      "Q  0 S  10 lam  0.01 mu  0.16 Er 0.0625\n",
      "Q  0 S  10 lam  0.01 mu  0.64 Er 0.015625\n",
      "Q  0 S  10 lam  0.01 mu  2.56 Er 0.00390625\n",
      "Q  0 S  10 lam  0.01 mu  10.24 Er 0.0009765625\n",
      "Q  0 S  10 lam  0.1 mu  0.01 Er 10.0\n",
      "Q  0 S  10 lam  0.1 mu  0.04 Er 2.5\n",
      "Q  0 S  10 lam  0.1 mu  0.16 Er 0.625\n",
      "Q  0 S  10 lam  0.1 mu  0.64 Er 0.15625\n",
      "Q  0 S  10 lam  0.1 mu  2.56 Er 0.0390625\n",
      "Q  0 S  10 lam  0.1 mu  10.24 Er 0.009765625\n",
      "Q  0 S  10 lam  1.0 mu  0.01 Er 100.0\n",
      "Q  0 S  10 lam  1.0 mu  0.04 Er 25.0\n",
      "Q  0 S  10 lam  1.0 mu  0.16 Er 6.25\n",
      "Q  0 S  10 lam  1.0 mu  0.64 Er 1.5625\n",
      "Q  0 S  10 lam  1.0 mu  2.56 Er 0.390625\n",
      "Q  0 S  10 lam  1.0 mu  10.24 Er 0.09765625\n",
      "Q  0 S  10 lam  10.0 mu  0.01 Er 1000.0\n",
      "Q  0 S  10 lam  10.0 mu  0.04 Er 250.0\n",
      "Q  0 S  10 lam  10.0 mu  0.16 Er 62.5\n",
      "Q  0 S  10 lam  10.0 mu  0.64 Er 15.625\n",
      "Q  0 S  10 lam  10.0 mu  2.56 Er 3.90625\n",
      "Q  0 S  10 lam  10.0 mu  10.24 Er 0.9765625\n",
      "Q  1 S  10 lam  0.01 mu  0.01 Er 1.0\n",
      "Q  1 S  10 lam  0.01 mu  0.04 Er 0.25\n",
      "Q  1 S  10 lam  0.01 mu  0.16 Er 0.0625\n",
      "Q  1 S  10 lam  0.01 mu  0.64 Er 0.015625\n",
      "Q  1 S  10 lam  0.01 mu  2.56 Er 0.00390625\n",
      "Q  1 S  10 lam  0.01 mu  10.24 Er 0.0009765625\n",
      "Q  1 S  10 lam  0.1 mu  0.01 Er 10.0\n",
      "Q  1 S  10 lam  0.1 mu  0.04 Er 2.5\n",
      "Q  1 S  10 lam  0.1 mu  0.16 Er 0.625\n",
      "Q  1 S  10 lam  0.1 mu  0.64 Er 0.15625\n",
      "Q  1 S  10 lam  0.1 mu  2.56 Er 0.0390625\n",
      "Q  1 S  10 lam  0.1 mu  10.24 Er 0.009765625\n",
      "Q  1 S  10 lam  1.0 mu  0.01 Er 100.0\n",
      "Q  1 S  10 lam  1.0 mu  0.04 Er 25.0\n",
      "Q  1 S  10 lam  1.0 mu  0.16 Er 6.25\n",
      "Q  1 S  10 lam  1.0 mu  0.64 Er 1.5625\n",
      "Q  1 S  10 lam  1.0 mu  2.56 Er 0.390625\n",
      "Q  1 S  10 lam  1.0 mu  10.24 Er 0.09765625\n",
      "Q  1 S  10 lam  10.0 mu  0.01 Er 1000.0\n",
      "Q  1 S  10 lam  10.0 mu  0.04 Er 250.0\n",
      "Q  1 S  10 lam  10.0 mu  0.16 Er 62.5\n",
      "Q  1 S  10 lam  10.0 mu  0.64 Er 15.625\n",
      "Q  1 S  10 lam  10.0 mu  2.56 Er 3.90625\n",
      "Q  1 S  10 lam  10.0 mu  10.24 Er 0.9765625\n",
      "Q  5 S  10 lam  0.01 mu  0.01 Er 1.0\n",
      "Q  5 S  10 lam  0.01 mu  0.04 Er 0.25\n",
      "Q  5 S  10 lam  0.01 mu  0.16 Er 0.0625\n",
      "Q  5 S  10 lam  0.01 mu  0.64 Er 0.015625\n",
      "Q  5 S  10 lam  0.01 mu  2.56 Er 0.00390625\n",
      "Q  5 S  10 lam  0.01 mu  10.24 Er 0.0009765625\n",
      "Q  5 S  10 lam  0.1 mu  0.01 Er 10.0\n",
      "Q  5 S  10 lam  0.1 mu  0.04 Er 2.5\n",
      "Q  5 S  10 lam  0.1 mu  0.16 Er 0.625\n",
      "Q  5 S  10 lam  0.1 mu  0.64 Er 0.15625\n",
      "Q  5 S  10 lam  0.1 mu  2.56 Er 0.0390625\n",
      "Q  5 S  10 lam  0.1 mu  10.24 Er 0.009765625\n",
      "Q  5 S  10 lam  1.0 mu  0.01 Er 100.0\n",
      "Q  5 S  10 lam  1.0 mu  0.04 Er 25.0\n",
      "Q  5 S  10 lam  1.0 mu  0.16 Er 6.25\n",
      "Q  5 S  10 lam  1.0 mu  0.64 Er 1.5625\n",
      "Q  5 S  10 lam  1.0 mu  2.56 Er 0.390625\n",
      "Q  5 S  10 lam  1.0 mu  10.24 Er 0.09765625\n",
      "Q  5 S  10 lam  10.0 mu  0.01 Er 1000.0\n",
      "Q  5 S  10 lam  10.0 mu  0.04 Er 250.0\n",
      "Q  5 S  10 lam  10.0 mu  0.16 Er 62.5\n",
      "Q  5 S  10 lam  10.0 mu  0.64 Er 15.625\n",
      "Q  5 S  10 lam  10.0 mu  2.56 Er 3.90625\n",
      "Q  5 S  10 lam  10.0 mu  10.24 Er 0.9765625\n",
      "Q  10 S  10 lam  0.01 mu  0.01 Er 1.0\n",
      "Q  10 S  10 lam  0.01 mu  0.04 Er 0.25\n",
      "Q  10 S  10 lam  0.01 mu  0.16 Er 0.0625\n",
      "Q  10 S  10 lam  0.01 mu  0.64 Er 0.015625\n",
      "Q  10 S  10 lam  0.01 mu  2.56 Er 0.00390625\n",
      "Q  10 S  10 lam  0.01 mu  10.24 Er 0.0009765625\n",
      "Q  10 S  10 lam  0.1 mu  0.01 Er 10.0\n",
      "Q  10 S  10 lam  0.1 mu  0.04 Er 2.5\n",
      "Q  10 S  10 lam  0.1 mu  0.16 Er 0.625\n",
      "Q  10 S  10 lam  0.1 mu  0.64 Er 0.15625\n",
      "Q  10 S  10 lam  0.1 mu  2.56 Er 0.0390625\n",
      "Q  10 S  10 lam  0.1 mu  10.24 Er 0.009765625\n",
      "Q  10 S  10 lam  1.0 mu  0.01 Er 100.0\n",
      "Q  10 S  10 lam  1.0 mu  0.04 Er 25.0\n",
      "Q  10 S  10 lam  1.0 mu  0.16 Er 6.25\n",
      "Q  10 S  10 lam  1.0 mu  0.64 Er 1.5625\n",
      "Q  10 S  10 lam  1.0 mu  2.56 Er 0.390625\n",
      "Q  10 S  10 lam  1.0 mu  10.24 Er 0.09765625\n",
      "Q  10 S  10 lam  10.0 mu  0.01 Er 1000.0\n",
      "Q  10 S  10 lam  10.0 mu  0.04 Er 250.0\n",
      "Q  10 S  10 lam  10.0 mu  0.16 Er 62.5\n",
      "Q  10 S  10 lam  10.0 mu  0.64 Er 15.625\n",
      "Q  10 S  10 lam  10.0 mu  2.56 Er 3.90625\n"
     ]
    },
    {
     "name": "stderr",
     "output_type": "stream",
     "text": [
      "100%|██████████| 3/3 [2:18:54<00:00, 2778.06s/it]"
     ]
    },
    {
     "name": "stdout",
     "output_type": "stream",
     "text": [
      "Q  10 S  10 lam  10.0 mu  10.24 Er 0.9765625\n"
     ]
    },
    {
     "name": "stderr",
     "output_type": "stream",
     "text": [
      "\n"
     ]
    }
   ],
   "source": [
    "columns = [\"BP_\"+str(i) for i in range(1, 25)]\n",
    "count = 0\n",
    "for s in tqdm(S):\n",
    "    for q in Q:\n",
    "        bp_l = np.zeros(0)\n",
    "        er = np.zeros(0)\n",
    "        for l in lam:\n",
    "            l /= 100\n",
    "            for m in mu:\n",
    "                #10^-2 sec to one time unit\n",
    "                m /= 100\n",
    "                bp = np.zeros(0)\n",
    "                for epoch in range(10):\n",
    "                    bp_n = experiment(s, q, l, m)\n",
    "                    bp = np.append(bp, bp_n)\n",
    "\n",
    "#                     event_table = pd.DataFrame({\"Time unit\":time_unit, \"Arrival\":arrival, \"Departure\":departure, \"Blocked\":blocked})\n",
    "#                     status_table = pd.DataFrame({\"# of queue\":[q], \"# of server\":[s], \"lambda\":[l], \"mue\":[m]})\n",
    "#                     status_table.to_csv('event_table.csv', index=False, mode='a')\n",
    "#                     event_table.to_csv('event_table.csv', index=False, mode='a')\n",
    "#             print(bp_l.shape)\n",
    "#             print(er.shape)\n",
    "                print(\"Q \",q,\"S \", s,\"lam \", l*100,\"mu \", m*100, \"Er\", l/m)\n",
    "                er = np.append(er, l/m)\n",
    "                bp_l = np.append(bp_l, bp.mean())\n",
    "\n",
    "        if(q==0):\n",
    "            blocking_probability_table_Q0 = pd.DataFrame([er, bp_l],index=['Erlang', s], columns=columns)\n",
    "            blocking_probability_table_Q0.to_csv('blocking_probability_table_Q0.csv', mode='a')\n",
    "        else:\n",
    "            blocking_probability_table_QS = pd.DataFrame([er, bp_l],index=['Erlang', s], columns=columns)\n",
    "            blocking_probability_table_QS.to_csv('blocking_probability_table_QS.csv', mode='a')\n"
   ]
  },
  {
   "cell_type": "code",
   "execution_count": 107,
   "metadata": {
    "scrolled": true
   },
   "outputs": [
    {
     "name": "stdout",
     "output_type": "stream",
     "text": [
      "       Time unit  Arrival  Departure  Blocked\n",
      "0              0      0.0        0.0      0.0\n",
      "1              1      0.0        0.0      0.0\n",
      "2              2      0.0        0.0      0.0\n",
      "3              3      0.0        0.0      0.0\n",
      "4              4      0.0        0.0      0.0\n",
      "...          ...      ...        ...      ...\n",
      "99995      99995      0.0        0.0      0.0\n",
      "99996      99996      0.0        0.0      0.0\n",
      "99997      99997      0.0        0.0      0.0\n",
      "99998      99998      0.0        0.0      0.0\n",
      "99999      99999      1.0        0.0      0.0\n",
      "\n",
      "[100000 rows x 4 columns]\n"
     ]
    }
   ],
   "source": [
    "event_table = pd.DataFrame({\"Time unit\":time_unit, \"Arrival\":arrival, \"Departure\":departure, \"Blocked\":blocked})\n",
    "status_table = pd.DataFrame({\"# of queue\":[Q], \"# of server\":[S], \"lambda\":[lam], \"mue\":[mu]})\n",
    "status_table.to_csv('event_table.csv', index=False, mode='a')\n",
    "event_table.to_csv('event_table.csv', index=False, mode='a')"
   ]
  },
  {
   "cell_type": "code",
   "execution_count": 97,
   "metadata": {},
   "outputs": [
    {
     "name": "stdout",
     "output_type": "stream",
     "text": [
      "    BP_1  BP_2\n",
      "1      2     3\n",
      "5      1     3\n",
      "10     1     2\n",
      "1\n",
      "BP_1    2\n",
      "BP_2    3\n",
      "Name: 1, dtype: int64\n",
      "['BP_1', 'BP_2', 'BP_3', 'BP_4', 'BP_5', 'BP_6', 'BP_7', 'BP_8', 'BP_9', 'BP_10', 'BP_11', 'BP_12', 'BP_13', 'BP_14', 'BP_15', 'BP_16', 'BP_17', 'BP_18', 'BP_19', 'BP_20', 'BP_21', 'BP_22', 'BP_23', 'BP_24']\n"
     ]
    }
   ],
   "source": [
    "x=[2,3]\n",
    "blocking_probability_table_Q0 = pd.DataFrame([x,[1,3],[1,2]],index=[1, 5, 10], columns=['BP_1', 'BP_2'])\n",
    "print(blocking_probability_table_Q0)\n",
    "print(blocking_probability_table_Q0['BP_1'].iloc[1])\n",
    "print(blocking_probability_table_Q0.iloc[0,:])\n",
    "print([\"BP_\"+str(i) for i in range(1, 25)])"
   ]
  },
  {
   "cell_type": "code",
   "execution_count": 41,
   "metadata": {},
   "outputs": [
    {
     "name": "stdout",
     "output_type": "stream",
     "text": [
      "0.0\n"
     ]
    }
   ],
   "source": [
    "blocking_probability_table_QS = pd.DataFrame()"
   ]
  },
  {
   "cell_type": "code",
   "execution_count": 113,
   "metadata": {},
   "outputs": [
    {
     "name": "stdout",
     "output_type": "stream",
     "text": [
      "[1. 2. 3.]\n",
      "2.0\n"
     ]
    }
   ],
   "source": [
    "x = np.zeros(0)\n",
    "x = np.append(x, [1,2,3])\n",
    "print(x)\n",
    "print(x.mean())"
   ]
  },
  {
   "cell_type": "code",
   "execution_count": 13,
   "metadata": {},
   "outputs": [
    {
     "name": "stdout",
     "output_type": "stream",
     "text": [
      "1\n"
     ]
    }
   ],
   "source": [
    "print( random.randint(1,10) ) "
   ]
  },
  {
   "cell_type": "code",
   "execution_count": 14,
   "metadata": {},
   "outputs": [],
   "source": [
    "def sim(pos):\n",
    "    return random.randint(1, 1001) < pos*1000"
   ]
  },
  {
   "cell_type": "code",
   "execution_count": 26,
   "metadata": {},
   "outputs": [
    {
     "name": "stdout",
     "output_type": "stream",
     "text": [
      "9675\n"
     ]
    }
   ],
   "source": [
    "count = 0\n",
    "for i in range(100000):\n",
    "    if(sim(0.1)):\n",
    "        count += 1\n",
    "print(count)"
   ]
  },
  {
   "cell_type": "code",
   "execution_count": 20,
   "metadata": {},
   "outputs": [],
   "source": [
    "def sim2(prob):\n",
    "    poll = np.arange(1, 1001)\n",
    "    select = np.random.choice(poll)\n",
    "    return select <= prob*1000"
   ]
  },
  {
   "cell_type": "code",
   "execution_count": 23,
   "metadata": {},
   "outputs": [
    {
     "name": "stdout",
     "output_type": "stream",
     "text": [
      "10055\n"
     ]
    }
   ],
   "source": [
    "count = 0\n",
    "for i in range(100000):\n",
    "    if(sim2(0.1)):\n",
    "        count += 1\n",
    "print(count)"
   ]
  },
  {
   "cell_type": "code",
   "execution_count": null,
   "metadata": {},
   "outputs": [],
   "source": []
  }
 ],
 "metadata": {
  "kernelspec": {
   "display_name": "Python 3",
   "language": "python",
   "name": "python3"
  },
  "language_info": {
   "codemirror_mode": {
    "name": "ipython",
    "version": 3
   },
   "file_extension": ".py",
   "mimetype": "text/x-python",
   "name": "python",
   "nbconvert_exporter": "python",
   "pygments_lexer": "ipython3",
   "version": "3.7.6"
  }
 },
 "nbformat": 4,
 "nbformat_minor": 4
}
